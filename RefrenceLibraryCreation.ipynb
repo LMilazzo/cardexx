{
 "cells": [
  {
   "cell_type": "code",
   "execution_count": 1,
   "id": "b6c3da29",
   "metadata": {},
   "outputs": [],
   "source": [
    "from pokemontcgsdk import Card, Set, RestClient\n",
    "from PIL import Image\n",
    "from io import BytesIO\n",
    "import requests\n",
    "import pandas as pd\n",
    "from sentence_transformers import SentenceTransformer\n",
    "from Utils.cardParser import extractCore\n",
    "import time\n",
    "from requests.exceptions import ConnectionError, Timeout, HTTPError\n",
    "import os\n",
    "import numpy as np\n",
    "from tqdm.notebook import tqdm"
   ]
  },
  {
   "cell_type": "code",
   "execution_count": 2,
   "id": "b844888c",
   "metadata": {},
   "outputs": [],
   "source": [
    "api_key = \"api-key\"\n",
    "RestClient.configure(api_key)"
   ]
  },
  {
   "cell_type": "code",
   "execution_count": null,
   "id": "248235c5",
   "metadata": {},
   "outputs": [],
   "source": [
    "cards = Card.all()#fetch all cards from the sdk"
   ]
  },
  {
   "cell_type": "code",
   "execution_count": 3,
   "id": "2daaf3aa",
   "metadata": {},
   "outputs": [],
   "source": [
    "#Parse the objects to a dataframe each card as a row\n",
    "#df = pd.DataFrame(columns=[\"id\", \"name\", \"rarity\", \"superType\", \"img_path_small\"])\n",
    "\n",
    "#for card in tqdm(cards, total = len(cards), desc=\"Processing data\"):\n",
    "#    df.loc[len(df)] = extractCore(card)\n",
    "\n",
    "df = pd.read_parquet(\"ALL_CARDS.parquet\")"
   ]
  },
  {
   "cell_type": "code",
   "execution_count": 4,
   "id": "5f032020",
   "metadata": {},
   "outputs": [
    {
     "name": "stderr",
     "output_type": "stream",
     "text": [
      "Using a slow image processor as `use_fast` is unset and a slow processor was saved with this model. `use_fast=True` will be the default behavior in v4.52, even if the model was saved with a slow processor. This will result in minor differences in outputs. You'll still be able to use a slow processor with `use_fast=False`.\n"
     ]
    }
   ],
   "source": [
    "model = SentenceTransformer(\"clip-ViT-B-16\")"
   ]
  },
  {
   "cell_type": "code",
   "execution_count": 5,
   "id": "2abb8c97",
   "metadata": {},
   "outputs": [],
   "source": [
    "embeddings = []"
   ]
  },
  {
   "cell_type": "code",
   "execution_count": 10,
   "id": "bab3ec6e",
   "metadata": {},
   "outputs": [
    {
     "data": {
      "text/html": [
       "<div>\n",
       "<style scoped>\n",
       "    .dataframe tbody tr th:only-of-type {\n",
       "        vertical-align: middle;\n",
       "    }\n",
       "\n",
       "    .dataframe tbody tr th {\n",
       "        vertical-align: top;\n",
       "    }\n",
       "\n",
       "    .dataframe thead th {\n",
       "        text-align: right;\n",
       "    }\n",
       "</style>\n",
       "<table border=\"1\" class=\"dataframe\">\n",
       "  <thead>\n",
       "    <tr style=\"text-align: right;\">\n",
       "      <th></th>\n",
       "      <th>id</th>\n",
       "      <th>name</th>\n",
       "      <th>rarity</th>\n",
       "      <th>img_path_small</th>\n",
       "      <th>supertype</th>\n",
       "    </tr>\n",
       "  </thead>\n",
       "  <tbody>\n",
       "    <tr>\n",
       "      <th>0</th>\n",
       "      <td>base1-1</td>\n",
       "      <td>Alakazam</td>\n",
       "      <td>Rare Holo</td>\n",
       "      <td>https://images.pokemontcg.io/base1/1.png</td>\n",
       "      <td>Pokémon</td>\n",
       "    </tr>\n",
       "    <tr>\n",
       "      <th>1</th>\n",
       "      <td>base1-2</td>\n",
       "      <td>Blastoise</td>\n",
       "      <td>Rare Holo</td>\n",
       "      <td>https://images.pokemontcg.io/base1/2.png</td>\n",
       "      <td>Pokémon</td>\n",
       "    </tr>\n",
       "    <tr>\n",
       "      <th>2</th>\n",
       "      <td>base1-3</td>\n",
       "      <td>Chansey</td>\n",
       "      <td>Rare Holo</td>\n",
       "      <td>https://images.pokemontcg.io/base1/3.png</td>\n",
       "      <td>Pokémon</td>\n",
       "    </tr>\n",
       "    <tr>\n",
       "      <th>3</th>\n",
       "      <td>base1-4</td>\n",
       "      <td>Charizard</td>\n",
       "      <td>Rare Holo</td>\n",
       "      <td>https://images.pokemontcg.io/base1/4.png</td>\n",
       "      <td>Pokémon</td>\n",
       "    </tr>\n",
       "  </tbody>\n",
       "</table>\n",
       "</div>"
      ],
      "text/plain": [
       "        id       name     rarity                            img_path_small  \\\n",
       "0  base1-1   Alakazam  Rare Holo  https://images.pokemontcg.io/base1/1.png   \n",
       "1  base1-2  Blastoise  Rare Holo  https://images.pokemontcg.io/base1/2.png   \n",
       "2  base1-3    Chansey  Rare Holo  https://images.pokemontcg.io/base1/3.png   \n",
       "3  base1-4  Charizard  Rare Holo  https://images.pokemontcg.io/base1/4.png   \n",
       "\n",
       "  supertype  \n",
       "0   Pokémon  \n",
       "1   Pokémon  \n",
       "2   Pokémon  \n",
       "3   Pokémon  "
      ]
     },
     "execution_count": 10,
     "metadata": {},
     "output_type": "execute_result"
    }
   ],
   "source": [
    "df.rename(columns={\"id\":\"id\", \"name\":\"name\", \"rarity\":\"rarity\", \"small_image\":\"img_path_small\", \"supertype\":\"supertype\"}, inplace=True)\n",
    "df.head(4)"
   ]
  },
  {
   "cell_type": "code",
   "execution_count": 11,
   "id": "4183904f",
   "metadata": {},
   "outputs": [
    {
     "data": {
      "application/vnd.jupyter.widget-view+json": {
       "model_id": "507c1901b76145519ec3d71c8afe644b",
       "version_major": 2,
       "version_minor": 0
      },
      "text/plain": [
       "Processing Rows:   0%|          | 0/19653 [00:00<?, ?it/s]"
      ]
     },
     "metadata": {},
     "output_type": "display_data"
    },
    {
     "name": "stderr",
     "output_type": "stream",
     "text": [
      "c:\\Users\\lucas\\anaconda3\\envs\\Gastly\\Lib\\site-packages\\PIL\\Image.py:1047: UserWarning: Palette images with Transparency expressed in bytes should be converted to RGBA images\n",
      "  warnings.warn(\n"
     ]
    }
   ],
   "source": [
    "for index, c in tqdm(df.iterrows(), total=len(df), desc=\"Processing Rows\"):\n",
    "\n",
    "    img = requests.get(c[\"img_path_small\"]).content\n",
    "    img = Image.open(BytesIO(img))\n",
    "    \n",
    "    emb = model.encode(img, normalize_embeddings=True)\n",
    "    embeddings.append(emb)"
   ]
  },
  {
   "cell_type": "code",
   "execution_count": 12,
   "id": "82d48382",
   "metadata": {},
   "outputs": [],
   "source": [
    "df[\"embedding\"] = embeddings"
   ]
  },
  {
   "cell_type": "code",
   "execution_count": 13,
   "id": "1b7e6ef8",
   "metadata": {},
   "outputs": [
    {
     "data": {
      "text/html": [
       "<div>\n",
       "<style scoped>\n",
       "    .dataframe tbody tr th:only-of-type {\n",
       "        vertical-align: middle;\n",
       "    }\n",
       "\n",
       "    .dataframe tbody tr th {\n",
       "        vertical-align: top;\n",
       "    }\n",
       "\n",
       "    .dataframe thead th {\n",
       "        text-align: right;\n",
       "    }\n",
       "</style>\n",
       "<table border=\"1\" class=\"dataframe\">\n",
       "  <thead>\n",
       "    <tr style=\"text-align: right;\">\n",
       "      <th></th>\n",
       "      <th>id</th>\n",
       "      <th>name</th>\n",
       "      <th>rarity</th>\n",
       "      <th>img_path_small</th>\n",
       "      <th>supertype</th>\n",
       "      <th>embedding</th>\n",
       "    </tr>\n",
       "  </thead>\n",
       "  <tbody>\n",
       "    <tr>\n",
       "      <th>0</th>\n",
       "      <td>base1-1</td>\n",
       "      <td>Alakazam</td>\n",
       "      <td>Rare Holo</td>\n",
       "      <td>https://images.pokemontcg.io/base1/1.png</td>\n",
       "      <td>Pokémon</td>\n",
       "      <td>[0.050831325, -0.03796756, 0.024911977, 0.0140...</td>\n",
       "    </tr>\n",
       "    <tr>\n",
       "      <th>1</th>\n",
       "      <td>base1-2</td>\n",
       "      <td>Blastoise</td>\n",
       "      <td>Rare Holo</td>\n",
       "      <td>https://images.pokemontcg.io/base1/2.png</td>\n",
       "      <td>Pokémon</td>\n",
       "      <td>[0.045375768, -0.053173628, 0.03134433, 0.0273...</td>\n",
       "    </tr>\n",
       "    <tr>\n",
       "      <th>2</th>\n",
       "      <td>base1-3</td>\n",
       "      <td>Chansey</td>\n",
       "      <td>Rare Holo</td>\n",
       "      <td>https://images.pokemontcg.io/base1/3.png</td>\n",
       "      <td>Pokémon</td>\n",
       "      <td>[0.10473484, -0.053638723, 0.021468604, 0.0194...</td>\n",
       "    </tr>\n",
       "    <tr>\n",
       "      <th>3</th>\n",
       "      <td>base1-4</td>\n",
       "      <td>Charizard</td>\n",
       "      <td>Rare Holo</td>\n",
       "      <td>https://images.pokemontcg.io/base1/4.png</td>\n",
       "      <td>Pokémon</td>\n",
       "      <td>[0.043872546, -0.052383587, 0.0032058612, 0.04...</td>\n",
       "    </tr>\n",
       "    <tr>\n",
       "      <th>4</th>\n",
       "      <td>base1-5</td>\n",
       "      <td>Clefairy</td>\n",
       "      <td>Rare Holo</td>\n",
       "      <td>https://images.pokemontcg.io/base1/5.png</td>\n",
       "      <td>Pokémon</td>\n",
       "      <td>[0.07277652, -0.037050337, 0.0074084904, 0.041...</td>\n",
       "    </tr>\n",
       "    <tr>\n",
       "      <th>5</th>\n",
       "      <td>base1-6</td>\n",
       "      <td>Gyarados</td>\n",
       "      <td>Rare Holo</td>\n",
       "      <td>https://images.pokemontcg.io/base1/6.png</td>\n",
       "      <td>Pokémon</td>\n",
       "      <td>[0.072361045, -0.087607674, 0.011755845, 0.012...</td>\n",
       "    </tr>\n",
       "    <tr>\n",
       "      <th>6</th>\n",
       "      <td>base1-7</td>\n",
       "      <td>Hitmonchan</td>\n",
       "      <td>Rare Holo</td>\n",
       "      <td>https://images.pokemontcg.io/base1/7.png</td>\n",
       "      <td>Pokémon</td>\n",
       "      <td>[0.05420909, -0.045752537, 0.01779943, 0.00174...</td>\n",
       "    </tr>\n",
       "    <tr>\n",
       "      <th>7</th>\n",
       "      <td>base1-8</td>\n",
       "      <td>Machamp</td>\n",
       "      <td>Rare Holo</td>\n",
       "      <td>https://images.pokemontcg.io/base1/8.png</td>\n",
       "      <td>Pokémon</td>\n",
       "      <td>[0.066932246, -0.049026825, 0.026209813, 0.020...</td>\n",
       "    </tr>\n",
       "    <tr>\n",
       "      <th>8</th>\n",
       "      <td>base1-9</td>\n",
       "      <td>Magneton</td>\n",
       "      <td>Rare Holo</td>\n",
       "      <td>https://images.pokemontcg.io/base1/9.png</td>\n",
       "      <td>Pokémon</td>\n",
       "      <td>[0.061491445, -0.06472015, 0.013530687, 0.0082...</td>\n",
       "    </tr>\n",
       "    <tr>\n",
       "      <th>9</th>\n",
       "      <td>base1-10</td>\n",
       "      <td>Mewtwo</td>\n",
       "      <td>Rare Holo</td>\n",
       "      <td>https://images.pokemontcg.io/base1/10.png</td>\n",
       "      <td>Pokémon</td>\n",
       "      <td>[0.048385024, -0.03590499, 0.035184816, 0.0423...</td>\n",
       "    </tr>\n",
       "  </tbody>\n",
       "</table>\n",
       "</div>"
      ],
      "text/plain": [
       "         id        name     rarity                             img_path_small  \\\n",
       "0   base1-1    Alakazam  Rare Holo   https://images.pokemontcg.io/base1/1.png   \n",
       "1   base1-2   Blastoise  Rare Holo   https://images.pokemontcg.io/base1/2.png   \n",
       "2   base1-3     Chansey  Rare Holo   https://images.pokemontcg.io/base1/3.png   \n",
       "3   base1-4   Charizard  Rare Holo   https://images.pokemontcg.io/base1/4.png   \n",
       "4   base1-5    Clefairy  Rare Holo   https://images.pokemontcg.io/base1/5.png   \n",
       "5   base1-6    Gyarados  Rare Holo   https://images.pokemontcg.io/base1/6.png   \n",
       "6   base1-7  Hitmonchan  Rare Holo   https://images.pokemontcg.io/base1/7.png   \n",
       "7   base1-8     Machamp  Rare Holo   https://images.pokemontcg.io/base1/8.png   \n",
       "8   base1-9    Magneton  Rare Holo   https://images.pokemontcg.io/base1/9.png   \n",
       "9  base1-10      Mewtwo  Rare Holo  https://images.pokemontcg.io/base1/10.png   \n",
       "\n",
       "  supertype                                          embedding  \n",
       "0   Pokémon  [0.050831325, -0.03796756, 0.024911977, 0.0140...  \n",
       "1   Pokémon  [0.045375768, -0.053173628, 0.03134433, 0.0273...  \n",
       "2   Pokémon  [0.10473484, -0.053638723, 0.021468604, 0.0194...  \n",
       "3   Pokémon  [0.043872546, -0.052383587, 0.0032058612, 0.04...  \n",
       "4   Pokémon  [0.07277652, -0.037050337, 0.0074084904, 0.041...  \n",
       "5   Pokémon  [0.072361045, -0.087607674, 0.011755845, 0.012...  \n",
       "6   Pokémon  [0.05420909, -0.045752537, 0.01779943, 0.00174...  \n",
       "7   Pokémon  [0.066932246, -0.049026825, 0.026209813, 0.020...  \n",
       "8   Pokémon  [0.061491445, -0.06472015, 0.013530687, 0.0082...  \n",
       "9   Pokémon  [0.048385024, -0.03590499, 0.035184816, 0.0423...  "
      ]
     },
     "execution_count": 13,
     "metadata": {},
     "output_type": "execute_result"
    }
   ],
   "source": [
    "df.head(10)"
   ]
  },
  {
   "cell_type": "code",
   "execution_count": 14,
   "id": "54bfdd9c",
   "metadata": {},
   "outputs": [],
   "source": [
    "df.to_parquet(\"FULL_MASTER_SET_b16.parquet\")"
   ]
  }
 ],
 "metadata": {
  "kernelspec": {
   "display_name": "Gastly",
   "language": "python",
   "name": "python3"
  },
  "language_info": {
   "codemirror_mode": {
    "name": "ipython",
    "version": 3
   },
   "file_extension": ".py",
   "mimetype": "text/x-python",
   "name": "python",
   "nbconvert_exporter": "python",
   "pygments_lexer": "ipython3",
   "version": "3.12.11"
  }
 },
 "nbformat": 4,
 "nbformat_minor": 5
}
