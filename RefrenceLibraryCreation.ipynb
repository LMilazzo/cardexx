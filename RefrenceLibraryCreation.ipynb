{
 "cells": [
  {
   "cell_type": "code",
   "execution_count": 1,
   "id": "b6c3da29",
   "metadata": {},
   "outputs": [],
   "source": [
    "from pokemontcgsdk import Card, Set, RestClient\n",
    "from PIL import Image\n",
    "from io import BytesIO\n",
    "import requests\n",
    "import pandas as pd\n",
    "from sentence_transformers import SentenceTransformer\n",
    "from Utils.cardParser import extractCore\n",
    "import time\n",
    "from requests.exceptions import ConnectionError, Timeout, HTTPError\n",
    "import os\n",
    "import numpy as np\n",
    "from tqdm.notebook import tqdm"
   ]
  },
  {
   "cell_type": "code",
   "execution_count": null,
   "id": "b844888c",
   "metadata": {},
   "outputs": [],
   "source": [
    "api_key = \"api-key\"\n",
    "RestClient.configure(api_key)"
   ]
  },
  {
   "cell_type": "code",
   "execution_count": null,
   "id": "248235c5",
   "metadata": {},
   "outputs": [],
   "source": [
    "cards = Card.all()#fetch all cards from the sdk"
   ]
  },
  {
   "cell_type": "code",
   "execution_count": null,
   "id": "2daaf3aa",
   "metadata": {},
   "outputs": [],
   "source": [
    "#Parse the objects to a dataframe each card as a row\n",
    "df = pd.DataFrame(columns=[\"id\", \"name\", \"rarity\", \"superType\", \"img_path_large\", \"img_path_small\", \"card_class_dump\"])\n",
    "\n",
    "for card in tqdm(cards, total = len(cards), desc=\"Processing data\"):\n",
    "    df.loc[len(df)] = extractCore(card)"
   ]
  },
  {
   "cell_type": "code",
   "execution_count": null,
   "id": "5f032020",
   "metadata": {},
   "outputs": [],
   "source": [
    "model = SentenceTransformer(\"clip-ViT-B-16\")"
   ]
  },
  {
   "cell_type": "code",
   "execution_count": null,
   "id": "2abb8c97",
   "metadata": {},
   "outputs": [],
   "source": [
    "embeddings = []"
   ]
  },
  {
   "cell_type": "code",
   "execution_count": null,
   "id": "4183904f",
   "metadata": {},
   "outputs": [],
   "source": [
    "for index, c in tqdm(df.iloc.iterrows(), total=len(df), desc=\"Processing Rows\"):\n",
    "\n",
    "    img = requests.get(c[\"img_path_small\"]).content\n",
    "    img = Image.open(BytesIO(img))\n",
    "    \n",
    "    emb = model.encode(img, normalize_embeddings=True)\n",
    "    embeddings.append(emb)"
   ]
  },
  {
   "cell_type": "code",
   "execution_count": null,
   "id": "82d48382",
   "metadata": {},
   "outputs": [],
   "source": [
    "df[\"embedding\"] = embeddings"
   ]
  },
  {
   "cell_type": "code",
   "execution_count": null,
   "id": "54bfdd9c",
   "metadata": {},
   "outputs": [],
   "source": [
    "df.to_parquet(\"MASTER_SET_b16.parquet\")"
   ]
  }
 ],
 "metadata": {
  "kernelspec": {
   "display_name": "Gastly",
   "language": "python",
   "name": "python3"
  },
  "language_info": {
   "codemirror_mode": {
    "name": "ipython",
    "version": 3
   },
   "file_extension": ".py",
   "mimetype": "text/x-python",
   "name": "python",
   "nbconvert_exporter": "python",
   "pygments_lexer": "ipython3",
   "version": "3.12.11"
  }
 },
 "nbformat": 4,
 "nbformat_minor": 5
}
