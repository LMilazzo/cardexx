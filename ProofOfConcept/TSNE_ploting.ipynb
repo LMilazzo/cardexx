{
 "cells": [
  {
   "cell_type": "code",
   "execution_count": 7,
   "id": "add5f219",
   "metadata": {},
   "outputs": [
    {
     "data": {
      "text/plain": [
       "'\\nThis module explores whether or not the CLIP generations from user taken images and the digital images turn out good and if they\\ncan really be compared, as seen by the tsne plot most of the cards were correctly clustered with their counterparts\\n'"
      ]
     },
     "execution_count": 7,
     "metadata": {},
     "output_type": "execute_result"
    }
   ],
   "source": [
    "import pandas as pd\n",
    "from sklearn.manifold import TSNE\n",
    "import numpy as np\n",
    "import os\n",
    "\n",
    "\"\"\"\n",
    "This module explores whether or not the CLIP generations from user taken images and the digital images turn out good and if they\n",
    "can really be compared, as seen by the tsne plot most of the cards were correctly clustered with their counterparts\n",
    "\"\"\""
   ]
  },
  {
   "cell_type": "code",
   "execution_count": 9,
   "id": "3de5be02",
   "metadata": {},
   "outputs": [],
   "source": [
    "truth_df = pd.read_pickle(\"Data/SV10_truth.pkl\")\n",
    "cap_df = pd.read_pickle(\"Data/SV10_captured.pkl\")"
   ]
  },
  {
   "cell_type": "code",
   "execution_count": 10,
   "id": "3085afc5",
   "metadata": {},
   "outputs": [
    {
     "name": "stdout",
     "output_type": "stream",
     "text": [
      "(21, 3)\n"
     ]
    },
    {
     "data": {
      "text/html": [
       "<div>\n",
       "<style scoped>\n",
       "    .dataframe tbody tr th:only-of-type {\n",
       "        vertical-align: middle;\n",
       "    }\n",
       "\n",
       "    .dataframe tbody tr th {\n",
       "        vertical-align: top;\n",
       "    }\n",
       "\n",
       "    .dataframe thead th {\n",
       "        text-align: right;\n",
       "    }\n",
       "</style>\n",
       "<table border=\"1\" class=\"dataframe\">\n",
       "  <thead>\n",
       "    <tr style=\"text-align: right;\">\n",
       "      <th></th>\n",
       "      <th>id</th>\n",
       "      <th>emb</th>\n",
       "      <th>class</th>\n",
       "    </tr>\n",
       "  </thead>\n",
       "  <tbody>\n",
       "    <tr>\n",
       "      <th>16</th>\n",
       "      <td>sv10-17</td>\n",
       "      <td>[1.2504067, 0.04769124, 0.08306568, 0.62093115...</td>\n",
       "      <td>truth</td>\n",
       "    </tr>\n",
       "    <tr>\n",
       "      <th>21</th>\n",
       "      <td>sv10-22</td>\n",
       "      <td>[1.3897394, 0.28314722, 0.33581403, -0.1016198...</td>\n",
       "      <td>truth</td>\n",
       "    </tr>\n",
       "    <tr>\n",
       "      <th>23</th>\n",
       "      <td>sv10-24</td>\n",
       "      <td>[1.1826667, -0.85501885, -0.39982924, 0.176627...</td>\n",
       "      <td>truth</td>\n",
       "    </tr>\n",
       "  </tbody>\n",
       "</table>\n",
       "</div>"
      ],
      "text/plain": [
       "         id                                                emb  class\n",
       "16  sv10-17  [1.2504067, 0.04769124, 0.08306568, 0.62093115...  truth\n",
       "21  sv10-22  [1.3897394, 0.28314722, 0.33581403, -0.1016198...  truth\n",
       "23  sv10-24  [1.1826667, -0.85501885, -0.39982924, 0.176627...  truth"
      ]
     },
     "execution_count": 10,
     "metadata": {},
     "output_type": "execute_result"
    }
   ],
   "source": [
    "truth_cross_df = truth_df[truth_df['id'].isin(cap_df['id'])]\n",
    "truth_cross_df = truth_cross_df.drop([\"supertype\", \"image\", \"name\"], axis = 1)\n",
    "truth_cross_df[\"class\"] = \"truth\"\n",
    "print(truth_cross_df.shape)\n",
    "truth_cross_df.head(3)"
   ]
  },
  {
   "cell_type": "code",
   "execution_count": 11,
   "id": "78372d45",
   "metadata": {},
   "outputs": [
    {
     "name": "stdout",
     "output_type": "stream",
     "text": [
      "(49, 3)\n"
     ]
    },
    {
     "data": {
      "text/html": [
       "<div>\n",
       "<style scoped>\n",
       "    .dataframe tbody tr th:only-of-type {\n",
       "        vertical-align: middle;\n",
       "    }\n",
       "\n",
       "    .dataframe tbody tr th {\n",
       "        vertical-align: top;\n",
       "    }\n",
       "\n",
       "    .dataframe thead th {\n",
       "        text-align: right;\n",
       "    }\n",
       "</style>\n",
       "<table border=\"1\" class=\"dataframe\">\n",
       "  <thead>\n",
       "    <tr style=\"text-align: right;\">\n",
       "      <th></th>\n",
       "      <th>id</th>\n",
       "      <th>emb</th>\n",
       "      <th>class</th>\n",
       "    </tr>\n",
       "  </thead>\n",
       "  <tbody>\n",
       "    <tr>\n",
       "      <th>0</th>\n",
       "      <td>sv10-103</td>\n",
       "      <td>[0.95359534, -0.2556382, 0.24236733, -0.079072...</td>\n",
       "      <td>cap</td>\n",
       "    </tr>\n",
       "    <tr>\n",
       "      <th>1</th>\n",
       "      <td>sv10-103</td>\n",
       "      <td>[0.68849266, -0.499305, 0.5636944, -0.10402526...</td>\n",
       "      <td>cap</td>\n",
       "    </tr>\n",
       "    <tr>\n",
       "      <th>2</th>\n",
       "      <td>sv10-116</td>\n",
       "      <td>[0.6393946, -0.010814317, 0.77857274, 0.084503...</td>\n",
       "      <td>cap</td>\n",
       "    </tr>\n",
       "  </tbody>\n",
       "</table>\n",
       "</div>"
      ],
      "text/plain": [
       "         id                                                emb class\n",
       "0  sv10-103  [0.95359534, -0.2556382, 0.24236733, -0.079072...   cap\n",
       "1  sv10-103  [0.68849266, -0.499305, 0.5636944, -0.10402526...   cap\n",
       "2  sv10-116  [0.6393946, -0.010814317, 0.77857274, 0.084503...   cap"
      ]
     },
     "execution_count": 11,
     "metadata": {},
     "output_type": "execute_result"
    }
   ],
   "source": [
    "cap_df.columns\n",
    "cap_df = cap_df.drop([\"path\"], axis=1)\n",
    "cap_df[\"class\"] = \"cap\"\n",
    "print(cap_df.shape)\n",
    "cap_df.head(3)"
   ]
  },
  {
   "cell_type": "code",
   "execution_count": 12,
   "id": "833be638",
   "metadata": {},
   "outputs": [
    {
     "data": {
      "text/plain": [
       "(70, 3)"
      ]
     },
     "execution_count": 12,
     "metadata": {},
     "output_type": "execute_result"
    }
   ],
   "source": [
    "data = pd.concat([cap_df, truth_cross_df], axis=0, ignore_index=True)\n",
    "data.shape"
   ]
  },
  {
   "cell_type": "code",
   "execution_count": 13,
   "id": "fe81fbd5",
   "metadata": {},
   "outputs": [],
   "source": [
    "m = TSNE(learning_rate=10)\n",
    "\n",
    "flat_data = np.stack(data[\"emb\"].values)\n",
    "\n",
    "tsne_features = m.fit_transform(flat_data)"
   ]
  },
  {
   "cell_type": "code",
   "execution_count": 14,
   "id": "e1e9f4b4",
   "metadata": {},
   "outputs": [],
   "source": [
    "data[\"x\"] = tsne_features[:,0]\n",
    "data[\"y\"] = tsne_features[:,1]"
   ]
  },
  {
   "cell_type": "code",
   "execution_count": 15,
   "id": "4b12902a",
   "metadata": {},
   "outputs": [
    {
     "data": {
      "text/html": [
       "<div>\n",
       "<style scoped>\n",
       "    .dataframe tbody tr th:only-of-type {\n",
       "        vertical-align: middle;\n",
       "    }\n",
       "\n",
       "    .dataframe tbody tr th {\n",
       "        vertical-align: top;\n",
       "    }\n",
       "\n",
       "    .dataframe thead th {\n",
       "        text-align: right;\n",
       "    }\n",
       "</style>\n",
       "<table border=\"1\" class=\"dataframe\">\n",
       "  <thead>\n",
       "    <tr style=\"text-align: right;\">\n",
       "      <th></th>\n",
       "      <th>id</th>\n",
       "      <th>emb</th>\n",
       "      <th>class</th>\n",
       "      <th>x</th>\n",
       "      <th>y</th>\n",
       "    </tr>\n",
       "  </thead>\n",
       "  <tbody>\n",
       "    <tr>\n",
       "      <th>0</th>\n",
       "      <td>sv10-103</td>\n",
       "      <td>[0.95359534, -0.2556382, 0.24236733, -0.079072...</td>\n",
       "      <td>cap</td>\n",
       "      <td>-2.435904</td>\n",
       "      <td>0.219656</td>\n",
       "    </tr>\n",
       "    <tr>\n",
       "      <th>1</th>\n",
       "      <td>sv10-103</td>\n",
       "      <td>[0.68849266, -0.499305, 0.5636944, -0.10402526...</td>\n",
       "      <td>cap</td>\n",
       "      <td>-4.299172</td>\n",
       "      <td>2.518450</td>\n",
       "    </tr>\n",
       "    <tr>\n",
       "      <th>2</th>\n",
       "      <td>sv10-116</td>\n",
       "      <td>[0.6393946, -0.010814317, 0.77857274, 0.084503...</td>\n",
       "      <td>cap</td>\n",
       "      <td>-2.352702</td>\n",
       "      <td>2.035066</td>\n",
       "    </tr>\n",
       "  </tbody>\n",
       "</table>\n",
       "</div>"
      ],
      "text/plain": [
       "         id                                                emb class  \\\n",
       "0  sv10-103  [0.95359534, -0.2556382, 0.24236733, -0.079072...   cap   \n",
       "1  sv10-103  [0.68849266, -0.499305, 0.5636944, -0.10402526...   cap   \n",
       "2  sv10-116  [0.6393946, -0.010814317, 0.77857274, 0.084503...   cap   \n",
       "\n",
       "          x         y  \n",
       "0 -2.435904  0.219656  \n",
       "1 -4.299172  2.518450  \n",
       "2 -2.352702  2.035066  "
      ]
     },
     "execution_count": 15,
     "metadata": {},
     "output_type": "execute_result"
    }
   ],
   "source": [
    "data.head(3)"
   ]
  },
  {
   "cell_type": "code",
   "execution_count": 21,
   "id": "c9d8daea",
   "metadata": {},
   "outputs": [
    {
     "data": {
      "application/vnd.plotly.v1+json": {
       "config": {
        "plotlyServerURL": "https://plot.ly"
       },
       "data": [
        {
         "hovertemplate": "id=sv10-103<br>class=cap<br>x=%{x}<br>y=%{y}<extra></extra>",
         "legendgroup": "sv10-103, cap",
         "marker": {
          "color": "#636efa",
          "symbol": "circle"
         },
         "mode": "markers",
         "name": "sv10-103, cap",
         "orientation": "v",
         "showlegend": true,
         "type": "scatter",
         "x": {
          "bdata": "2uUbwNGSicA=",
          "dtype": "f4"
         },
         "xaxis": "x",
         "y": {
          "bdata": "gu1gPkcuIUA=",
          "dtype": "f4"
         },
         "yaxis": "y"
        },
        {
         "hovertemplate": "id=sv10-103<br>class=truth<br>x=%{x}<br>y=%{y}<extra></extra>",
         "legendgroup": "sv10-103, truth",
         "marker": {
          "color": "#636efa",
          "symbol": "diamond"
         },
         "mode": "markers",
         "name": "sv10-103, truth",
         "orientation": "v",
         "showlegend": true,
         "type": "scatter",
         "x": {
          "bdata": "gGEYwA==",
          "dtype": "f4"
         },
         "xaxis": "x",
         "y": {
          "bdata": "PM1WPg==",
          "dtype": "f4"
         },
         "yaxis": "y"
        },
        {
         "hovertemplate": "id=sv10-116<br>class=cap<br>x=%{x}<br>y=%{y}<extra></extra>",
         "legendgroup": "sv10-116, cap",
         "marker": {
          "color": "#EF553B",
          "symbol": "circle"
         },
         "mode": "markers",
         "name": "sv10-116, cap",
         "orientation": "v",
         "showlegend": true,
         "type": "scatter",
         "x": {
          "bdata": "rJIWwPoOE8A=",
          "dtype": "f4"
         },
         "xaxis": "x",
         "y": {
          "bdata": "hD4CQOH7DEA=",
          "dtype": "f4"
         },
         "yaxis": "y"
        },
        {
         "hovertemplate": "id=sv10-116<br>class=truth<br>x=%{x}<br>y=%{y}<extra></extra>",
         "legendgroup": "sv10-116, truth",
         "marker": {
          "color": "#EF553B",
          "symbol": "diamond"
         },
         "mode": "markers",
         "name": "sv10-116, truth",
         "orientation": "v",
         "showlegend": true,
         "type": "scatter",
         "x": {
          "bdata": "m6AmwA==",
          "dtype": "f4"
         },
         "xaxis": "x",
         "y": {
          "bdata": "hNbiPw==",
          "dtype": "f4"
         },
         "yaxis": "y"
        },
        {
         "hovertemplate": "id=sv10-121<br>class=cap<br>x=%{x}<br>y=%{y}<extra></extra>",
         "legendgroup": "sv10-121, cap",
         "marker": {
          "color": "#00cc96",
          "symbol": "circle"
         },
         "mode": "markers",
         "name": "sv10-121, cap",
         "orientation": "v",
         "showlegend": true,
         "type": "scatter",
         "x": {
          "bdata": "mUaXwFVmfMA=",
          "dtype": "f4"
         },
         "xaxis": "x",
         "y": {
          "bdata": "fCklQC52uD4=",
          "dtype": "f4"
         },
         "yaxis": "y"
        },
        {
         "hovertemplate": "id=sv10-121<br>class=truth<br>x=%{x}<br>y=%{y}<extra></extra>",
         "legendgroup": "sv10-121, truth",
         "marker": {
          "color": "#00cc96",
          "symbol": "diamond"
         },
         "mode": "markers",
         "name": "sv10-121, truth",
         "orientation": "v",
         "showlegend": true,
         "type": "scatter",
         "x": {
          "bdata": "9MqAwA==",
          "dtype": "f4"
         },
         "xaxis": "x",
         "y": {
          "bdata": "9VaCPg==",
          "dtype": "f4"
         },
         "yaxis": "y"
        },
        {
         "hovertemplate": "id=sv10-123<br>class=cap<br>x=%{x}<br>y=%{y}<extra></extra>",
         "legendgroup": "sv10-123, cap",
         "marker": {
          "color": "#ab63fa",
          "symbol": "circle"
         },
         "mode": "markers",
         "name": "sv10-123, cap",
         "orientation": "v",
         "showlegend": true,
         "type": "scatter",
         "x": {
          "bdata": "T1TOwIuozcA=",
          "dtype": "f4"
         },
         "xaxis": "x",
         "y": {
          "bdata": "pWP4Po7h7j4=",
          "dtype": "f4"
         },
         "yaxis": "y"
        },
        {
         "hovertemplate": "id=sv10-123<br>class=truth<br>x=%{x}<br>y=%{y}<extra></extra>",
         "legendgroup": "sv10-123, truth",
         "marker": {
          "color": "#ab63fa",
          "symbol": "diamond"
         },
         "mode": "markers",
         "name": "sv10-123, truth",
         "orientation": "v",
         "showlegend": true,
         "type": "scatter",
         "x": {
          "bdata": "wAHXwA==",
          "dtype": "f4"
         },
         "xaxis": "x",
         "y": {
          "bdata": "ZmqyvQ==",
          "dtype": "f4"
         },
         "yaxis": "y"
        },
        {
         "hovertemplate": "id=sv10-131<br>class=cap<br>x=%{x}<br>y=%{y}<extra></extra>",
         "legendgroup": "sv10-131, cap",
         "marker": {
          "color": "#FFA15A",
          "symbol": "circle"
         },
         "mode": "markers",
         "name": "sv10-131, cap",
         "orientation": "v",
         "showlegend": true,
         "type": "scatter",
         "x": {
          "bdata": "OAc7wCESPsA=",
          "dtype": "f4"
         },
         "xaxis": "x",
         "y": {
          "bdata": "I/ySQJXwjUA=",
          "dtype": "f4"
         },
         "yaxis": "y"
        },
        {
         "hovertemplate": "id=sv10-131<br>class=truth<br>x=%{x}<br>y=%{y}<extra></extra>",
         "legendgroup": "sv10-131, truth",
         "marker": {
          "color": "#FFA15A",
          "symbol": "diamond"
         },
         "mode": "markers",
         "name": "sv10-131, truth",
         "orientation": "v",
         "showlegend": true,
         "type": "scatter",
         "x": {
          "bdata": "kus8wA==",
          "dtype": "f4"
         },
         "xaxis": "x",
         "y": {
          "bdata": "qgGhQA==",
          "dtype": "f4"
         },
         "yaxis": "y"
        },
        {
         "hovertemplate": "id=sv10-138<br>class=cap<br>x=%{x}<br>y=%{y}<extra></extra>",
         "legendgroup": "sv10-138, cap",
         "marker": {
          "color": "#19d3f3",
          "symbol": "circle"
         },
         "mode": "markers",
         "name": "sv10-138, cap",
         "orientation": "v",
         "showlegend": true,
         "type": "scatter",
         "x": {
          "bdata": "R06sPlS5074=",
          "dtype": "f4"
         },
         "xaxis": "x",
         "y": {
          "bdata": "fMrVQO0S0UA=",
          "dtype": "f4"
         },
         "yaxis": "y"
        },
        {
         "hovertemplate": "id=sv10-138<br>class=truth<br>x=%{x}<br>y=%{y}<extra></extra>",
         "legendgroup": "sv10-138, truth",
         "marker": {
          "color": "#19d3f3",
          "symbol": "diamond"
         },
         "mode": "markers",
         "name": "sv10-138, truth",
         "orientation": "v",
         "showlegend": true,
         "type": "scatter",
         "x": {
          "bdata": "aHAXvw==",
          "dtype": "f4"
         },
         "xaxis": "x",
         "y": {
          "bdata": "MADQQA==",
          "dtype": "f4"
         },
         "yaxis": "y"
        },
        {
         "hovertemplate": "id=sv10-144<br>class=cap<br>x=%{x}<br>y=%{y}<extra></extra>",
         "legendgroup": "sv10-144, cap",
         "marker": {
          "color": "#FF6692",
          "symbol": "circle"
         },
         "mode": "markers",
         "name": "sv10-144, cap",
         "orientation": "v",
         "showlegend": true,
         "type": "scatter",
         "x": {
          "bdata": "jqS6vzWIyb+Mws2/KAgWwA==",
          "dtype": "f4"
         },
         "xaxis": "x",
         "y": {
          "bdata": "Rbbbv18FB8BPPAHAExUIwA==",
          "dtype": "f4"
         },
         "yaxis": "y"
        },
        {
         "hovertemplate": "id=sv10-144<br>class=truth<br>x=%{x}<br>y=%{y}<extra></extra>",
         "legendgroup": "sv10-144, truth",
         "marker": {
          "color": "#FF6692",
          "symbol": "diamond"
         },
         "mode": "markers",
         "name": "sv10-144, truth",
         "orientation": "v",
         "showlegend": true,
         "type": "scatter",
         "x": {
          "bdata": "j9kBwA==",
          "dtype": "f4"
         },
         "xaxis": "x",
         "y": {
          "bdata": "7QzDvw==",
          "dtype": "f4"
         },
         "yaxis": "y"
        },
        {
         "hovertemplate": "id=sv10-156<br>class=cap<br>x=%{x}<br>y=%{y}<extra></extra>",
         "legendgroup": "sv10-156, cap",
         "marker": {
          "color": "#B6E880",
          "symbol": "circle"
         },
         "mode": "markers",
         "name": "sv10-156, cap",
         "orientation": "v",
         "showlegend": true,
         "type": "scatter",
         "x": {
          "bdata": "hkV3QOTyjUCDLJRAbFtzQA==",
          "dtype": "f4"
         },
         "xaxis": "x",
         "y": {
          "bdata": "wo+YwMW9j8BP6ZzAwtigwA==",
          "dtype": "f4"
         },
         "yaxis": "y"
        },
        {
         "hovertemplate": "id=sv10-156<br>class=truth<br>x=%{x}<br>y=%{y}<extra></extra>",
         "legendgroup": "sv10-156, truth",
         "marker": {
          "color": "#B6E880",
          "symbol": "diamond"
         },
         "mode": "markers",
         "name": "sv10-156, truth",
         "orientation": "v",
         "showlegend": true,
         "type": "scatter",
         "x": {
          "bdata": "jcaMQA==",
          "dtype": "f4"
         },
         "xaxis": "x",
         "y": {
          "bdata": "x8mAwA==",
          "dtype": "f4"
         },
         "yaxis": "y"
        },
        {
         "hovertemplate": "id=sv10-17<br>class=cap<br>x=%{x}<br>y=%{y}<extra></extra>",
         "legendgroup": "sv10-17, cap",
         "marker": {
          "color": "#FF97FF",
          "symbol": "circle"
         },
         "mode": "markers",
         "name": "sv10-17, cap",
         "orientation": "v",
         "showlegend": true,
         "type": "scatter",
         "x": {
          "bdata": "n1G8QAXbvEA=",
          "dtype": "f4"
         },
         "xaxis": "x",
         "y": {
          "bdata": "sgN5Ph8pdj4=",
          "dtype": "f4"
         },
         "yaxis": "y"
        },
        {
         "hovertemplate": "id=sv10-17<br>class=truth<br>x=%{x}<br>y=%{y}<extra></extra>",
         "legendgroup": "sv10-17, truth",
         "marker": {
          "color": "#FF97FF",
          "symbol": "diamond"
         },
         "mode": "markers",
         "name": "sv10-17, truth",
         "orientation": "v",
         "showlegend": true,
         "type": "scatter",
         "x": {
          "bdata": "kUK5QA==",
          "dtype": "f4"
         },
         "xaxis": "x",
         "y": {
          "bdata": "iHk+Pw==",
          "dtype": "f4"
         },
         "yaxis": "y"
        },
        {
         "hovertemplate": "id=sv10-177<br>class=cap<br>x=%{x}<br>y=%{y}<extra></extra>",
         "legendgroup": "sv10-177, cap",
         "marker": {
          "color": "#FECB52",
          "symbol": "circle"
         },
         "mode": "markers",
         "name": "sv10-177, cap",
         "orientation": "v",
         "showlegend": true,
         "type": "scatter",
         "x": {
          "bdata": "FfKbwDoNuMA=",
          "dtype": "f4"
         },
         "xaxis": "x",
         "y": {
          "bdata": "sZAAwKSKVkA=",
          "dtype": "f4"
         },
         "yaxis": "y"
        },
        {
         "hovertemplate": "id=sv10-177<br>class=truth<br>x=%{x}<br>y=%{y}<extra></extra>",
         "legendgroup": "sv10-177, truth",
         "marker": {
          "color": "#FECB52",
          "symbol": "diamond"
         },
         "mode": "markers",
         "name": "sv10-177, truth",
         "orientation": "v",
         "showlegend": true,
         "type": "scatter",
         "x": {
          "bdata": "RcibwA==",
          "dtype": "f4"
         },
         "xaxis": "x",
         "y": {
          "bdata": "HsoBwA==",
          "dtype": "f4"
         },
         "yaxis": "y"
        },
        {
         "hovertemplate": "id=sv10-179<br>class=cap<br>x=%{x}<br>y=%{y}<extra></extra>",
         "legendgroup": "sv10-179, cap",
         "marker": {
          "color": "#636efa",
          "symbol": "circle"
         },
         "mode": "markers",
         "name": "sv10-179, cap",
         "orientation": "v",
         "showlegend": true,
         "type": "scatter",
         "x": {
          "bdata": "zVtXwFmEVMA=",
          "dtype": "f4"
         },
         "xaxis": "x",
         "y": {
          "bdata": "i2+NwMm1jcA=",
          "dtype": "f4"
         },
         "yaxis": "y"
        },
        {
         "hovertemplate": "id=sv10-179<br>class=truth<br>x=%{x}<br>y=%{y}<extra></extra>",
         "legendgroup": "sv10-179, truth",
         "marker": {
          "color": "#636efa",
          "symbol": "diamond"
         },
         "mode": "markers",
         "name": "sv10-179, truth",
         "orientation": "v",
         "showlegend": true,
         "type": "scatter",
         "x": {
          "bdata": "Jd14wA==",
          "dtype": "f4"
         },
         "xaxis": "x",
         "y": {
          "bdata": "8zWMwA==",
          "dtype": "f4"
         },
         "yaxis": "y"
        },
        {
         "hovertemplate": "id=sv10-22<br>class=cap<br>x=%{x}<br>y=%{y}<extra></extra>",
         "legendgroup": "sv10-22, cap",
         "marker": {
          "color": "#EF553B",
          "symbol": "circle"
         },
         "mode": "markers",
         "name": "sv10-22, cap",
         "orientation": "v",
         "showlegend": true,
         "type": "scatter",
         "x": {
          "bdata": "aRSAQGppiEA=",
          "dtype": "f4"
         },
         "xaxis": "x",
         "y": {
          "bdata": "I8w7QM9OakA=",
          "dtype": "f4"
         },
         "yaxis": "y"
        },
        {
         "hovertemplate": "id=sv10-22<br>class=truth<br>x=%{x}<br>y=%{y}<extra></extra>",
         "legendgroup": "sv10-22, truth",
         "marker": {
          "color": "#EF553B",
          "symbol": "diamond"
         },
         "mode": "markers",
         "name": "sv10-22, truth",
         "orientation": "v",
         "showlegend": true,
         "type": "scatter",
         "x": {
          "bdata": "cbB9QA==",
          "dtype": "f4"
         },
         "xaxis": "x",
         "y": {
          "bdata": "visyQA==",
          "dtype": "f4"
         },
         "yaxis": "y"
        },
        {
         "hovertemplate": "id=sv10-24<br>class=cap<br>x=%{x}<br>y=%{y}<extra></extra>",
         "legendgroup": "sv10-24, cap",
         "marker": {
          "color": "#00cc96",
          "symbol": "circle"
         },
         "mode": "markers",
         "name": "sv10-24, cap",
         "orientation": "v",
         "showlegend": true,
         "type": "scatter",
         "x": {
          "bdata": "3GlbvrOKj75lQsS+",
          "dtype": "f4"
         },
         "xaxis": "x",
         "y": {
          "bdata": "oouWwB2hl8Dx14/A",
          "dtype": "f4"
         },
         "yaxis": "y"
        },
        {
         "hovertemplate": "id=sv10-24<br>class=truth<br>x=%{x}<br>y=%{y}<extra></extra>",
         "legendgroup": "sv10-24, truth",
         "marker": {
          "color": "#00cc96",
          "symbol": "diamond"
         },
         "mode": "markers",
         "name": "sv10-24, truth",
         "orientation": "v",
         "showlegend": true,
         "type": "scatter",
         "x": {
          "bdata": "x6SRvQ==",
          "dtype": "f4"
         },
         "xaxis": "x",
         "y": {
          "bdata": "EjeywA==",
          "dtype": "f4"
         },
         "yaxis": "y"
        },
        {
         "hovertemplate": "id=sv10-33<br>class=cap<br>x=%{x}<br>y=%{y}<extra></extra>",
         "legendgroup": "sv10-33, cap",
         "marker": {
          "color": "#ab63fa",
          "symbol": "circle"
         },
         "mode": "markers",
         "name": "sv10-33, cap",
         "orientation": "v",
         "showlegend": true,
         "type": "scatter",
         "x": {
          "bdata": "xR/rP9sY6T8=",
          "dtype": "f4"
         },
         "xaxis": "x",
         "y": {
          "bdata": "ORRzQBXymUA=",
          "dtype": "f4"
         },
         "yaxis": "y"
        },
        {
         "hovertemplate": "id=sv10-33<br>class=truth<br>x=%{x}<br>y=%{y}<extra></extra>",
         "legendgroup": "sv10-33, truth",
         "marker": {
          "color": "#ab63fa",
          "symbol": "diamond"
         },
         "mode": "markers",
         "name": "sv10-33, truth",
         "orientation": "v",
         "showlegend": true,
         "type": "scatter",
         "x": {
          "bdata": "PYTuPw==",
          "dtype": "f4"
         },
         "xaxis": "x",
         "y": {
          "bdata": "eIRoQA==",
          "dtype": "f4"
         },
         "yaxis": "y"
        },
        {
         "hovertemplate": "id=sv10-35<br>class=cap<br>x=%{x}<br>y=%{y}<extra></extra>",
         "legendgroup": "sv10-35, cap",
         "marker": {
          "color": "#FFA15A",
          "symbol": "circle"
         },
         "mode": "markers",
         "name": "sv10-35, cap",
         "orientation": "v",
         "showlegend": true,
         "type": "scatter",
         "x": {
          "bdata": "IaAYQC2CHEA=",
          "dtype": "f4"
         },
         "xaxis": "x",
         "y": {
          "bdata": "6ri7P1X9uz8=",
          "dtype": "f4"
         },
         "yaxis": "y"
        },
        {
         "hovertemplate": "id=sv10-35<br>class=truth<br>x=%{x}<br>y=%{y}<extra></extra>",
         "legendgroup": "sv10-35, truth",
         "marker": {
          "color": "#FFA15A",
          "symbol": "diamond"
         },
         "mode": "markers",
         "name": "sv10-35, truth",
         "orientation": "v",
         "showlegend": true,
         "type": "scatter",
         "x": {
          "bdata": "KTniPw==",
          "dtype": "f4"
         },
         "xaxis": "x",
         "y": {
          "bdata": "loipPw==",
          "dtype": "f4"
         },
         "yaxis": "y"
        },
        {
         "hovertemplate": "id=sv10-37<br>class=cap<br>x=%{x}<br>y=%{y}<extra></extra>",
         "legendgroup": "sv10-37, cap",
         "marker": {
          "color": "#19d3f3",
          "symbol": "circle"
         },
         "mode": "markers",
         "name": "sv10-37, cap",
         "orientation": "v",
         "showlegend": true,
         "type": "scatter",
         "x": {
          "bdata": "FUsDP9xPGT8=",
          "dtype": "f4"
         },
         "xaxis": "x",
         "y": {
          "bdata": "pcwdQCJKNkA=",
          "dtype": "f4"
         },
         "yaxis": "y"
        },
        {
         "hovertemplate": "id=sv10-37<br>class=truth<br>x=%{x}<br>y=%{y}<extra></extra>",
         "legendgroup": "sv10-37, truth",
         "marker": {
          "color": "#19d3f3",
          "symbol": "diamond"
         },
         "mode": "markers",
         "name": "sv10-37, truth",
         "orientation": "v",
         "showlegend": true,
         "type": "scatter",
         "x": {
          "bdata": "Gqz1Pg==",
          "dtype": "f4"
         },
         "xaxis": "x",
         "y": {
          "bdata": "7E0VQA==",
          "dtype": "f4"
         },
         "yaxis": "y"
        },
        {
         "hovertemplate": "id=sv10-38<br>class=cap<br>x=%{x}<br>y=%{y}<extra></extra>",
         "legendgroup": "sv10-38, cap",
         "marker": {
          "color": "#FF6692",
          "symbol": "circle"
         },
         "mode": "markers",
         "name": "sv10-38, cap",
         "orientation": "v",
         "showlegend": true,
         "type": "scatter",
         "x": {
          "bdata": "rfgjv6oc6r4=",
          "dtype": "f4"
         },
         "xaxis": "x",
         "y": {
          "bdata": "H+FoQCxwdkA=",
          "dtype": "f4"
         },
         "yaxis": "y"
        },
        {
         "hovertemplate": "id=sv10-38<br>class=truth<br>x=%{x}<br>y=%{y}<extra></extra>",
         "legendgroup": "sv10-38, truth",
         "marker": {
          "color": "#FF6692",
          "symbol": "diamond"
         },
         "mode": "markers",
         "name": "sv10-38, truth",
         "orientation": "v",
         "showlegend": true,
         "type": "scatter",
         "x": {
          "bdata": "MghZvw==",
          "dtype": "f4"
         },
         "xaxis": "x",
         "y": {
          "bdata": "4lVYQA==",
          "dtype": "f4"
         },
         "yaxis": "y"
        },
        {
         "hovertemplate": "id=sv10-48<br>class=cap<br>x=%{x}<br>y=%{y}<extra></extra>",
         "legendgroup": "sv10-48, cap",
         "marker": {
          "color": "#B6E880",
          "symbol": "circle"
         },
         "mode": "markers",
         "name": "sv10-48, cap",
         "orientation": "v",
         "showlegend": true,
         "type": "scatter",
         "x": {
          "bdata": "5qlsP934ZD8=",
          "dtype": "f4"
         },
         "xaxis": "x",
         "y": {
          "bdata": "PGdwvoXxQL4=",
          "dtype": "f4"
         },
         "yaxis": "y"
        },
        {
         "hovertemplate": "id=sv10-48<br>class=truth<br>x=%{x}<br>y=%{y}<extra></extra>",
         "legendgroup": "sv10-48, truth",
         "marker": {
          "color": "#B6E880",
          "symbol": "diamond"
         },
         "mode": "markers",
         "name": "sv10-48, truth",
         "orientation": "v",
         "showlegend": true,
         "type": "scatter",
         "x": {
          "bdata": "TchCPw==",
          "dtype": "f4"
         },
         "xaxis": "x",
         "y": {
          "bdata": "460RPQ==",
          "dtype": "f4"
         },
         "yaxis": "y"
        },
        {
         "hovertemplate": "id=sv10-53<br>class=cap<br>x=%{x}<br>y=%{y}<extra></extra>",
         "legendgroup": "sv10-53, cap",
         "marker": {
          "color": "#FF97FF",
          "symbol": "circle"
         },
         "mode": "markers",
         "name": "sv10-53, cap",
         "orientation": "v",
         "showlegend": true,
         "type": "scatter",
         "x": {
          "bdata": "FPRYvxfPZ78=",
          "dtype": "f4"
         },
         "xaxis": "x",
         "y": {
          "bdata": "TW4YP2tSUz8=",
          "dtype": "f4"
         },
         "yaxis": "y"
        },
        {
         "hovertemplate": "id=sv10-53<br>class=truth<br>x=%{x}<br>y=%{y}<extra></extra>",
         "legendgroup": "sv10-53, truth",
         "marker": {
          "color": "#FF97FF",
          "symbol": "diamond"
         },
         "mode": "markers",
         "name": "sv10-53, truth",
         "orientation": "v",
         "showlegend": true,
         "type": "scatter",
         "x": {
          "bdata": "votlvw==",
          "dtype": "f4"
         },
         "xaxis": "x",
         "y": {
          "bdata": "/b6cPg==",
          "dtype": "f4"
         },
         "yaxis": "y"
        },
        {
         "hovertemplate": "id=sv10-75<br>class=cap<br>x=%{x}<br>y=%{y}<extra></extra>",
         "legendgroup": "sv10-75, cap",
         "marker": {
          "color": "#FECB52",
          "symbol": "circle"
         },
         "mode": "markers",
         "name": "sv10-75, cap",
         "orientation": "v",
         "showlegend": true,
         "type": "scatter",
         "x": {
          "bdata": "4pTHPySMvj8nu5I/aQ/vPw==",
          "dtype": "f4"
         },
         "xaxis": "x",
         "y": {
          "bdata": "L3ZHwNtMKcAFzjPA2gw1wA==",
          "dtype": "f4"
         },
         "yaxis": "y"
        },
        {
         "hovertemplate": "id=sv10-75<br>class=truth<br>x=%{x}<br>y=%{y}<extra></extra>",
         "legendgroup": "sv10-75, truth",
         "marker": {
          "color": "#FECB52",
          "symbol": "diamond"
         },
         "mode": "markers",
         "name": "sv10-75, truth",
         "orientation": "v",
         "showlegend": true,
         "type": "scatter",
         "x": {
          "bdata": "1jcwPw==",
          "dtype": "f4"
         },
         "xaxis": "x",
         "y": {
          "bdata": "TzITwA==",
          "dtype": "f4"
         },
         "yaxis": "y"
        },
        {
         "hovertemplate": "id=sv10-99<br>class=cap<br>x=%{x}<br>y=%{y}<extra></extra>",
         "legendgroup": "sv10-99, cap",
         "marker": {
          "color": "#636efa",
          "symbol": "circle"
         },
         "mode": "markers",
         "name": "sv10-99, cap",
         "orientation": "v",
         "showlegend": true,
         "type": "scatter",
         "x": {
          "bdata": "GrRWQAHKTkA=",
          "dtype": "f4"
         },
         "xaxis": "x",
         "y": {
          "bdata": "ViF4v1S2RL8=",
          "dtype": "f4"
         },
         "yaxis": "y"
        },
        {
         "hovertemplate": "id=sv10-99<br>class=truth<br>x=%{x}<br>y=%{y}<extra></extra>",
         "legendgroup": "sv10-99, truth",
         "marker": {
          "color": "#636efa",
          "symbol": "diamond"
         },
         "mode": "markers",
         "name": "sv10-99, truth",
         "orientation": "v",
         "showlegend": true,
         "type": "scatter",
         "x": {
          "bdata": "2cllQA==",
          "dtype": "f4"
         },
         "xaxis": "x",
         "y": {
          "bdata": "GRCQvw==",
          "dtype": "f4"
         },
         "yaxis": "y"
        }
       ],
       "layout": {
        "legend": {
         "title": {
          "text": "id, class"
         },
         "tracegroupgap": 0
        },
        "template": {
         "data": {
          "bar": [
           {
            "error_x": {
             "color": "#f2f5fa"
            },
            "error_y": {
             "color": "#f2f5fa"
            },
            "marker": {
             "line": {
              "color": "rgb(17,17,17)",
              "width": 0.5
             },
             "pattern": {
              "fillmode": "overlay",
              "size": 10,
              "solidity": 0.2
             }
            },
            "type": "bar"
           }
          ],
          "barpolar": [
           {
            "marker": {
             "line": {
              "color": "rgb(17,17,17)",
              "width": 0.5
             },
             "pattern": {
              "fillmode": "overlay",
              "size": 10,
              "solidity": 0.2
             }
            },
            "type": "barpolar"
           }
          ],
          "carpet": [
           {
            "aaxis": {
             "endlinecolor": "#A2B1C6",
             "gridcolor": "#506784",
             "linecolor": "#506784",
             "minorgridcolor": "#506784",
             "startlinecolor": "#A2B1C6"
            },
            "baxis": {
             "endlinecolor": "#A2B1C6",
             "gridcolor": "#506784",
             "linecolor": "#506784",
             "minorgridcolor": "#506784",
             "startlinecolor": "#A2B1C6"
            },
            "type": "carpet"
           }
          ],
          "choropleth": [
           {
            "colorbar": {
             "outlinewidth": 0,
             "ticks": ""
            },
            "type": "choropleth"
           }
          ],
          "contour": [
           {
            "colorbar": {
             "outlinewidth": 0,
             "ticks": ""
            },
            "colorscale": [
             [
              0,
              "#0d0887"
             ],
             [
              0.1111111111111111,
              "#46039f"
             ],
             [
              0.2222222222222222,
              "#7201a8"
             ],
             [
              0.3333333333333333,
              "#9c179e"
             ],
             [
              0.4444444444444444,
              "#bd3786"
             ],
             [
              0.5555555555555556,
              "#d8576b"
             ],
             [
              0.6666666666666666,
              "#ed7953"
             ],
             [
              0.7777777777777778,
              "#fb9f3a"
             ],
             [
              0.8888888888888888,
              "#fdca26"
             ],
             [
              1,
              "#f0f921"
             ]
            ],
            "type": "contour"
           }
          ],
          "contourcarpet": [
           {
            "colorbar": {
             "outlinewidth": 0,
             "ticks": ""
            },
            "type": "contourcarpet"
           }
          ],
          "heatmap": [
           {
            "colorbar": {
             "outlinewidth": 0,
             "ticks": ""
            },
            "colorscale": [
             [
              0,
              "#0d0887"
             ],
             [
              0.1111111111111111,
              "#46039f"
             ],
             [
              0.2222222222222222,
              "#7201a8"
             ],
             [
              0.3333333333333333,
              "#9c179e"
             ],
             [
              0.4444444444444444,
              "#bd3786"
             ],
             [
              0.5555555555555556,
              "#d8576b"
             ],
             [
              0.6666666666666666,
              "#ed7953"
             ],
             [
              0.7777777777777778,
              "#fb9f3a"
             ],
             [
              0.8888888888888888,
              "#fdca26"
             ],
             [
              1,
              "#f0f921"
             ]
            ],
            "type": "heatmap"
           }
          ],
          "histogram": [
           {
            "marker": {
             "pattern": {
              "fillmode": "overlay",
              "size": 10,
              "solidity": 0.2
             }
            },
            "type": "histogram"
           }
          ],
          "histogram2d": [
           {
            "colorbar": {
             "outlinewidth": 0,
             "ticks": ""
            },
            "colorscale": [
             [
              0,
              "#0d0887"
             ],
             [
              0.1111111111111111,
              "#46039f"
             ],
             [
              0.2222222222222222,
              "#7201a8"
             ],
             [
              0.3333333333333333,
              "#9c179e"
             ],
             [
              0.4444444444444444,
              "#bd3786"
             ],
             [
              0.5555555555555556,
              "#d8576b"
             ],
             [
              0.6666666666666666,
              "#ed7953"
             ],
             [
              0.7777777777777778,
              "#fb9f3a"
             ],
             [
              0.8888888888888888,
              "#fdca26"
             ],
             [
              1,
              "#f0f921"
             ]
            ],
            "type": "histogram2d"
           }
          ],
          "histogram2dcontour": [
           {
            "colorbar": {
             "outlinewidth": 0,
             "ticks": ""
            },
            "colorscale": [
             [
              0,
              "#0d0887"
             ],
             [
              0.1111111111111111,
              "#46039f"
             ],
             [
              0.2222222222222222,
              "#7201a8"
             ],
             [
              0.3333333333333333,
              "#9c179e"
             ],
             [
              0.4444444444444444,
              "#bd3786"
             ],
             [
              0.5555555555555556,
              "#d8576b"
             ],
             [
              0.6666666666666666,
              "#ed7953"
             ],
             [
              0.7777777777777778,
              "#fb9f3a"
             ],
             [
              0.8888888888888888,
              "#fdca26"
             ],
             [
              1,
              "#f0f921"
             ]
            ],
            "type": "histogram2dcontour"
           }
          ],
          "mesh3d": [
           {
            "colorbar": {
             "outlinewidth": 0,
             "ticks": ""
            },
            "type": "mesh3d"
           }
          ],
          "parcoords": [
           {
            "line": {
             "colorbar": {
              "outlinewidth": 0,
              "ticks": ""
             }
            },
            "type": "parcoords"
           }
          ],
          "pie": [
           {
            "automargin": true,
            "type": "pie"
           }
          ],
          "scatter": [
           {
            "marker": {
             "line": {
              "color": "#283442"
             }
            },
            "type": "scatter"
           }
          ],
          "scatter3d": [
           {
            "line": {
             "colorbar": {
              "outlinewidth": 0,
              "ticks": ""
             }
            },
            "marker": {
             "colorbar": {
              "outlinewidth": 0,
              "ticks": ""
             }
            },
            "type": "scatter3d"
           }
          ],
          "scattercarpet": [
           {
            "marker": {
             "colorbar": {
              "outlinewidth": 0,
              "ticks": ""
             }
            },
            "type": "scattercarpet"
           }
          ],
          "scattergeo": [
           {
            "marker": {
             "colorbar": {
              "outlinewidth": 0,
              "ticks": ""
             }
            },
            "type": "scattergeo"
           }
          ],
          "scattergl": [
           {
            "marker": {
             "line": {
              "color": "#283442"
             }
            },
            "type": "scattergl"
           }
          ],
          "scattermap": [
           {
            "marker": {
             "colorbar": {
              "outlinewidth": 0,
              "ticks": ""
             }
            },
            "type": "scattermap"
           }
          ],
          "scattermapbox": [
           {
            "marker": {
             "colorbar": {
              "outlinewidth": 0,
              "ticks": ""
             }
            },
            "type": "scattermapbox"
           }
          ],
          "scatterpolar": [
           {
            "marker": {
             "colorbar": {
              "outlinewidth": 0,
              "ticks": ""
             }
            },
            "type": "scatterpolar"
           }
          ],
          "scatterpolargl": [
           {
            "marker": {
             "colorbar": {
              "outlinewidth": 0,
              "ticks": ""
             }
            },
            "type": "scatterpolargl"
           }
          ],
          "scatterternary": [
           {
            "marker": {
             "colorbar": {
              "outlinewidth": 0,
              "ticks": ""
             }
            },
            "type": "scatterternary"
           }
          ],
          "surface": [
           {
            "colorbar": {
             "outlinewidth": 0,
             "ticks": ""
            },
            "colorscale": [
             [
              0,
              "#0d0887"
             ],
             [
              0.1111111111111111,
              "#46039f"
             ],
             [
              0.2222222222222222,
              "#7201a8"
             ],
             [
              0.3333333333333333,
              "#9c179e"
             ],
             [
              0.4444444444444444,
              "#bd3786"
             ],
             [
              0.5555555555555556,
              "#d8576b"
             ],
             [
              0.6666666666666666,
              "#ed7953"
             ],
             [
              0.7777777777777778,
              "#fb9f3a"
             ],
             [
              0.8888888888888888,
              "#fdca26"
             ],
             [
              1,
              "#f0f921"
             ]
            ],
            "type": "surface"
           }
          ],
          "table": [
           {
            "cells": {
             "fill": {
              "color": "#506784"
             },
             "line": {
              "color": "rgb(17,17,17)"
             }
            },
            "header": {
             "fill": {
              "color": "#2a3f5f"
             },
             "line": {
              "color": "rgb(17,17,17)"
             }
            },
            "type": "table"
           }
          ]
         },
         "layout": {
          "annotationdefaults": {
           "arrowcolor": "#f2f5fa",
           "arrowhead": 0,
           "arrowwidth": 1
          },
          "autotypenumbers": "strict",
          "coloraxis": {
           "colorbar": {
            "outlinewidth": 0,
            "ticks": ""
           }
          },
          "colorscale": {
           "diverging": [
            [
             0,
             "#8e0152"
            ],
            [
             0.1,
             "#c51b7d"
            ],
            [
             0.2,
             "#de77ae"
            ],
            [
             0.3,
             "#f1b6da"
            ],
            [
             0.4,
             "#fde0ef"
            ],
            [
             0.5,
             "#f7f7f7"
            ],
            [
             0.6,
             "#e6f5d0"
            ],
            [
             0.7,
             "#b8e186"
            ],
            [
             0.8,
             "#7fbc41"
            ],
            [
             0.9,
             "#4d9221"
            ],
            [
             1,
             "#276419"
            ]
           ],
           "sequential": [
            [
             0,
             "#0d0887"
            ],
            [
             0.1111111111111111,
             "#46039f"
            ],
            [
             0.2222222222222222,
             "#7201a8"
            ],
            [
             0.3333333333333333,
             "#9c179e"
            ],
            [
             0.4444444444444444,
             "#bd3786"
            ],
            [
             0.5555555555555556,
             "#d8576b"
            ],
            [
             0.6666666666666666,
             "#ed7953"
            ],
            [
             0.7777777777777778,
             "#fb9f3a"
            ],
            [
             0.8888888888888888,
             "#fdca26"
            ],
            [
             1,
             "#f0f921"
            ]
           ],
           "sequentialminus": [
            [
             0,
             "#0d0887"
            ],
            [
             0.1111111111111111,
             "#46039f"
            ],
            [
             0.2222222222222222,
             "#7201a8"
            ],
            [
             0.3333333333333333,
             "#9c179e"
            ],
            [
             0.4444444444444444,
             "#bd3786"
            ],
            [
             0.5555555555555556,
             "#d8576b"
            ],
            [
             0.6666666666666666,
             "#ed7953"
            ],
            [
             0.7777777777777778,
             "#fb9f3a"
            ],
            [
             0.8888888888888888,
             "#fdca26"
            ],
            [
             1,
             "#f0f921"
            ]
           ]
          },
          "colorway": [
           "#636efa",
           "#EF553B",
           "#00cc96",
           "#ab63fa",
           "#FFA15A",
           "#19d3f3",
           "#FF6692",
           "#B6E880",
           "#FF97FF",
           "#FECB52"
          ],
          "font": {
           "color": "#f2f5fa"
          },
          "geo": {
           "bgcolor": "rgb(17,17,17)",
           "lakecolor": "rgb(17,17,17)",
           "landcolor": "rgb(17,17,17)",
           "showlakes": true,
           "showland": true,
           "subunitcolor": "#506784"
          },
          "hoverlabel": {
           "align": "left"
          },
          "hovermode": "closest",
          "mapbox": {
           "style": "dark"
          },
          "paper_bgcolor": "rgb(17,17,17)",
          "plot_bgcolor": "rgb(17,17,17)",
          "polar": {
           "angularaxis": {
            "gridcolor": "#506784",
            "linecolor": "#506784",
            "ticks": ""
           },
           "bgcolor": "rgb(17,17,17)",
           "radialaxis": {
            "gridcolor": "#506784",
            "linecolor": "#506784",
            "ticks": ""
           }
          },
          "scene": {
           "xaxis": {
            "backgroundcolor": "rgb(17,17,17)",
            "gridcolor": "#506784",
            "gridwidth": 2,
            "linecolor": "#506784",
            "showbackground": true,
            "ticks": "",
            "zerolinecolor": "#C8D4E3"
           },
           "yaxis": {
            "backgroundcolor": "rgb(17,17,17)",
            "gridcolor": "#506784",
            "gridwidth": 2,
            "linecolor": "#506784",
            "showbackground": true,
            "ticks": "",
            "zerolinecolor": "#C8D4E3"
           },
           "zaxis": {
            "backgroundcolor": "rgb(17,17,17)",
            "gridcolor": "#506784",
            "gridwidth": 2,
            "linecolor": "#506784",
            "showbackground": true,
            "ticks": "",
            "zerolinecolor": "#C8D4E3"
           }
          },
          "shapedefaults": {
           "line": {
            "color": "#f2f5fa"
           }
          },
          "sliderdefaults": {
           "bgcolor": "#C8D4E3",
           "bordercolor": "rgb(17,17,17)",
           "borderwidth": 1,
           "tickwidth": 0
          },
          "ternary": {
           "aaxis": {
            "gridcolor": "#506784",
            "linecolor": "#506784",
            "ticks": ""
           },
           "baxis": {
            "gridcolor": "#506784",
            "linecolor": "#506784",
            "ticks": ""
           },
           "bgcolor": "rgb(17,17,17)",
           "caxis": {
            "gridcolor": "#506784",
            "linecolor": "#506784",
            "ticks": ""
           }
          },
          "title": {
           "x": 0.05
          },
          "updatemenudefaults": {
           "bgcolor": "#506784",
           "borderwidth": 0
          },
          "xaxis": {
           "automargin": true,
           "gridcolor": "#283442",
           "linecolor": "#506784",
           "ticks": "",
           "title": {
            "standoff": 15
           },
           "zerolinecolor": "#283442",
           "zerolinewidth": 2
          },
          "yaxis": {
           "automargin": true,
           "gridcolor": "#283442",
           "linecolor": "#506784",
           "ticks": "",
           "title": {
            "standoff": 15
           },
           "zerolinecolor": "#283442",
           "zerolinewidth": 2
          }
         }
        },
        "title": {
         "subtitle": {
          "text": "CLIP Model CLIP-ViT-L-16"
         },
         "text": "Human Captured Images vs. Digital Card Renders TSNE Plot"
        },
        "xaxis": {
         "anchor": "y",
         "domain": [
          0,
          1
         ],
         "title": {
          "text": "x"
         }
        },
        "yaxis": {
         "anchor": "x",
         "domain": [
          0,
          1
         ],
         "title": {
          "text": "y"
         }
        }
       }
      }
     },
     "metadata": {},
     "output_type": "display_data"
    }
   ],
   "source": [
    "import plotly.express as px\n",
    "\n",
    "fig = px.scatter(data, x=\"x\", y=\"y\", color=\"id\", symbol=\"class\", \n",
    "                 title=\"Human Captured Images vs. Digital Card Renders TSNE Plot\",\n",
    "                 subtitle=\"CLIP Model CLIP-ViT-L-16\", template=\"plotly_dark\")\n",
    "fig.show()\n",
    "fig.write_html(\"TSNE_PLOTLY.html\")"
   ]
  },
  {
   "cell_type": "code",
   "execution_count": 22,
   "id": "cbb91814",
   "metadata": {},
   "outputs": [
    {
     "data": {
      "text/plain": [
       "(244, 3)"
      ]
     },
     "execution_count": 22,
     "metadata": {},
     "output_type": "execute_result"
    }
   ],
   "source": [
    "#Plot vs all truth\n",
    "all = truth_df.drop([\"supertype\", \"image\", \"name\"], axis = 1)\n",
    "all[\"class\"] = \"truth\"\n",
    "all.shape"
   ]
  },
  {
   "cell_type": "code",
   "execution_count": 23,
   "id": "54939ee7",
   "metadata": {},
   "outputs": [
    {
     "data": {
      "application/vnd.plotly.v1+json": {
       "config": {
        "plotlyServerURL": "https://plot.ly"
       },
       "data": [
        {
         "hovertemplate": "id=sv10-103<br>class=cap<br>x=%{x}<br>y=%{y}<extra></extra>",
         "legendgroup": "sv10-103, cap",
         "marker": {
          "color": "#636efa",
          "symbol": "circle"
         },
         "mode": "markers",
         "name": "sv10-103, cap",
         "orientation": "v",
         "showlegend": true,
         "type": "scatter",
         "x": {
          "bdata": "CYnmQJZ+MEE=",
          "dtype": "f4"
         },
         "xaxis": "x",
         "y": {
          "bdata": "hc23QFF4HEE=",
          "dtype": "f4"
         },
         "yaxis": "y"
        },
        {
         "hovertemplate": "id=sv10-103<br>class=truth<br>x=%{x}<br>y=%{y}<extra></extra>",
         "legendgroup": "sv10-103, truth",
         "marker": {
          "color": "#636efa",
          "symbol": "diamond"
         },
         "mode": "markers",
         "name": "sv10-103, truth",
         "orientation": "v",
         "showlegend": true,
         "type": "scatter",
         "x": {
          "bdata": "7HnfQA==",
          "dtype": "f4"
         },
         "xaxis": "x",
         "y": {
          "bdata": "HEWzQA==",
          "dtype": "f4"
         },
         "yaxis": "y"
        },
        {
         "hovertemplate": "id=sv10-116<br>class=cap<br>x=%{x}<br>y=%{y}<extra></extra>",
         "legendgroup": "sv10-116, cap",
         "marker": {
          "color": "#EF553B",
          "symbol": "circle"
         },
         "mode": "markers",
         "name": "sv10-116, cap",
         "orientation": "v",
         "showlegend": true,
         "type": "scatter",
         "x": {
          "bdata": "pdOYQUs1nEE=",
          "dtype": "f4"
         },
         "xaxis": "x",
         "y": {
          "bdata": "Q0XFwG1cwcA=",
          "dtype": "f4"
         },
         "yaxis": "y"
        },
        {
         "hovertemplate": "id=sv10-116<br>class=truth<br>x=%{x}<br>y=%{y}<extra></extra>",
         "legendgroup": "sv10-116, truth",
         "marker": {
          "color": "#EF553B",
          "symbol": "diamond"
         },
         "mode": "markers",
         "name": "sv10-116, truth",
         "orientation": "v",
         "showlegend": true,
         "type": "scatter",
         "x": {
          "bdata": "wxCSQQ==",
          "dtype": "f4"
         },
         "xaxis": "x",
         "y": {
          "bdata": "oEjNwA==",
          "dtype": "f4"
         },
         "yaxis": "y"
        },
        {
         "hovertemplate": "id=sv10-121<br>class=cap<br>x=%{x}<br>y=%{y}<extra></extra>",
         "legendgroup": "sv10-121, cap",
         "marker": {
          "color": "#00cc96",
          "symbol": "circle"
         },
         "mode": "markers",
         "name": "sv10-121, cap",
         "orientation": "v",
         "showlegend": true,
         "type": "scatter",
         "x": {
          "bdata": "Lqs7QbkTAME=",
          "dtype": "f4"
         },
         "xaxis": "x",
         "y": {
          "bdata": "EfwhQe8lh8A=",
          "dtype": "f4"
         },
         "yaxis": "y"
        },
        {
         "hovertemplate": "id=sv10-121<br>class=truth<br>x=%{x}<br>y=%{y}<extra></extra>",
         "legendgroup": "sv10-121, truth",
         "marker": {
          "color": "#00cc96",
          "symbol": "diamond"
         },
         "mode": "markers",
         "name": "sv10-121, truth",
         "orientation": "v",
         "showlegend": true,
         "type": "scatter",
         "x": {
          "bdata": "aMr7wA==",
          "dtype": "f4"
         },
         "xaxis": "x",
         "y": {
          "bdata": "pgGSwA==",
          "dtype": "f4"
         },
         "yaxis": "y"
        },
        {
         "hovertemplate": "id=sv10-123<br>class=cap<br>x=%{x}<br>y=%{y}<extra></extra>",
         "legendgroup": "sv10-123, cap",
         "marker": {
          "color": "#ab63fa",
          "symbol": "circle"
         },
         "mode": "markers",
         "name": "sv10-123, cap",
         "orientation": "v",
         "showlegend": true,
         "type": "scatter",
         "x": {
          "bdata": "KEW9QbkWvUE=",
          "dtype": "f4"
         },
         "xaxis": "x",
         "y": {
          "bdata": "CnkpwWikKsE=",
          "dtype": "f4"
         },
         "yaxis": "y"
        },
        {
         "hovertemplate": "id=sv10-123<br>class=truth<br>x=%{x}<br>y=%{y}<extra></extra>",
         "legendgroup": "sv10-123, truth",
         "marker": {
          "color": "#ab63fa",
          "symbol": "diamond"
         },
         "mode": "markers",
         "name": "sv10-123, truth",
         "orientation": "v",
         "showlegend": true,
         "type": "scatter",
         "x": {
          "bdata": "MGO8QQ==",
          "dtype": "f4"
         },
         "xaxis": "x",
         "y": {
          "bdata": "n5Y7wQ==",
          "dtype": "f4"
         },
         "yaxis": "y"
        },
        {
         "hovertemplate": "id=sv10-131<br>class=cap<br>x=%{x}<br>y=%{y}<extra></extra>",
         "legendgroup": "sv10-131, cap",
         "marker": {
          "color": "#FFA15A",
          "symbol": "circle"
         },
         "mode": "markers",
         "name": "sv10-131, cap",
         "orientation": "v",
         "showlegend": true,
         "type": "scatter",
         "x": {
          "bdata": "tjJQQcUtUkE=",
          "dtype": "f4"
         },
         "xaxis": "x",
         "y": {
          "bdata": "GTC2QK+txUA=",
          "dtype": "f4"
         },
         "yaxis": "y"
        },
        {
         "hovertemplate": "id=sv10-131<br>class=truth<br>x=%{x}<br>y=%{y}<extra></extra>",
         "legendgroup": "sv10-131, truth",
         "marker": {
          "color": "#FFA15A",
          "symbol": "diamond"
         },
         "mode": "markers",
         "name": "sv10-131, truth",
         "orientation": "v",
         "showlegend": true,
         "type": "scatter",
         "x": {
          "bdata": "nHBLQQ==",
          "dtype": "f4"
         },
         "xaxis": "x",
         "y": {
          "bdata": "y9WYQA==",
          "dtype": "f4"
         },
         "yaxis": "y"
        },
        {
         "hovertemplate": "id=sv10-138<br>class=cap<br>x=%{x}<br>y=%{y}<extra></extra>",
         "legendgroup": "sv10-138, cap",
         "marker": {
          "color": "#19d3f3",
          "symbol": "circle"
         },
         "mode": "markers",
         "name": "sv10-138, cap",
         "orientation": "v",
         "showlegend": true,
         "type": "scatter",
         "x": {
          "bdata": "nuGgQeZQoUE=",
          "dtype": "f4"
         },
         "xaxis": "x",
         "y": {
          "bdata": "n5MsQaQJG0E=",
          "dtype": "f4"
         },
         "yaxis": "y"
        },
        {
         "hovertemplate": "id=sv10-138<br>class=truth<br>x=%{x}<br>y=%{y}<extra></extra>",
         "legendgroup": "sv10-138, truth",
         "marker": {
          "color": "#19d3f3",
          "symbol": "diamond"
         },
         "mode": "markers",
         "name": "sv10-138, truth",
         "orientation": "v",
         "showlegend": true,
         "type": "scatter",
         "x": {
          "bdata": "tT+hQQ==",
          "dtype": "f4"
         },
         "xaxis": "x",
         "y": {
          "bdata": "Jj8WQQ==",
          "dtype": "f4"
         },
         "yaxis": "y"
        },
        {
         "hovertemplate": "id=sv10-144<br>class=cap<br>x=%{x}<br>y=%{y}<extra></extra>",
         "legendgroup": "sv10-144, cap",
         "marker": {
          "color": "#FF6692",
          "symbol": "circle"
         },
         "mode": "markers",
         "name": "sv10-144, cap",
         "orientation": "v",
         "showlegend": true,
         "type": "scatter",
         "x": {
          "bdata": "+SiCQcVnekE6MIBBhOSIQQ==",
          "dtype": "f4"
         },
         "xaxis": "x",
         "y": {
          "bdata": "c0RHwTnvQMHENTjBVDs6wQ==",
          "dtype": "f4"
         },
         "yaxis": "y"
        },
        {
         "hovertemplate": "id=sv10-144<br>class=truth<br>x=%{x}<br>y=%{y}<extra></extra>",
         "legendgroup": "sv10-144, truth",
         "marker": {
          "color": "#FF6692",
          "symbol": "diamond"
         },
         "mode": "markers",
         "name": "sv10-144, truth",
         "orientation": "v",
         "showlegend": true,
         "type": "scatter",
         "x": {
          "bdata": "1wdsQQ==",
          "dtype": "f4"
         },
         "xaxis": "x",
         "y": {
          "bdata": "lms4wQ==",
          "dtype": "f4"
         },
         "yaxis": "y"
        },
        {
         "hovertemplate": "id=sv10-156<br>class=cap<br>x=%{x}<br>y=%{y}<extra></extra>",
         "legendgroup": "sv10-156, cap",
         "marker": {
          "color": "#B6E880",
          "symbol": "circle"
         },
         "mode": "markers",
         "name": "sv10-156, cap",
         "orientation": "v",
         "showlegend": true,
         "type": "scatter",
         "x": {
          "bdata": "l/bKQe6fxkF0bMtB+NrPQQ==",
          "dtype": "f4"
         },
         "xaxis": "x",
         "y": {
          "bdata": "wRHBQDP7p0Apl5ZAsZS4QA==",
          "dtype": "f4"
         },
         "yaxis": "y"
        },
        {
         "hovertemplate": "id=sv10-156<br>class=truth<br>x=%{x}<br>y=%{y}<extra></extra>",
         "legendgroup": "sv10-156, truth",
         "marker": {
          "color": "#B6E880",
          "symbol": "diamond"
         },
         "mode": "markers",
         "name": "sv10-156, truth",
         "orientation": "v",
         "showlegend": true,
         "type": "scatter",
         "x": {
          "bdata": "gJbAQQ==",
          "dtype": "f4"
         },
         "xaxis": "x",
         "y": {
          "bdata": "WM2wQA==",
          "dtype": "f4"
         },
         "yaxis": "y"
        },
        {
         "hovertemplate": "id=sv10-17<br>class=cap<br>x=%{x}<br>y=%{y}<extra></extra>",
         "legendgroup": "sv10-17, cap",
         "marker": {
          "color": "#FF97FF",
          "symbol": "circle"
         },
         "mode": "markers",
         "name": "sv10-17, cap",
         "orientation": "v",
         "showlegend": true,
         "type": "scatter",
         "x": {
          "bdata": "C5kEvs0XBL4=",
          "dtype": "f4"
         },
         "xaxis": "x",
         "y": {
          "bdata": "PJ3RwXaf0cE=",
          "dtype": "f4"
         },
         "yaxis": "y"
        },
        {
         "hovertemplate": "id=sv10-17<br>class=truth<br>x=%{x}<br>y=%{y}<extra></extra>",
         "legendgroup": "sv10-17, truth",
         "marker": {
          "color": "#FF97FF",
          "symbol": "diamond"
         },
         "mode": "markers",
         "name": "sv10-17, truth",
         "orientation": "v",
         "showlegend": true,
         "type": "scatter",
         "x": {
          "bdata": "nyObvQ==",
          "dtype": "f4"
         },
         "xaxis": "x",
         "y": {
          "bdata": "F/zJwQ==",
          "dtype": "f4"
         },
         "yaxis": "y"
        },
        {
         "hovertemplate": "id=sv10-177<br>class=cap<br>x=%{x}<br>y=%{y}<extra></extra>",
         "legendgroup": "sv10-177, cap",
         "marker": {
          "color": "#FECB52",
          "symbol": "circle"
         },
         "mode": "markers",
         "name": "sv10-177, cap",
         "orientation": "v",
         "showlegend": true,
         "type": "scatter",
         "x": {
          "bdata": "xT6fwSkPUkE=",
          "dtype": "f4"
         },
         "xaxis": "x",
         "y": {
          "bdata": "ILIawf7jK0E=",
          "dtype": "f4"
         },
         "yaxis": "y"
        },
        {
         "hovertemplate": "id=sv10-177<br>class=truth<br>x=%{x}<br>y=%{y}<extra></extra>",
         "legendgroup": "sv10-177, truth",
         "marker": {
          "color": "#FECB52",
          "symbol": "diamond"
         },
         "mode": "markers",
         "name": "sv10-177, truth",
         "orientation": "v",
         "showlegend": true,
         "type": "scatter",
         "x": {
          "bdata": "tqygwQ==",
          "dtype": "f4"
         },
         "xaxis": "x",
         "y": {
          "bdata": "wuccwQ==",
          "dtype": "f4"
         },
         "yaxis": "y"
        },
        {
         "hovertemplate": "id=sv10-179<br>class=cap<br>x=%{x}<br>y=%{y}<extra></extra>",
         "legendgroup": "sv10-179, cap",
         "marker": {
          "color": "#636efa",
          "symbol": "circle"
         },
         "mode": "markers",
         "name": "sv10-179, cap",
         "orientation": "v",
         "showlegend": true,
         "type": "scatter",
         "x": {
          "bdata": "y6udwdlYncE=",
          "dtype": "f4"
         },
         "xaxis": "x",
         "y": {
          "bdata": "iumHQFQUjEA=",
          "dtype": "f4"
         },
         "yaxis": "y"
        },
        {
         "hovertemplate": "id=sv10-179<br>class=truth<br>x=%{x}<br>y=%{y}<extra></extra>",
         "legendgroup": "sv10-179, truth",
         "marker": {
          "color": "#636efa",
          "symbol": "diamond"
         },
         "mode": "markers",
         "name": "sv10-179, truth",
         "orientation": "v",
         "showlegend": true,
         "type": "scatter",
         "x": {
          "bdata": "FbCgwQ==",
          "dtype": "f4"
         },
         "xaxis": "x",
         "y": {
          "bdata": "Y7s5QA==",
          "dtype": "f4"
         },
         "yaxis": "y"
        },
        {
         "hovertemplate": "id=sv10-22<br>class=cap<br>x=%{x}<br>y=%{y}<extra></extra>",
         "legendgroup": "sv10-22, cap",
         "marker": {
          "color": "#EF553B",
          "symbol": "circle"
         },
         "mode": "markers",
         "name": "sv10-22, cap",
         "orientation": "v",
         "showlegend": true,
         "type": "scatter",
         "x": {
          "bdata": "qKQ1Qf0bQkE=",
          "dtype": "f4"
         },
         "xaxis": "x",
         "y": {
          "bdata": "pztFwPeHHsA=",
          "dtype": "f4"
         },
         "yaxis": "y"
        },
        {
         "hovertemplate": "id=sv10-22<br>class=truth<br>x=%{x}<br>y=%{y}<extra></extra>",
         "legendgroup": "sv10-22, truth",
         "marker": {
          "color": "#EF553B",
          "symbol": "diamond"
         },
         "mode": "markers",
         "name": "sv10-22, truth",
         "orientation": "v",
         "showlegend": true,
         "type": "scatter",
         "x": {
          "bdata": "reooQQ==",
          "dtype": "f4"
         },
         "xaxis": "x",
         "y": {
          "bdata": "2aF0wA==",
          "dtype": "f4"
         },
         "yaxis": "y"
        },
        {
         "hovertemplate": "id=sv10-24<br>class=cap<br>x=%{x}<br>y=%{y}<extra></extra>",
         "legendgroup": "sv10-24, cap",
         "marker": {
          "color": "#00cc96",
          "symbol": "circle"
         },
         "mode": "markers",
         "name": "sv10-24, cap",
         "orientation": "v",
         "showlegend": true,
         "type": "scatter",
         "x": {
          "bdata": "dLyTQQF4lUGRDplB",
          "dtype": "f4"
         },
         "xaxis": "x",
         "y": {
          "bdata": "/mmEQF+RakDL+oVA",
          "dtype": "f4"
         },
         "yaxis": "y"
        },
        {
         "hovertemplate": "id=sv10-24<br>class=truth<br>x=%{x}<br>y=%{y}<extra></extra>",
         "legendgroup": "sv10-24, truth",
         "marker": {
          "color": "#00cc96",
          "symbol": "diamond"
         },
         "mode": "markers",
         "name": "sv10-24, truth",
         "orientation": "v",
         "showlegend": true,
         "type": "scatter",
         "x": {
          "bdata": "oxWOQQ==",
          "dtype": "f4"
         },
         "xaxis": "x",
         "y": {
          "bdata": "IJs8QA==",
          "dtype": "f4"
         },
         "yaxis": "y"
        },
        {
         "hovertemplate": "id=sv10-33<br>class=cap<br>x=%{x}<br>y=%{y}<extra></extra>",
         "legendgroup": "sv10-33, cap",
         "marker": {
          "color": "#ab63fa",
          "symbol": "circle"
         },
         "mode": "markers",
         "name": "sv10-33, cap",
         "orientation": "v",
         "showlegend": true,
         "type": "scatter",
         "x": {
          "bdata": "ZMq9QMat6EA=",
          "dtype": "f4"
         },
         "xaxis": "x",
         "y": {
          "bdata": "8PJrQeQMZUE=",
          "dtype": "f4"
         },
         "yaxis": "y"
        },
        {
         "hovertemplate": "id=sv10-33<br>class=truth<br>x=%{x}<br>y=%{y}<extra></extra>",
         "legendgroup": "sv10-33, truth",
         "marker": {
          "color": "#ab63fa",
          "symbol": "diamond"
         },
         "mode": "markers",
         "name": "sv10-33, truth",
         "orientation": "v",
         "showlegend": true,
         "type": "scatter",
         "x": {
          "bdata": "pWenQA==",
          "dtype": "f4"
         },
         "xaxis": "x",
         "y": {
          "bdata": "o8ZuQQ==",
          "dtype": "f4"
         },
         "yaxis": "y"
        },
        {
         "hovertemplate": "id=sv10-35<br>class=cap<br>x=%{x}<br>y=%{y}<extra></extra>",
         "legendgroup": "sv10-35, cap",
         "marker": {
          "color": "#FFA15A",
          "symbol": "circle"
         },
         "mode": "markers",
         "name": "sv10-35, cap",
         "orientation": "v",
         "showlegend": true,
         "type": "scatter",
         "x": {
          "bdata": "DuoJQd9YDEE=",
          "dtype": "f4"
         },
         "xaxis": "x",
         "y": {
          "bdata": "DZCKQWA4ikE=",
          "dtype": "f4"
         },
         "yaxis": "y"
        },
        {
         "hovertemplate": "id=sv10-35<br>class=truth<br>x=%{x}<br>y=%{y}<extra></extra>",
         "legendgroup": "sv10-35, truth",
         "marker": {
          "color": "#FFA15A",
          "symbol": "diamond"
         },
         "mode": "markers",
         "name": "sv10-35, truth",
         "orientation": "v",
         "showlegend": true,
         "type": "scatter",
         "x": {
          "bdata": "3PTnQA==",
          "dtype": "f4"
         },
         "xaxis": "x",
         "y": {
          "bdata": "lumMQQ==",
          "dtype": "f4"
         },
         "yaxis": "y"
        },
        {
         "hovertemplate": "id=sv10-37<br>class=cap<br>x=%{x}<br>y=%{y}<extra></extra>",
         "legendgroup": "sv10-37, cap",
         "marker": {
          "color": "#19d3f3",
          "symbol": "circle"
         },
         "mode": "markers",
         "name": "sv10-37, cap",
         "orientation": "v",
         "showlegend": true,
         "type": "scatter",
         "x": {
          "bdata": "TWIwQQFBLkE=",
          "dtype": "f4"
         },
         "xaxis": "x",
         "y": {
          "bdata": "DqVtQZCpYEE=",
          "dtype": "f4"
         },
         "yaxis": "y"
        },
        {
         "hovertemplate": "id=sv10-37<br>class=truth<br>x=%{x}<br>y=%{y}<extra></extra>",
         "legendgroup": "sv10-37, truth",
         "marker": {
          "color": "#19d3f3",
          "symbol": "diamond"
         },
         "mode": "markers",
         "name": "sv10-37, truth",
         "orientation": "v",
         "showlegend": true,
         "type": "scatter",
         "x": {
          "bdata": "0J4tQQ==",
          "dtype": "f4"
         },
         "xaxis": "x",
         "y": {
          "bdata": "JQNyQQ==",
          "dtype": "f4"
         },
         "yaxis": "y"
        },
        {
         "hovertemplate": "id=sv10-38<br>class=cap<br>x=%{x}<br>y=%{y}<extra></extra>",
         "legendgroup": "sv10-38, cap",
         "marker": {
          "color": "#FF6692",
          "symbol": "circle"
         },
         "mode": "markers",
         "name": "sv10-38, cap",
         "orientation": "v",
         "showlegend": true,
         "type": "scatter",
         "x": {
          "bdata": "T+zpQJUNAUE=",
          "dtype": "f4"
         },
         "xaxis": "x",
         "y": {
          "bdata": "D7E8QTB8QEE=",
          "dtype": "f4"
         },
         "yaxis": "y"
        },
        {
         "hovertemplate": "id=sv10-38<br>class=truth<br>x=%{x}<br>y=%{y}<extra></extra>",
         "legendgroup": "sv10-38, truth",
         "marker": {
          "color": "#FF6692",
          "symbol": "diamond"
         },
         "mode": "markers",
         "name": "sv10-38, truth",
         "orientation": "v",
         "showlegend": true,
         "type": "scatter",
         "x": {
          "bdata": "jiXOQA==",
          "dtype": "f4"
         },
         "xaxis": "x",
         "y": {
          "bdata": "3vQ4QQ==",
          "dtype": "f4"
         },
         "yaxis": "y"
        },
        {
         "hovertemplate": "id=sv10-48<br>class=cap<br>x=%{x}<br>y=%{y}<extra></extra>",
         "legendgroup": "sv10-48, cap",
         "marker": {
          "color": "#B6E880",
          "symbol": "circle"
         },
         "mode": "markers",
         "name": "sv10-48, cap",
         "orientation": "v",
         "showlegend": true,
         "type": "scatter",
         "x": {
          "bdata": "6rfdwHwG5sA=",
          "dtype": "f4"
         },
         "xaxis": "x",
         "y": {
          "bdata": "/c45QRHpN0E=",
          "dtype": "f4"
         },
         "yaxis": "y"
        },
        {
         "hovertemplate": "id=sv10-48<br>class=truth<br>x=%{x}<br>y=%{y}<extra></extra>",
         "legendgroup": "sv10-48, truth",
         "marker": {
          "color": "#B6E880",
          "symbol": "diamond"
         },
         "mode": "markers",
         "name": "sv10-48, truth",
         "orientation": "v",
         "showlegend": true,
         "type": "scatter",
         "x": {
          "bdata": "V631wA==",
          "dtype": "f4"
         },
         "xaxis": "x",
         "y": {
          "bdata": "YQkpQQ==",
          "dtype": "f4"
         },
         "yaxis": "y"
        },
        {
         "hovertemplate": "id=sv10-53<br>class=cap<br>x=%{x}<br>y=%{y}<extra></extra>",
         "legendgroup": "sv10-53, cap",
         "marker": {
          "color": "#FF97FF",
          "symbol": "circle"
         },
         "mode": "markers",
         "name": "sv10-53, cap",
         "orientation": "v",
         "showlegend": true,
         "type": "scatter",
         "x": {
          "bdata": "AYEGQTO+DUE=",
          "dtype": "f4"
         },
         "xaxis": "x",
         "y": {
          "bdata": "QEQDQRPwBUE=",
          "dtype": "f4"
         },
         "yaxis": "y"
        },
        {
         "hovertemplate": "id=sv10-53<br>class=truth<br>x=%{x}<br>y=%{y}<extra></extra>",
         "legendgroup": "sv10-53, truth",
         "marker": {
          "color": "#FF97FF",
          "symbol": "diamond"
         },
         "mode": "markers",
         "name": "sv10-53, truth",
         "orientation": "v",
         "showlegend": true,
         "type": "scatter",
         "x": {
          "bdata": "tujyQA==",
          "dtype": "f4"
         },
         "xaxis": "x",
         "y": {
          "bdata": "Ccb/QA==",
          "dtype": "f4"
         },
         "yaxis": "y"
        },
        {
         "hovertemplate": "id=sv10-75<br>class=cap<br>x=%{x}<br>y=%{y}<extra></extra>",
         "legendgroup": "sv10-75, cap",
         "marker": {
          "color": "#FECB52",
          "symbol": "circle"
         },
         "mode": "markers",
         "name": "sv10-75, cap",
         "orientation": "v",
         "showlegend": true,
         "type": "scatter",
         "x": {
          "bdata": "f5iuQbDjs0HgXbBBHji1QQ==",
          "dtype": "f4"
         },
         "xaxis": "x",
         "y": {
          "bdata": "N8mcPrN4kL6u50C/mdD2Pg==",
          "dtype": "f4"
         },
         "yaxis": "y"
        },
        {
         "hovertemplate": "id=sv10-75<br>class=truth<br>x=%{x}<br>y=%{y}<extra></extra>",
         "legendgroup": "sv10-75, truth",
         "marker": {
          "color": "#FECB52",
          "symbol": "diamond"
         },
         "mode": "markers",
         "name": "sv10-75, truth",
         "orientation": "v",
         "showlegend": true,
         "type": "scatter",
         "x": {
          "bdata": "/v2mQQ==",
          "dtype": "f4"
         },
         "xaxis": "x",
         "y": {
          "bdata": "n1ySvw==",
          "dtype": "f4"
         },
         "yaxis": "y"
        },
        {
         "hovertemplate": "id=sv10-99<br>class=cap<br>x=%{x}<br>y=%{y}<extra></extra>",
         "legendgroup": "sv10-99, cap",
         "marker": {
          "color": "#636efa",
          "symbol": "circle"
         },
         "mode": "markers",
         "name": "sv10-99, cap",
         "orientation": "v",
         "showlegend": true,
         "type": "scatter",
         "x": {
          "bdata": "CZ6FQY/Ng0E=",
          "dtype": "f4"
         },
         "xaxis": "x",
         "y": {
          "bdata": "FJtfQd2mWUE=",
          "dtype": "f4"
         },
         "yaxis": "y"
        },
        {
         "hovertemplate": "id=sv10-99<br>class=truth<br>x=%{x}<br>y=%{y}<extra></extra>",
         "legendgroup": "sv10-99, truth",
         "marker": {
          "color": "#636efa",
          "symbol": "diamond"
         },
         "mode": "markers",
         "name": "sv10-99, truth",
         "orientation": "v",
         "showlegend": true,
         "type": "scatter",
         "x": {
          "bdata": "EEOHQQ==",
          "dtype": "f4"
         },
         "xaxis": "x",
         "y": {
          "bdata": "ij5pQQ==",
          "dtype": "f4"
         },
         "yaxis": "y"
        },
        {
         "hovertemplate": "id=sv10-1<br>class=truth<br>x=%{x}<br>y=%{y}<extra></extra>",
         "legendgroup": "sv10-1, truth",
         "marker": {
          "color": "#EF553B",
          "symbol": "diamond"
         },
         "mode": "markers",
         "name": "sv10-1, truth",
         "orientation": "v",
         "showlegend": true,
         "type": "scatter",
         "x": {
          "bdata": "g2ITQA==",
          "dtype": "f4"
         },
         "xaxis": "x",
         "y": {
          "bdata": "e/5nQQ==",
          "dtype": "f4"
         },
         "yaxis": "y"
        },
        {
         "hovertemplate": "id=sv10-2<br>class=truth<br>x=%{x}<br>y=%{y}<extra></extra>",
         "legendgroup": "sv10-2, truth",
         "marker": {
          "color": "#00cc96",
          "symbol": "diamond"
         },
         "mode": "markers",
         "name": "sv10-2, truth",
         "orientation": "v",
         "showlegend": true,
         "type": "scatter",
         "x": {
          "bdata": "oTt8QQ==",
          "dtype": "f4"
         },
         "xaxis": "x",
         "y": {
          "bdata": "KwEBwA==",
          "dtype": "f4"
         },
         "yaxis": "y"
        },
        {
         "hovertemplate": "id=sv10-3<br>class=truth<br>x=%{x}<br>y=%{y}<extra></extra>",
         "legendgroup": "sv10-3, truth",
         "marker": {
          "color": "#ab63fa",
          "symbol": "diamond"
         },
         "mode": "markers",
         "name": "sv10-3, truth",
         "orientation": "v",
         "showlegend": true,
         "type": "scatter",
         "x": {
          "bdata": "gK3WwA==",
          "dtype": "f4"
         },
         "xaxis": "x",
         "y": {
          "bdata": "QhDyPg==",
          "dtype": "f4"
         },
         "yaxis": "y"
        },
        {
         "hovertemplate": "id=sv10-4<br>class=truth<br>x=%{x}<br>y=%{y}<extra></extra>",
         "legendgroup": "sv10-4, truth",
         "marker": {
          "color": "#FFA15A",
          "symbol": "diamond"
         },
         "mode": "markers",
         "name": "sv10-4, truth",
         "orientation": "v",
         "showlegend": true,
         "type": "scatter",
         "x": {
          "bdata": "TtYGQQ==",
          "dtype": "f4"
         },
         "xaxis": "x",
         "y": {
          "bdata": "3JndwA==",
          "dtype": "f4"
         },
         "yaxis": "y"
        },
        {
         "hovertemplate": "id=sv10-5<br>class=truth<br>x=%{x}<br>y=%{y}<extra></extra>",
         "legendgroup": "sv10-5, truth",
         "marker": {
          "color": "#19d3f3",
          "symbol": "diamond"
         },
         "mode": "markers",
         "name": "sv10-5, truth",
         "orientation": "v",
         "showlegend": true,
         "type": "scatter",
         "x": {
          "bdata": "l8wTQQ==",
          "dtype": "f4"
         },
         "xaxis": "x",
         "y": {
          "bdata": "FBD2wA==",
          "dtype": "f4"
         },
         "yaxis": "y"
        },
        {
         "hovertemplate": "id=sv10-6<br>class=truth<br>x=%{x}<br>y=%{y}<extra></extra>",
         "legendgroup": "sv10-6, truth",
         "marker": {
          "color": "#FF6692",
          "symbol": "diamond"
         },
         "mode": "markers",
         "name": "sv10-6, truth",
         "orientation": "v",
         "showlegend": true,
         "type": "scatter",
         "x": {
          "bdata": "OYoFQQ==",
          "dtype": "f4"
         },
         "xaxis": "x",
         "y": {
          "bdata": "4FKTwA==",
          "dtype": "f4"
         },
         "yaxis": "y"
        },
        {
         "hovertemplate": "id=sv10-7<br>class=truth<br>x=%{x}<br>y=%{y}<extra></extra>",
         "legendgroup": "sv10-7, truth",
         "marker": {
          "color": "#B6E880",
          "symbol": "diamond"
         },
         "mode": "markers",
         "name": "sv10-7, truth",
         "orientation": "v",
         "showlegend": true,
         "type": "scatter",
         "x": {
          "bdata": "+2kxQQ==",
          "dtype": "f4"
         },
         "xaxis": "x",
         "y": {
          "bdata": "zuXnwA==",
          "dtype": "f4"
         },
         "yaxis": "y"
        },
        {
         "hovertemplate": "id=sv10-8<br>class=truth<br>x=%{x}<br>y=%{y}<extra></extra>",
         "legendgroup": "sv10-8, truth",
         "marker": {
          "color": "#FF97FF",
          "symbol": "diamond"
         },
         "mode": "markers",
         "name": "sv10-8, truth",
         "orientation": "v",
         "showlegend": true,
         "type": "scatter",
         "x": {
          "bdata": "114UwA==",
          "dtype": "f4"
         },
         "xaxis": "x",
         "y": {
          "bdata": "y5Lqvw==",
          "dtype": "f4"
         },
         "yaxis": "y"
        },
        {
         "hovertemplate": "id=sv10-9<br>class=truth<br>x=%{x}<br>y=%{y}<extra></extra>",
         "legendgroup": "sv10-9, truth",
         "marker": {
          "color": "#FECB52",
          "symbol": "diamond"
         },
         "mode": "markers",
         "name": "sv10-9, truth",
         "orientation": "v",
         "showlegend": true,
         "type": "scatter",
         "x": {
          "bdata": "/UVGPw==",
          "dtype": "f4"
         },
         "xaxis": "x",
         "y": {
          "bdata": "BF9dwQ==",
          "dtype": "f4"
         },
         "yaxis": "y"
        },
        {
         "hovertemplate": "id=sv10-10<br>class=truth<br>x=%{x}<br>y=%{y}<extra></extra>",
         "legendgroup": "sv10-10, truth",
         "marker": {
          "color": "#636efa",
          "symbol": "diamond"
         },
         "mode": "markers",
         "name": "sv10-10, truth",
         "orientation": "v",
         "showlegend": true,
         "type": "scatter",
         "x": {
          "bdata": "m8RUQQ==",
          "dtype": "f4"
         },
         "xaxis": "x",
         "y": {
          "bdata": "79W1wA==",
          "dtype": "f4"
         },
         "yaxis": "y"
        },
        {
         "hovertemplate": "id=sv10-11<br>class=truth<br>x=%{x}<br>y=%{y}<extra></extra>",
         "legendgroup": "sv10-11, truth",
         "marker": {
          "color": "#EF553B",
          "symbol": "diamond"
         },
         "mode": "markers",
         "name": "sv10-11, truth",
         "orientation": "v",
         "showlegend": true,
         "type": "scatter",
         "x": {
          "bdata": "XOusQA==",
          "dtype": "f4"
         },
         "xaxis": "x",
         "y": {
          "bdata": "hXwLwQ==",
          "dtype": "f4"
         },
         "yaxis": "y"
        },
        {
         "hovertemplate": "id=sv10-12<br>class=truth<br>x=%{x}<br>y=%{y}<extra></extra>",
         "legendgroup": "sv10-12, truth",
         "marker": {
          "color": "#00cc96",
          "symbol": "diamond"
         },
         "mode": "markers",
         "name": "sv10-12, truth",
         "orientation": "v",
         "showlegend": true,
         "type": "scatter",
         "x": {
          "bdata": "rx90QA==",
          "dtype": "f4"
         },
         "xaxis": "x",
         "y": {
          "bdata": "PxcSwQ==",
          "dtype": "f4"
         },
         "yaxis": "y"
        },
        {
         "hovertemplate": "id=sv10-13<br>class=truth<br>x=%{x}<br>y=%{y}<extra></extra>",
         "legendgroup": "sv10-13, truth",
         "marker": {
          "color": "#ab63fa",
          "symbol": "diamond"
         },
         "mode": "markers",
         "name": "sv10-13, truth",
         "orientation": "v",
         "showlegend": true,
         "type": "scatter",
         "x": {
          "bdata": "sdMjQQ==",
          "dtype": "f4"
         },
         "xaxis": "x",
         "y": {
          "bdata": "Aq/CwA==",
          "dtype": "f4"
         },
         "yaxis": "y"
        },
        {
         "hovertemplate": "id=sv10-14<br>class=truth<br>x=%{x}<br>y=%{y}<extra></extra>",
         "legendgroup": "sv10-14, truth",
         "marker": {
          "color": "#FFA15A",
          "symbol": "diamond"
         },
         "mode": "markers",
         "name": "sv10-14, truth",
         "orientation": "v",
         "showlegend": true,
         "type": "scatter",
         "x": {
          "bdata": "jUtHQQ==",
          "dtype": "f4"
         },
         "xaxis": "x",
         "y": {
          "bdata": "RZrVwA==",
          "dtype": "f4"
         },
         "yaxis": "y"
        },
        {
         "hovertemplate": "id=sv10-15<br>class=truth<br>x=%{x}<br>y=%{y}<extra></extra>",
         "legendgroup": "sv10-15, truth",
         "marker": {
          "color": "#19d3f3",
          "symbol": "diamond"
         },
         "mode": "markers",
         "name": "sv10-15, truth",
         "orientation": "v",
         "showlegend": true,
         "type": "scatter",
         "x": {
          "bdata": "0NsUwA==",
          "dtype": "f4"
         },
         "xaxis": "x",
         "y": {
          "bdata": "TkiCwA==",
          "dtype": "f4"
         },
         "yaxis": "y"
        },
        {
         "hovertemplate": "id=sv10-16<br>class=truth<br>x=%{x}<br>y=%{y}<extra></extra>",
         "legendgroup": "sv10-16, truth",
         "marker": {
          "color": "#FF6692",
          "symbol": "diamond"
         },
         "mode": "markers",
         "name": "sv10-16, truth",
         "orientation": "v",
         "showlegend": true,
         "type": "scatter",
         "x": {
          "bdata": "9LQPQQ==",
          "dtype": "f4"
         },
         "xaxis": "x",
         "y": {
          "bdata": "ExKlwA==",
          "dtype": "f4"
         },
         "yaxis": "y"
        },
        {
         "hovertemplate": "id=sv10-18<br>class=truth<br>x=%{x}<br>y=%{y}<extra></extra>",
         "legendgroup": "sv10-18, truth",
         "marker": {
          "color": "#B6E880",
          "symbol": "diamond"
         },
         "mode": "markers",
         "name": "sv10-18, truth",
         "orientation": "v",
         "showlegend": true,
         "type": "scatter",
         "x": {
          "bdata": "5WFSwA==",
          "dtype": "f4"
         },
         "xaxis": "x",
         "y": {
          "bdata": "HVTHPw==",
          "dtype": "f4"
         },
         "yaxis": "y"
        },
        {
         "hovertemplate": "id=sv10-19<br>class=truth<br>x=%{x}<br>y=%{y}<extra></extra>",
         "legendgroup": "sv10-19, truth",
         "marker": {
          "color": "#FF97FF",
          "symbol": "diamond"
         },
         "mode": "markers",
         "name": "sv10-19, truth",
         "orientation": "v",
         "showlegend": true,
         "type": "scatter",
         "x": {
          "bdata": "h2bIQA==",
          "dtype": "f4"
         },
         "xaxis": "x",
         "y": {
          "bdata": "e3nHwA==",
          "dtype": "f4"
         },
         "yaxis": "y"
        },
        {
         "hovertemplate": "id=sv10-20<br>class=truth<br>x=%{x}<br>y=%{y}<extra></extra>",
         "legendgroup": "sv10-20, truth",
         "marker": {
          "color": "#FECB52",
          "symbol": "diamond"
         },
         "mode": "markers",
         "name": "sv10-20, truth",
         "orientation": "v",
         "showlegend": true,
         "type": "scatter",
         "x": {
          "bdata": "hlK+Pg==",
          "dtype": "f4"
         },
         "xaxis": "x",
         "y": {
          "bdata": "wW49wQ==",
          "dtype": "f4"
         },
         "yaxis": "y"
        },
        {
         "hovertemplate": "id=sv10-21<br>class=truth<br>x=%{x}<br>y=%{y}<extra></extra>",
         "legendgroup": "sv10-21, truth",
         "marker": {
          "color": "#636efa",
          "symbol": "diamond"
         },
         "mode": "markers",
         "name": "sv10-21, truth",
         "orientation": "v",
         "showlegend": true,
         "type": "scatter",
         "x": {
          "bdata": "3LItQQ==",
          "dtype": "f4"
         },
         "xaxis": "x",
         "y": {
          "bdata": "WeWkwA==",
          "dtype": "f4"
         },
         "yaxis": "y"
        },
        {
         "hovertemplate": "id=sv10-23<br>class=truth<br>x=%{x}<br>y=%{y}<extra></extra>",
         "legendgroup": "sv10-23, truth",
         "marker": {
          "color": "#EF553B",
          "symbol": "diamond"
         },
         "mode": "markers",
         "name": "sv10-23, truth",
         "orientation": "v",
         "showlegend": true,
         "type": "scatter",
         "x": {
          "bdata": "CBvtvw==",
          "dtype": "f4"
         },
         "xaxis": "x",
         "y": {
          "bdata": "f10cwQ==",
          "dtype": "f4"
         },
         "yaxis": "y"
        },
        {
         "hovertemplate": "id=sv10-25<br>class=truth<br>x=%{x}<br>y=%{y}<extra></extra>",
         "legendgroup": "sv10-25, truth",
         "marker": {
          "color": "#00cc96",
          "symbol": "diamond"
         },
         "mode": "markers",
         "name": "sv10-25, truth",
         "orientation": "v",
         "showlegend": true,
         "type": "scatter",
         "x": {
          "bdata": "Umo0vw==",
          "dtype": "f4"
         },
         "xaxis": "x",
         "y": {
          "bdata": "lroAwQ==",
          "dtype": "f4"
         },
         "yaxis": "y"
        },
        {
         "hovertemplate": "id=sv10-26<br>class=truth<br>x=%{x}<br>y=%{y}<extra></extra>",
         "legendgroup": "sv10-26, truth",
         "marker": {
          "color": "#ab63fa",
          "symbol": "diamond"
         },
         "mode": "markers",
         "name": "sv10-26, truth",
         "orientation": "v",
         "showlegend": true,
         "type": "scatter",
         "x": {
          "bdata": "huTQwA==",
          "dtype": "f4"
         },
         "xaxis": "x",
         "y": {
          "bdata": "PtKnwQ==",
          "dtype": "f4"
         },
         "yaxis": "y"
        },
        {
         "hovertemplate": "id=sv10-27<br>class=truth<br>x=%{x}<br>y=%{y}<extra></extra>",
         "legendgroup": "sv10-27, truth",
         "marker": {
          "color": "#FFA15A",
          "symbol": "diamond"
         },
         "mode": "markers",
         "name": "sv10-27, truth",
         "orientation": "v",
         "showlegend": true,
         "type": "scatter",
         "x": {
          "bdata": "a5Hgvw==",
          "dtype": "f4"
         },
         "xaxis": "x",
         "y": {
          "bdata": "/IroQA==",
          "dtype": "f4"
         },
         "yaxis": "y"
        },
        {
         "hovertemplate": "id=sv10-28<br>class=truth<br>x=%{x}<br>y=%{y}<extra></extra>",
         "legendgroup": "sv10-28, truth",
         "marker": {
          "color": "#19d3f3",
          "symbol": "diamond"
         },
         "mode": "markers",
         "name": "sv10-28, truth",
         "orientation": "v",
         "showlegend": true,
         "type": "scatter",
         "x": {
          "bdata": "cKTEvg==",
          "dtype": "f4"
         },
         "xaxis": "x",
         "y": {
          "bdata": "sxf6QA==",
          "dtype": "f4"
         },
         "yaxis": "y"
        },
        {
         "hovertemplate": "id=sv10-29<br>class=truth<br>x=%{x}<br>y=%{y}<extra></extra>",
         "legendgroup": "sv10-29, truth",
         "marker": {
          "color": "#FF6692",
          "symbol": "diamond"
         },
         "mode": "markers",
         "name": "sv10-29, truth",
         "orientation": "v",
         "showlegend": true,
         "type": "scatter",
         "x": {
          "bdata": "wyXnQA==",
          "dtype": "f4"
         },
         "xaxis": "x",
         "y": {
          "bdata": "QCw6QA==",
          "dtype": "f4"
         },
         "yaxis": "y"
        },
        {
         "hovertemplate": "id=sv10-30<br>class=truth<br>x=%{x}<br>y=%{y}<extra></extra>",
         "legendgroup": "sv10-30, truth",
         "marker": {
          "color": "#B6E880",
          "symbol": "diamond"
         },
         "mode": "markers",
         "name": "sv10-30, truth",
         "orientation": "v",
         "showlegend": true,
         "type": "scatter",
         "x": {
          "bdata": "284QQQ==",
          "dtype": "f4"
         },
         "xaxis": "x",
         "y": {
          "bdata": "Pvi0QQ==",
          "dtype": "f4"
         },
         "yaxis": "y"
        },
        {
         "hovertemplate": "id=sv10-31<br>class=truth<br>x=%{x}<br>y=%{y}<extra></extra>",
         "legendgroup": "sv10-31, truth",
         "marker": {
          "color": "#FF97FF",
          "symbol": "diamond"
         },
         "mode": "markers",
         "name": "sv10-31, truth",
         "orientation": "v",
         "showlegend": true,
         "type": "scatter",
         "x": {
          "bdata": "y+0NQA==",
          "dtype": "f4"
         },
         "xaxis": "x",
         "y": {
          "bdata": "vlkeQQ==",
          "dtype": "f4"
         },
         "yaxis": "y"
        },
        {
         "hovertemplate": "id=sv10-32<br>class=truth<br>x=%{x}<br>y=%{y}<extra></extra>",
         "legendgroup": "sv10-32, truth",
         "marker": {
          "color": "#FECB52",
          "symbol": "diamond"
         },
         "mode": "markers",
         "name": "sv10-32, truth",
         "orientation": "v",
         "showlegend": true,
         "type": "scatter",
         "x": {
          "bdata": "M6+KQA==",
          "dtype": "f4"
         },
         "xaxis": "x",
         "y": {
          "bdata": "uz59QQ==",
          "dtype": "f4"
         },
         "yaxis": "y"
        },
        {
         "hovertemplate": "id=sv10-34<br>class=truth<br>x=%{x}<br>y=%{y}<extra></extra>",
         "legendgroup": "sv10-34, truth",
         "marker": {
          "color": "#636efa",
          "symbol": "diamond"
         },
         "mode": "markers",
         "name": "sv10-34, truth",
         "orientation": "v",
         "showlegend": true,
         "type": "scatter",
         "x": {
          "bdata": "E+HGPw==",
          "dtype": "f4"
         },
         "xaxis": "x",
         "y": {
          "bdata": "aNBxQQ==",
          "dtype": "f4"
         },
         "yaxis": "y"
        },
        {
         "hovertemplate": "id=sv10-36<br>class=truth<br>x=%{x}<br>y=%{y}<extra></extra>",
         "legendgroup": "sv10-36, truth",
         "marker": {
          "color": "#EF553B",
          "symbol": "diamond"
         },
         "mode": "markers",
         "name": "sv10-36, truth",
         "orientation": "v",
         "showlegend": true,
         "type": "scatter",
         "x": {
          "bdata": "uxG5QA==",
          "dtype": "f4"
         },
         "xaxis": "x",
         "y": {
          "bdata": "SGyNQQ==",
          "dtype": "f4"
         },
         "yaxis": "y"
        },
        {
         "hovertemplate": "id=sv10-39<br>class=truth<br>x=%{x}<br>y=%{y}<extra></extra>",
         "legendgroup": "sv10-39, truth",
         "marker": {
          "color": "#00cc96",
          "symbol": "diamond"
         },
         "mode": "markers",
         "name": "sv10-39, truth",
         "orientation": "v",
         "showlegend": true,
         "type": "scatter",
         "x": {
          "bdata": "i8pwvw==",
          "dtype": "f4"
         },
         "xaxis": "x",
         "y": {
          "bdata": "lDFQQQ==",
          "dtype": "f4"
         },
         "yaxis": "y"
        },
        {
         "hovertemplate": "id=sv10-40<br>class=truth<br>x=%{x}<br>y=%{y}<extra></extra>",
         "legendgroup": "sv10-40, truth",
         "marker": {
          "color": "#ab63fa",
          "symbol": "diamond"
         },
         "mode": "markers",
         "name": "sv10-40, truth",
         "orientation": "v",
         "showlegend": true,
         "type": "scatter",
         "x": {
          "bdata": "pO2cvA==",
          "dtype": "f4"
         },
         "xaxis": "x",
         "y": {
          "bdata": "dYYnQQ==",
          "dtype": "f4"
         },
         "yaxis": "y"
        },
        {
         "hovertemplate": "id=sv10-41<br>class=truth<br>x=%{x}<br>y=%{y}<extra></extra>",
         "legendgroup": "sv10-41, truth",
         "marker": {
          "color": "#FFA15A",
          "symbol": "diamond"
         },
         "mode": "markers",
         "name": "sv10-41, truth",
         "orientation": "v",
         "showlegend": true,
         "type": "scatter",
         "x": {
          "bdata": "4YhuPw==",
          "dtype": "f4"
         },
         "xaxis": "x",
         "y": {
          "bdata": "cOEYQQ==",
          "dtype": "f4"
         },
         "yaxis": "y"
        },
        {
         "hovertemplate": "id=sv10-42<br>class=truth<br>x=%{x}<br>y=%{y}<extra></extra>",
         "legendgroup": "sv10-42, truth",
         "marker": {
          "color": "#19d3f3",
          "symbol": "diamond"
         },
         "mode": "markers",
         "name": "sv10-42, truth",
         "orientation": "v",
         "showlegend": true,
         "type": "scatter",
         "x": {
          "bdata": "HRBrPw==",
          "dtype": "f4"
         },
         "xaxis": "x",
         "y": {
          "bdata": "hj0DQQ==",
          "dtype": "f4"
         },
         "yaxis": "y"
        },
        {
         "hovertemplate": "id=sv10-43<br>class=truth<br>x=%{x}<br>y=%{y}<extra></extra>",
         "legendgroup": "sv10-43, truth",
         "marker": {
          "color": "#FF6692",
          "symbol": "diamond"
         },
         "mode": "markers",
         "name": "sv10-43, truth",
         "orientation": "v",
         "showlegend": true,
         "type": "scatter",
         "x": {
          "bdata": "uG/AvA==",
          "dtype": "f4"
         },
         "xaxis": "x",
         "y": {
          "bdata": "NF6JwQ==",
          "dtype": "f4"
         },
         "yaxis": "y"
        },
        {
         "hovertemplate": "id=sv10-44<br>class=truth<br>x=%{x}<br>y=%{y}<extra></extra>",
         "legendgroup": "sv10-44, truth",
         "marker": {
          "color": "#B6E880",
          "symbol": "diamond"
         },
         "mode": "markers",
         "name": "sv10-44, truth",
         "orientation": "v",
         "showlegend": true,
         "type": "scatter",
         "x": {
          "bdata": "h5WvwA==",
          "dtype": "f4"
         },
         "xaxis": "x",
         "y": {
          "bdata": "1iqiwQ==",
          "dtype": "f4"
         },
         "yaxis": "y"
        },
        {
         "hovertemplate": "id=sv10-45<br>class=truth<br>x=%{x}<br>y=%{y}<extra></extra>",
         "legendgroup": "sv10-45, truth",
         "marker": {
          "color": "#FF97FF",
          "symbol": "diamond"
         },
         "mode": "markers",
         "name": "sv10-45, truth",
         "orientation": "v",
         "showlegend": true,
         "type": "scatter",
         "x": {
          "bdata": "+VEbwQ==",
          "dtype": "f4"
         },
         "xaxis": "x",
         "y": {
          "bdata": "dEtHQQ==",
          "dtype": "f4"
         },
         "yaxis": "y"
        },
        {
         "hovertemplate": "id=sv10-46<br>class=truth<br>x=%{x}<br>y=%{y}<extra></extra>",
         "legendgroup": "sv10-46, truth",
         "marker": {
          "color": "#FECB52",
          "symbol": "diamond"
         },
         "mode": "markers",
         "name": "sv10-46, truth",
         "orientation": "v",
         "showlegend": true,
         "type": "scatter",
         "x": {
          "bdata": "IRG2wA==",
          "dtype": "f4"
         },
         "xaxis": "x",
         "y": {
          "bdata": "nWwNQQ==",
          "dtype": "f4"
         },
         "yaxis": "y"
        },
        {
         "hovertemplate": "id=sv10-47<br>class=truth<br>x=%{x}<br>y=%{y}<extra></extra>",
         "legendgroup": "sv10-47, truth",
         "marker": {
          "color": "#636efa",
          "symbol": "diamond"
         },
         "mode": "markers",
         "name": "sv10-47, truth",
         "orientation": "v",
         "showlegend": true,
         "type": "scatter",
         "x": {
          "bdata": "tBe1wA==",
          "dtype": "f4"
         },
         "xaxis": "x",
         "y": {
          "bdata": "L5cCQQ==",
          "dtype": "f4"
         },
         "yaxis": "y"
        },
        {
         "hovertemplate": "id=sv10-49<br>class=truth<br>x=%{x}<br>y=%{y}<extra></extra>",
         "legendgroup": "sv10-49, truth",
         "marker": {
          "color": "#EF553B",
          "symbol": "diamond"
         },
         "mode": "markers",
         "name": "sv10-49, truth",
         "orientation": "v",
         "showlegend": true,
         "type": "scatter",
         "x": {
          "bdata": "fl/wwA==",
          "dtype": "f4"
         },
         "xaxis": "x",
         "y": {
          "bdata": "aPECQQ==",
          "dtype": "f4"
         },
         "yaxis": "y"
        },
        {
         "hovertemplate": "id=sv10-50<br>class=truth<br>x=%{x}<br>y=%{y}<extra></extra>",
         "legendgroup": "sv10-50, truth",
         "marker": {
          "color": "#00cc96",
          "symbol": "diamond"
         },
         "mode": "markers",
         "name": "sv10-50, truth",
         "orientation": "v",
         "showlegend": true,
         "type": "scatter",
         "x": {
          "bdata": "jj72wA==",
          "dtype": "f4"
         },
         "xaxis": "x",
         "y": {
          "bdata": "yuC2QA==",
          "dtype": "f4"
         },
         "yaxis": "y"
        },
        {
         "hovertemplate": "id=sv10-51<br>class=truth<br>x=%{x}<br>y=%{y}<extra></extra>",
         "legendgroup": "sv10-51, truth",
         "marker": {
          "color": "#ab63fa",
          "symbol": "diamond"
         },
         "mode": "markers",
         "name": "sv10-51, truth",
         "orientation": "v",
         "showlegend": true,
         "type": "scatter",
         "x": {
          "bdata": "SmheQA==",
          "dtype": "f4"
         },
         "xaxis": "x",
         "y": {
          "bdata": "ZYQQQQ==",
          "dtype": "f4"
         },
         "yaxis": "y"
        },
        {
         "hovertemplate": "id=sv10-52<br>class=truth<br>x=%{x}<br>y=%{y}<extra></extra>",
         "legendgroup": "sv10-52, truth",
         "marker": {
          "color": "#FFA15A",
          "symbol": "diamond"
         },
         "mode": "markers",
         "name": "sv10-52, truth",
         "orientation": "v",
         "showlegend": true,
         "type": "scatter",
         "x": {
          "bdata": "icmsQA==",
          "dtype": "f4"
         },
         "xaxis": "x",
         "y": {
          "bdata": "w/oSwA==",
          "dtype": "f4"
         },
         "yaxis": "y"
        },
        {
         "hovertemplate": "id=sv10-54<br>class=truth<br>x=%{x}<br>y=%{y}<extra></extra>",
         "legendgroup": "sv10-54, truth",
         "marker": {
          "color": "#19d3f3",
          "symbol": "diamond"
         },
         "mode": "markers",
         "name": "sv10-54, truth",
         "orientation": "v",
         "showlegend": true,
         "type": "scatter",
         "x": {
          "bdata": "O4r3QA==",
          "dtype": "f4"
         },
         "xaxis": "x",
         "y": {
          "bdata": "eCImwQ==",
          "dtype": "f4"
         },
         "yaxis": "y"
        },
        {
         "hovertemplate": "id=sv10-55<br>class=truth<br>x=%{x}<br>y=%{y}<extra></extra>",
         "legendgroup": "sv10-55, truth",
         "marker": {
          "color": "#FF6692",
          "symbol": "diamond"
         },
         "mode": "markers",
         "name": "sv10-55, truth",
         "orientation": "v",
         "showlegend": true,
         "type": "scatter",
         "x": {
          "bdata": "kB0GwQ==",
          "dtype": "f4"
         },
         "xaxis": "x",
         "y": {
          "bdata": "TfAFQQ==",
          "dtype": "f4"
         },
         "yaxis": "y"
        },
        {
         "hovertemplate": "id=sv10-56<br>class=truth<br>x=%{x}<br>y=%{y}<extra></extra>",
         "legendgroup": "sv10-56, truth",
         "marker": {
          "color": "#B6E880",
          "symbol": "diamond"
         },
         "mode": "markers",
         "name": "sv10-56, truth",
         "orientation": "v",
         "showlegend": true,
         "type": "scatter",
         "x": {
          "bdata": "N0AFQQ==",
          "dtype": "f4"
         },
         "xaxis": "x",
         "y": {
          "bdata": "r75MwQ==",
          "dtype": "f4"
         },
         "yaxis": "y"
        },
        {
         "hovertemplate": "id=sv10-57<br>class=truth<br>x=%{x}<br>y=%{y}<extra></extra>",
         "legendgroup": "sv10-57, truth",
         "marker": {
          "color": "#FF97FF",
          "symbol": "diamond"
         },
         "mode": "markers",
         "name": "sv10-57, truth",
         "orientation": "v",
         "showlegend": true,
         "type": "scatter",
         "x": {
          "bdata": "6DQfwQ==",
          "dtype": "f4"
         },
         "xaxis": "x",
         "y": {
          "bdata": "eV/OQA==",
          "dtype": "f4"
         },
         "yaxis": "y"
        },
        {
         "hovertemplate": "id=sv10-58<br>class=truth<br>x=%{x}<br>y=%{y}<extra></extra>",
         "legendgroup": "sv10-58, truth",
         "marker": {
          "color": "#FECB52",
          "symbol": "diamond"
         },
         "mode": "markers",
         "name": "sv10-58, truth",
         "orientation": "v",
         "showlegend": true,
         "type": "scatter",
         "x": {
          "bdata": "8xIQwQ==",
          "dtype": "f4"
         },
         "xaxis": "x",
         "y": {
          "bdata": "96b0QA==",
          "dtype": "f4"
         },
         "yaxis": "y"
        },
        {
         "hovertemplate": "id=sv10-59<br>class=truth<br>x=%{x}<br>y=%{y}<extra></extra>",
         "legendgroup": "sv10-59, truth",
         "marker": {
          "color": "#636efa",
          "symbol": "diamond"
         },
         "mode": "markers",
         "name": "sv10-59, truth",
         "orientation": "v",
         "showlegend": true,
         "type": "scatter",
         "x": {
          "bdata": "aj9NwA==",
          "dtype": "f4"
         },
         "xaxis": "x",
         "y": {
          "bdata": "akdjwQ==",
          "dtype": "f4"
         },
         "yaxis": "y"
        },
        {
         "hovertemplate": "id=sv10-60<br>class=truth<br>x=%{x}<br>y=%{y}<extra></extra>",
         "legendgroup": "sv10-60, truth",
         "marker": {
          "color": "#EF553B",
          "symbol": "diamond"
         },
         "mode": "markers",
         "name": "sv10-60, truth",
         "orientation": "v",
         "showlegend": true,
         "type": "scatter",
         "x": {
          "bdata": "o/kRwA==",
          "dtype": "f4"
         },
         "xaxis": "x",
         "y": {
          "bdata": "R1NawQ==",
          "dtype": "f4"
         },
         "yaxis": "y"
        },
        {
         "hovertemplate": "id=sv10-61<br>class=truth<br>x=%{x}<br>y=%{y}<extra></extra>",
         "legendgroup": "sv10-61, truth",
         "marker": {
          "color": "#00cc96",
          "symbol": "diamond"
         },
         "mode": "markers",
         "name": "sv10-61, truth",
         "orientation": "v",
         "showlegend": true,
         "type": "scatter",
         "x": {
          "bdata": "RlDSPg==",
          "dtype": "f4"
         },
         "xaxis": "x",
         "y": {
          "bdata": "Rd6CwQ==",
          "dtype": "f4"
         },
         "yaxis": "y"
        },
        {
         "hovertemplate": "id=sv10-62<br>class=truth<br>x=%{x}<br>y=%{y}<extra></extra>",
         "legendgroup": "sv10-62, truth",
         "marker": {
          "color": "#ab63fa",
          "symbol": "diamond"
         },
         "mode": "markers",
         "name": "sv10-62, truth",
         "orientation": "v",
         "showlegend": true,
         "type": "scatter",
         "x": {
          "bdata": "ancxwQ==",
          "dtype": "f4"
         },
         "xaxis": "x",
         "y": {
          "bdata": "OkMUQQ==",
          "dtype": "f4"
         },
         "yaxis": "y"
        },
        {
         "hovertemplate": "id=sv10-63<br>class=truth<br>x=%{x}<br>y=%{y}<extra></extra>",
         "legendgroup": "sv10-63, truth",
         "marker": {
          "color": "#FFA15A",
          "symbol": "diamond"
         },
         "mode": "markers",
         "name": "sv10-63, truth",
         "orientation": "v",
         "showlegend": true,
         "type": "scatter",
         "x": {
          "bdata": "K9cXwQ==",
          "dtype": "f4"
         },
         "xaxis": "x",
         "y": {
          "bdata": "/usLQQ==",
          "dtype": "f4"
         },
         "yaxis": "y"
        },
        {
         "hovertemplate": "id=sv10-64<br>class=truth<br>x=%{x}<br>y=%{y}<extra></extra>",
         "legendgroup": "sv10-64, truth",
         "marker": {
          "color": "#19d3f3",
          "symbol": "diamond"
         },
         "mode": "markers",
         "name": "sv10-64, truth",
         "orientation": "v",
         "showlegend": true,
         "type": "scatter",
         "x": {
          "bdata": "FGuIwA==",
          "dtype": "f4"
         },
         "xaxis": "x",
         "y": {
          "bdata": "7KlqwQ==",
          "dtype": "f4"
         },
         "yaxis": "y"
        },
        {
         "hovertemplate": "id=sv10-65<br>class=truth<br>x=%{x}<br>y=%{y}<extra></extra>",
         "legendgroup": "sv10-65, truth",
         "marker": {
          "color": "#FF6692",
          "symbol": "diamond"
         },
         "mode": "markers",
         "name": "sv10-65, truth",
         "orientation": "v",
         "showlegend": true,
         "type": "scatter",
         "x": {
          "bdata": "gqhZwA==",
          "dtype": "f4"
         },
         "xaxis": "x",
         "y": {
          "bdata": "CBBBwQ==",
          "dtype": "f4"
         },
         "yaxis": "y"
        },
        {
         "hovertemplate": "id=sv10-66<br>class=truth<br>x=%{x}<br>y=%{y}<extra></extra>",
         "legendgroup": "sv10-66, truth",
         "marker": {
          "color": "#B6E880",
          "symbol": "diamond"
         },
         "mode": "markers",
         "name": "sv10-66, truth",
         "orientation": "v",
         "showlegend": true,
         "type": "scatter",
         "x": {
          "bdata": "OCxbQA==",
          "dtype": "f4"
         },
         "xaxis": "x",
         "y": {
          "bdata": "QVCXwQ==",
          "dtype": "f4"
         },
         "yaxis": "y"
        },
        {
         "hovertemplate": "id=sv10-67<br>class=truth<br>x=%{x}<br>y=%{y}<extra></extra>",
         "legendgroup": "sv10-67, truth",
         "marker": {
          "color": "#FF97FF",
          "symbol": "diamond"
         },
         "mode": "markers",
         "name": "sv10-67, truth",
         "orientation": "v",
         "showlegend": true,
         "type": "scatter",
         "x": {
          "bdata": "s/DRwA==",
          "dtype": "f4"
         },
         "xaxis": "x",
         "y": {
          "bdata": "QXScwQ==",
          "dtype": "f4"
         },
         "yaxis": "y"
        },
        {
         "hovertemplate": "id=sv10-68<br>class=truth<br>x=%{x}<br>y=%{y}<extra></extra>",
         "legendgroup": "sv10-68, truth",
         "marker": {
          "color": "#FECB52",
          "symbol": "diamond"
         },
         "mode": "markers",
         "name": "sv10-68, truth",
         "orientation": "v",
         "showlegend": true,
         "type": "scatter",
         "x": {
          "bdata": "C8u2Pw==",
          "dtype": "f4"
         },
         "xaxis": "x",
         "y": {
          "bdata": "8k7XPw==",
          "dtype": "f4"
         },
         "yaxis": "y"
        },
        {
         "hovertemplate": "id=sv10-69<br>class=truth<br>x=%{x}<br>y=%{y}<extra></extra>",
         "legendgroup": "sv10-69, truth",
         "marker": {
          "color": "#636efa",
          "symbol": "diamond"
         },
         "mode": "markers",
         "name": "sv10-69, truth",
         "orientation": "v",
         "showlegend": true,
         "type": "scatter",
         "x": {
          "bdata": "uTDsPw==",
          "dtype": "f4"
         },
         "xaxis": "x",
         "y": {
          "bdata": "xFFKQA==",
          "dtype": "f4"
         },
         "yaxis": "y"
        },
        {
         "hovertemplate": "id=sv10-70<br>class=truth<br>x=%{x}<br>y=%{y}<extra></extra>",
         "legendgroup": "sv10-70, truth",
         "marker": {
          "color": "#EF553B",
          "symbol": "diamond"
         },
         "mode": "markers",
         "name": "sv10-70, truth",
         "orientation": "v",
         "showlegend": true,
         "type": "scatter",
         "x": {
          "bdata": "nSkAPw==",
          "dtype": "f4"
         },
         "xaxis": "x",
         "y": {
          "bdata": "pCe3QA==",
          "dtype": "f4"
         },
         "yaxis": "y"
        },
        {
         "hovertemplate": "id=sv10-71<br>class=truth<br>x=%{x}<br>y=%{y}<extra></extra>",
         "legendgroup": "sv10-71, truth",
         "marker": {
          "color": "#00cc96",
          "symbol": "diamond"
         },
         "mode": "markers",
         "name": "sv10-71, truth",
         "orientation": "v",
         "showlegend": true,
         "type": "scatter",
         "x": {
          "bdata": "TEQmvw==",
          "dtype": "f4"
         },
         "xaxis": "x",
         "y": {
          "bdata": "fKJXQA==",
          "dtype": "f4"
         },
         "yaxis": "y"
        },
        {
         "hovertemplate": "id=sv10-72<br>class=truth<br>x=%{x}<br>y=%{y}<extra></extra>",
         "legendgroup": "sv10-72, truth",
         "marker": {
          "color": "#ab63fa",
          "symbol": "diamond"
         },
         "mode": "markers",
         "name": "sv10-72, truth",
         "orientation": "v",
         "showlegend": true,
         "type": "scatter",
         "x": {
          "bdata": "ACejQA==",
          "dtype": "f4"
         },
         "xaxis": "x",
         "y": {
          "bdata": "9JCQPw==",
          "dtype": "f4"
         },
         "yaxis": "y"
        },
        {
         "hovertemplate": "id=sv10-73<br>class=truth<br>x=%{x}<br>y=%{y}<extra></extra>",
         "legendgroup": "sv10-73, truth",
         "marker": {
          "color": "#FFA15A",
          "symbol": "diamond"
         },
         "mode": "markers",
         "name": "sv10-73, truth",
         "orientation": "v",
         "showlegend": true,
         "type": "scatter",
         "x": {
          "bdata": "g3C4QA==",
          "dtype": "f4"
         },
         "xaxis": "x",
         "y": {
          "bdata": "XnJsPw==",
          "dtype": "f4"
         },
         "yaxis": "y"
        },
        {
         "hovertemplate": "id=sv10-74<br>class=truth<br>x=%{x}<br>y=%{y}<extra></extra>",
         "legendgroup": "sv10-74, truth",
         "marker": {
          "color": "#19d3f3",
          "symbol": "diamond"
         },
         "mode": "markers",
         "name": "sv10-74, truth",
         "orientation": "v",
         "showlegend": true,
         "type": "scatter",
         "x": {
          "bdata": "4CdfQA==",
          "dtype": "f4"
         },
         "xaxis": "x",
         "y": {
          "bdata": "tJ73Pw==",
          "dtype": "f4"
         },
         "yaxis": "y"
        },
        {
         "hovertemplate": "id=sv10-76<br>class=truth<br>x=%{x}<br>y=%{y}<extra></extra>",
         "legendgroup": "sv10-76, truth",
         "marker": {
          "color": "#FF6692",
          "symbol": "diamond"
         },
         "mode": "markers",
         "name": "sv10-76, truth",
         "orientation": "v",
         "showlegend": true,
         "type": "scatter",
         "x": {
          "bdata": "hLuoPg==",
          "dtype": "f4"
         },
         "xaxis": "x",
         "y": {
          "bdata": "e7qCQA==",
          "dtype": "f4"
         },
         "yaxis": "y"
        },
        {
         "hovertemplate": "id=sv10-77<br>class=truth<br>x=%{x}<br>y=%{y}<extra></extra>",
         "legendgroup": "sv10-77, truth",
         "marker": {
          "color": "#B6E880",
          "symbol": "diamond"
         },
         "mode": "markers",
         "name": "sv10-77, truth",
         "orientation": "v",
         "showlegend": true,
         "type": "scatter",
         "x": {
          "bdata": "BCUvvw==",
          "dtype": "f4"
         },
         "xaxis": "x",
         "y": {
          "bdata": "MC6KwQ==",
          "dtype": "f4"
         },
         "yaxis": "y"
        },
        {
         "hovertemplate": "id=sv10-78<br>class=truth<br>x=%{x}<br>y=%{y}<extra></extra>",
         "legendgroup": "sv10-78, truth",
         "marker": {
          "color": "#FF97FF",
          "symbol": "diamond"
         },
         "mode": "markers",
         "name": "sv10-78, truth",
         "orientation": "v",
         "showlegend": true,
         "type": "scatter",
         "x": {
          "bdata": "uQV6Pw==",
          "dtype": "f4"
         },
         "xaxis": "x",
         "y": {
          "bdata": "c76NQA==",
          "dtype": "f4"
         },
         "yaxis": "y"
        },
        {
         "hovertemplate": "id=sv10-79<br>class=truth<br>x=%{x}<br>y=%{y}<extra></extra>",
         "legendgroup": "sv10-79, truth",
         "marker": {
          "color": "#FECB52",
          "symbol": "diamond"
         },
         "mode": "markers",
         "name": "sv10-79, truth",
         "orientation": "v",
         "showlegend": true,
         "type": "scatter",
         "x": {
          "bdata": "t2blQA==",
          "dtype": "f4"
         },
         "xaxis": "x",
         "y": {
          "bdata": "GTkPvw==",
          "dtype": "f4"
         },
         "yaxis": "y"
        },
        {
         "hovertemplate": "id=sv10-80<br>class=truth<br>x=%{x}<br>y=%{y}<extra></extra>",
         "legendgroup": "sv10-80, truth",
         "marker": {
          "color": "#636efa",
          "symbol": "diamond"
         },
         "mode": "markers",
         "name": "sv10-80, truth",
         "orientation": "v",
         "showlegend": true,
         "type": "scatter",
         "x": {
          "bdata": "9u8LwQ==",
          "dtype": "f4"
         },
         "xaxis": "x",
         "y": {
          "bdata": "YetQwQ==",
          "dtype": "f4"
         },
         "yaxis": "y"
        },
        {
         "hovertemplate": "id=sv10-81<br>class=truth<br>x=%{x}<br>y=%{y}<extra></extra>",
         "legendgroup": "sv10-81, truth",
         "marker": {
          "color": "#EF553B",
          "symbol": "diamond"
         },
         "mode": "markers",
         "name": "sv10-81, truth",
         "orientation": "v",
         "showlegend": true,
         "type": "scatter",
         "x": {
          "bdata": "h84ywQ==",
          "dtype": "f4"
         },
         "xaxis": "x",
         "y": {
          "bdata": "uQcywQ==",
          "dtype": "f4"
         },
         "yaxis": "y"
        },
        {
         "hovertemplate": "id=sv10-82<br>class=truth<br>x=%{x}<br>y=%{y}<extra></extra>",
         "legendgroup": "sv10-82, truth",
         "marker": {
          "color": "#00cc96",
          "symbol": "diamond"
         },
         "mode": "markers",
         "name": "sv10-82, truth",
         "orientation": "v",
         "showlegend": true,
         "type": "scatter",
         "x": {
          "bdata": "kgIgwQ==",
          "dtype": "f4"
         },
         "xaxis": "x",
         "y": {
          "bdata": "XLdNwA==",
          "dtype": "f4"
         },
         "yaxis": "y"
        },
        {
         "hovertemplate": "id=sv10-83<br>class=truth<br>x=%{x}<br>y=%{y}<extra></extra>",
         "legendgroup": "sv10-83, truth",
         "marker": {
          "color": "#ab63fa",
          "symbol": "diamond"
         },
         "mode": "markers",
         "name": "sv10-83, truth",
         "orientation": "v",
         "showlegend": true,
         "type": "scatter",
         "x": {
          "bdata": "4Q/4vw==",
          "dtype": "f4"
         },
         "xaxis": "x",
         "y": {
          "bdata": "gR6xwA==",
          "dtype": "f4"
         },
         "yaxis": "y"
        },
        {
         "hovertemplate": "id=sv10-84<br>class=truth<br>x=%{x}<br>y=%{y}<extra></extra>",
         "legendgroup": "sv10-84, truth",
         "marker": {
          "color": "#FFA15A",
          "symbol": "diamond"
         },
         "mode": "markers",
         "name": "sv10-84, truth",
         "orientation": "v",
         "showlegend": true,
         "type": "scatter",
         "x": {
          "bdata": "E/bVvw==",
          "dtype": "f4"
         },
         "xaxis": "x",
         "y": {
          "bdata": "nQ7RwA==",
          "dtype": "f4"
         },
         "yaxis": "y"
        },
        {
         "hovertemplate": "id=sv10-85<br>class=truth<br>x=%{x}<br>y=%{y}<extra></extra>",
         "legendgroup": "sv10-85, truth",
         "marker": {
          "color": "#19d3f3",
          "symbol": "diamond"
         },
         "mode": "markers",
         "name": "sv10-85, truth",
         "orientation": "v",
         "showlegend": true,
         "type": "scatter",
         "x": {
          "bdata": "cTUTQQ==",
          "dtype": "f4"
         },
         "xaxis": "x",
         "y": {
          "bdata": "ohikvw==",
          "dtype": "f4"
         },
         "yaxis": "y"
        },
        {
         "hovertemplate": "id=sv10-86<br>class=truth<br>x=%{x}<br>y=%{y}<extra></extra>",
         "legendgroup": "sv10-86, truth",
         "marker": {
          "color": "#FF6692",
          "symbol": "diamond"
         },
         "mode": "markers",
         "name": "sv10-86, truth",
         "orientation": "v",
         "showlegend": true,
         "type": "scatter",
         "x": {
          "bdata": "h5ysQA==",
          "dtype": "f4"
         },
         "xaxis": "x",
         "y": {
          "bdata": "68I8wQ==",
          "dtype": "f4"
         },
         "yaxis": "y"
        },
        {
         "hovertemplate": "id=sv10-87<br>class=truth<br>x=%{x}<br>y=%{y}<extra></extra>",
         "legendgroup": "sv10-87, truth",
         "marker": {
          "color": "#B6E880",
          "symbol": "diamond"
         },
         "mode": "markers",
         "name": "sv10-87, truth",
         "orientation": "v",
         "showlegend": true,
         "type": "scatter",
         "x": {
          "bdata": "IooWvw==",
          "dtype": "f4"
         },
         "xaxis": "x",
         "y": {
          "bdata": "Bw1uwA==",
          "dtype": "f4"
         },
         "yaxis": "y"
        },
        {
         "hovertemplate": "id=sv10-88<br>class=truth<br>x=%{x}<br>y=%{y}<extra></extra>",
         "legendgroup": "sv10-88, truth",
         "marker": {
          "color": "#FF97FF",
          "symbol": "diamond"
         },
         "mode": "markers",
         "name": "sv10-88, truth",
         "orientation": "v",
         "showlegend": true,
         "type": "scatter",
         "x": {
          "bdata": "40a2Pw==",
          "dtype": "f4"
         },
         "xaxis": "x",
         "y": {
          "bdata": "+U0XwQ==",
          "dtype": "f4"
         },
         "yaxis": "y"
        },
        {
         "hovertemplate": "id=sv10-89<br>class=truth<br>x=%{x}<br>y=%{y}<extra></extra>",
         "legendgroup": "sv10-89, truth",
         "marker": {
          "color": "#FECB52",
          "symbol": "diamond"
         },
         "mode": "markers",
         "name": "sv10-89, truth",
         "orientation": "v",
         "showlegend": true,
         "type": "scatter",
         "x": {
          "bdata": "sKE4wQ==",
          "dtype": "f4"
         },
         "xaxis": "x",
         "y": {
          "bdata": "JyUlwA==",
          "dtype": "f4"
         },
         "yaxis": "y"
        },
        {
         "hovertemplate": "id=sv10-90<br>class=truth<br>x=%{x}<br>y=%{y}<extra></extra>",
         "legendgroup": "sv10-90, truth",
         "marker": {
          "color": "#636efa",
          "symbol": "diamond"
         },
         "mode": "markers",
         "name": "sv10-90, truth",
         "orientation": "v",
         "showlegend": true,
         "type": "scatter",
         "x": {
          "bdata": "59lJwA==",
          "dtype": "f4"
         },
         "xaxis": "x",
         "y": {
          "bdata": "99+jQA==",
          "dtype": "f4"
         },
         "yaxis": "y"
        },
        {
         "hovertemplate": "id=sv10-91<br>class=truth<br>x=%{x}<br>y=%{y}<extra></extra>",
         "legendgroup": "sv10-91, truth",
         "marker": {
          "color": "#EF553B",
          "symbol": "diamond"
         },
         "mode": "markers",
         "name": "sv10-91, truth",
         "orientation": "v",
         "showlegend": true,
         "type": "scatter",
         "x": {
          "bdata": "QGJQwA==",
          "dtype": "f4"
         },
         "xaxis": "x",
         "y": {
          "bdata": "i6udQA==",
          "dtype": "f4"
         },
         "yaxis": "y"
        },
        {
         "hovertemplate": "id=sv10-92<br>class=truth<br>x=%{x}<br>y=%{y}<extra></extra>",
         "legendgroup": "sv10-92, truth",
         "marker": {
          "color": "#00cc96",
          "symbol": "diamond"
         },
         "mode": "markers",
         "name": "sv10-92, truth",
         "orientation": "v",
         "showlegend": true,
         "type": "scatter",
         "x": {
          "bdata": "XhIJPg==",
          "dtype": "f4"
         },
         "xaxis": "x",
         "y": {
          "bdata": "mvP1wA==",
          "dtype": "f4"
         },
         "yaxis": "y"
        },
        {
         "hovertemplate": "id=sv10-93<br>class=truth<br>x=%{x}<br>y=%{y}<extra></extra>",
         "legendgroup": "sv10-93, truth",
         "marker": {
          "color": "#ab63fa",
          "symbol": "diamond"
         },
         "mode": "markers",
         "name": "sv10-93, truth",
         "orientation": "v",
         "showlegend": true,
         "type": "scatter",
         "x": {
          "bdata": "sQH8QA==",
          "dtype": "f4"
         },
         "xaxis": "x",
         "y": {
          "bdata": "eg44wA==",
          "dtype": "f4"
         },
         "yaxis": "y"
        },
        {
         "hovertemplate": "id=sv10-94<br>class=truth<br>x=%{x}<br>y=%{y}<extra></extra>",
         "legendgroup": "sv10-94, truth",
         "marker": {
          "color": "#FFA15A",
          "symbol": "diamond"
         },
         "mode": "markers",
         "name": "sv10-94, truth",
         "orientation": "v",
         "showlegend": true,
         "type": "scatter",
         "x": {
          "bdata": "yYufPw==",
          "dtype": "f4"
         },
         "xaxis": "x",
         "y": {
          "bdata": "H5tuwA==",
          "dtype": "f4"
         },
         "yaxis": "y"
        },
        {
         "hovertemplate": "id=sv10-95<br>class=truth<br>x=%{x}<br>y=%{y}<extra></extra>",
         "legendgroup": "sv10-95, truth",
         "marker": {
          "color": "#19d3f3",
          "symbol": "diamond"
         },
         "mode": "markers",
         "name": "sv10-95, truth",
         "orientation": "v",
         "showlegend": true,
         "type": "scatter",
         "x": {
          "bdata": "KhppPg==",
          "dtype": "f4"
         },
         "xaxis": "x",
         "y": {
          "bdata": "CE2pwA==",
          "dtype": "f4"
         },
         "yaxis": "y"
        },
        {
         "hovertemplate": "id=sv10-96<br>class=truth<br>x=%{x}<br>y=%{y}<extra></extra>",
         "legendgroup": "sv10-96, truth",
         "marker": {
          "color": "#FF6692",
          "symbol": "diamond"
         },
         "mode": "markers",
         "name": "sv10-96, truth",
         "orientation": "v",
         "showlegend": true,
         "type": "scatter",
         "x": {
          "bdata": "+NLcPw==",
          "dtype": "f4"
         },
         "xaxis": "x",
         "y": {
          "bdata": "q3awwA==",
          "dtype": "f4"
         },
         "yaxis": "y"
        },
        {
         "hovertemplate": "id=sv10-97<br>class=truth<br>x=%{x}<br>y=%{y}<extra></extra>",
         "legendgroup": "sv10-97, truth",
         "marker": {
          "color": "#B6E880",
          "symbol": "diamond"
         },
         "mode": "markers",
         "name": "sv10-97, truth",
         "orientation": "v",
         "showlegend": true,
         "type": "scatter",
         "x": {
          "bdata": "cNNTQA==",
          "dtype": "f4"
         },
         "xaxis": "x",
         "y": {
          "bdata": "cQsgwA==",
          "dtype": "f4"
         },
         "yaxis": "y"
        },
        {
         "hovertemplate": "id=sv10-98<br>class=truth<br>x=%{x}<br>y=%{y}<extra></extra>",
         "legendgroup": "sv10-98, truth",
         "marker": {
          "color": "#FF97FF",
          "symbol": "diamond"
         },
         "mode": "markers",
         "name": "sv10-98, truth",
         "orientation": "v",
         "showlegend": true,
         "type": "scatter",
         "x": {
          "bdata": "O7gjQA==",
          "dtype": "f4"
         },
         "xaxis": "x",
         "y": {
          "bdata": "dk1bwA==",
          "dtype": "f4"
         },
         "yaxis": "y"
        },
        {
         "hovertemplate": "id=sv10-100<br>class=truth<br>x=%{x}<br>y=%{y}<extra></extra>",
         "legendgroup": "sv10-100, truth",
         "marker": {
          "color": "#FECB52",
          "symbol": "diamond"
         },
         "mode": "markers",
         "name": "sv10-100, truth",
         "orientation": "v",
         "showlegend": true,
         "type": "scatter",
         "x": {
          "bdata": "ZZvgQA==",
          "dtype": "f4"
         },
         "xaxis": "x",
         "y": {
          "bdata": "tRSowA==",
          "dtype": "f4"
         },
         "yaxis": "y"
        },
        {
         "hovertemplate": "id=sv10-101<br>class=truth<br>x=%{x}<br>y=%{y}<extra></extra>",
         "legendgroup": "sv10-101, truth",
         "marker": {
          "color": "#636efa",
          "symbol": "diamond"
         },
         "mode": "markers",
         "name": "sv10-101, truth",
         "orientation": "v",
         "showlegend": true,
         "type": "scatter",
         "x": {
          "bdata": "XbdAQA==",
          "dtype": "f4"
         },
         "xaxis": "x",
         "y": {
          "bdata": "NT0rwQ==",
          "dtype": "f4"
         },
         "yaxis": "y"
        },
        {
         "hovertemplate": "id=sv10-102<br>class=truth<br>x=%{x}<br>y=%{y}<extra></extra>",
         "legendgroup": "sv10-102, truth",
         "marker": {
          "color": "#EF553B",
          "symbol": "diamond"
         },
         "mode": "markers",
         "name": "sv10-102, truth",
         "orientation": "v",
         "showlegend": true,
         "type": "scatter",
         "x": {
          "bdata": "6UahQA==",
          "dtype": "f4"
         },
         "xaxis": "x",
         "y": {
          "bdata": "U5Krvw==",
          "dtype": "f4"
         },
         "yaxis": "y"
        },
        {
         "hovertemplate": "id=sv10-104<br>class=truth<br>x=%{x}<br>y=%{y}<extra></extra>",
         "legendgroup": "sv10-104, truth",
         "marker": {
          "color": "#00cc96",
          "symbol": "diamond"
         },
         "mode": "markers",
         "name": "sv10-104, truth",
         "orientation": "v",
         "showlegend": true,
         "type": "scatter",
         "x": {
          "bdata": "tZaRQA==",
          "dtype": "f4"
         },
         "xaxis": "x",
         "y": {
          "bdata": "9eJxwQ==",
          "dtype": "f4"
         },
         "yaxis": "y"
        },
        {
         "hovertemplate": "id=sv10-105<br>class=truth<br>x=%{x}<br>y=%{y}<extra></extra>",
         "legendgroup": "sv10-105, truth",
         "marker": {
          "color": "#ab63fa",
          "symbol": "diamond"
         },
         "mode": "markers",
         "name": "sv10-105, truth",
         "orientation": "v",
         "showlegend": true,
         "type": "scatter",
         "x": {
          "bdata": "hJSPQA==",
          "dtype": "f4"
         },
         "xaxis": "x",
         "y": {
          "bdata": "cB6owA==",
          "dtype": "f4"
         },
         "yaxis": "y"
        },
        {
         "hovertemplate": "id=sv10-106<br>class=truth<br>x=%{x}<br>y=%{y}<extra></extra>",
         "legendgroup": "sv10-106, truth",
         "marker": {
          "color": "#FFA15A",
          "symbol": "diamond"
         },
         "mode": "markers",
         "name": "sv10-106, truth",
         "orientation": "v",
         "showlegend": true,
         "type": "scatter",
         "x": {
          "bdata": "C4NLQA==",
          "dtype": "f4"
         },
         "xaxis": "x",
         "y": {
          "bdata": "rrO1wA==",
          "dtype": "f4"
         },
         "yaxis": "y"
        },
        {
         "hovertemplate": "id=sv10-107<br>class=truth<br>x=%{x}<br>y=%{y}<extra></extra>",
         "legendgroup": "sv10-107, truth",
         "marker": {
          "color": "#19d3f3",
          "symbol": "diamond"
         },
         "mode": "markers",
         "name": "sv10-107, truth",
         "orientation": "v",
         "showlegend": true,
         "type": "scatter",
         "x": {
          "bdata": "ATvdQA==",
          "dtype": "f4"
         },
         "xaxis": "x",
         "y": {
          "bdata": "XLMJQA==",
          "dtype": "f4"
         },
         "yaxis": "y"
        },
        {
         "hovertemplate": "id=sv10-108<br>class=truth<br>x=%{x}<br>y=%{y}<extra></extra>",
         "legendgroup": "sv10-108, truth",
         "marker": {
          "color": "#FF6692",
          "symbol": "diamond"
         },
         "mode": "markers",
         "name": "sv10-108, truth",
         "orientation": "v",
         "showlegend": true,
         "type": "scatter",
         "x": {
          "bdata": "yWs9QA==",
          "dtype": "f4"
         },
         "xaxis": "x",
         "y": {
          "bdata": "rlzPwA==",
          "dtype": "f4"
         },
         "yaxis": "y"
        },
        {
         "hovertemplate": "id=sv10-109<br>class=truth<br>x=%{x}<br>y=%{y}<extra></extra>",
         "legendgroup": "sv10-109, truth",
         "marker": {
          "color": "#B6E880",
          "symbol": "diamond"
         },
         "mode": "markers",
         "name": "sv10-109, truth",
         "orientation": "v",
         "showlegend": true,
         "type": "scatter",
         "x": {
          "bdata": "/xLDQA==",
          "dtype": "f4"
         },
         "xaxis": "x",
         "y": {
          "bdata": "C8eKwA==",
          "dtype": "f4"
         },
         "yaxis": "y"
        },
        {
         "hovertemplate": "id=sv10-110<br>class=truth<br>x=%{x}<br>y=%{y}<extra></extra>",
         "legendgroup": "sv10-110, truth",
         "marker": {
          "color": "#FF97FF",
          "symbol": "diamond"
         },
         "mode": "markers",
         "name": "sv10-110, truth",
         "orientation": "v",
         "showlegend": true,
         "type": "scatter",
         "x": {
          "bdata": "Jsy4QA==",
          "dtype": "f4"
         },
         "xaxis": "x",
         "y": {
          "bdata": "wt6AwA==",
          "dtype": "f4"
         },
         "yaxis": "y"
        },
        {
         "hovertemplate": "id=sv10-111<br>class=truth<br>x=%{x}<br>y=%{y}<extra></extra>",
         "legendgroup": "sv10-111, truth",
         "marker": {
          "color": "#FECB52",
          "symbol": "diamond"
         },
         "mode": "markers",
         "name": "sv10-111, truth",
         "orientation": "v",
         "showlegend": true,
         "type": "scatter",
         "x": {
          "bdata": "ZlO/wA==",
          "dtype": "f4"
         },
         "xaxis": "x",
         "y": {
          "bdata": "sfKfwQ==",
          "dtype": "f4"
         },
         "yaxis": "y"
        },
        {
         "hovertemplate": "id=sv10-112<br>class=truth<br>x=%{x}<br>y=%{y}<extra></extra>",
         "legendgroup": "sv10-112, truth",
         "marker": {
          "color": "#636efa",
          "symbol": "diamond"
         },
         "mode": "markers",
         "name": "sv10-112, truth",
         "orientation": "v",
         "showlegend": true,
         "type": "scatter",
         "x": {
          "bdata": "y/PrwA==",
          "dtype": "f4"
         },
         "xaxis": "x",
         "y": {
          "bdata": "LVnXwA==",
          "dtype": "f4"
         },
         "yaxis": "y"
        },
        {
         "hovertemplate": "id=sv10-113<br>class=truth<br>x=%{x}<br>y=%{y}<extra></extra>",
         "legendgroup": "sv10-113, truth",
         "marker": {
          "color": "#EF553B",
          "symbol": "diamond"
         },
         "mode": "markers",
         "name": "sv10-113, truth",
         "orientation": "v",
         "showlegend": true,
         "type": "scatter",
         "x": {
          "bdata": "AYfZwA==",
          "dtype": "f4"
         },
         "xaxis": "x",
         "y": {
          "bdata": "K4/BwA==",
          "dtype": "f4"
         },
         "yaxis": "y"
        },
        {
         "hovertemplate": "id=sv10-114<br>class=truth<br>x=%{x}<br>y=%{y}<extra></extra>",
         "legendgroup": "sv10-114, truth",
         "marker": {
          "color": "#00cc96",
          "symbol": "diamond"
         },
         "mode": "markers",
         "name": "sv10-114, truth",
         "orientation": "v",
         "showlegend": true,
         "type": "scatter",
         "x": {
          "bdata": "xjgwwQ==",
          "dtype": "f4"
         },
         "xaxis": "x",
         "y": {
          "bdata": "NmEAwQ==",
          "dtype": "f4"
         },
         "yaxis": "y"
        },
        {
         "hovertemplate": "id=sv10-115<br>class=truth<br>x=%{x}<br>y=%{y}<extra></extra>",
         "legendgroup": "sv10-115, truth",
         "marker": {
          "color": "#ab63fa",
          "symbol": "diamond"
         },
         "mode": "markers",
         "name": "sv10-115, truth",
         "orientation": "v",
         "showlegend": true,
         "type": "scatter",
         "x": {
          "bdata": "gpwgwQ==",
          "dtype": "f4"
         },
         "xaxis": "x",
         "y": {
          "bdata": "PpHdwA==",
          "dtype": "f4"
         },
         "yaxis": "y"
        },
        {
         "hovertemplate": "id=sv10-117<br>class=truth<br>x=%{x}<br>y=%{y}<extra></extra>",
         "legendgroup": "sv10-117, truth",
         "marker": {
          "color": "#FFA15A",
          "symbol": "diamond"
         },
         "mode": "markers",
         "name": "sv10-117, truth",
         "orientation": "v",
         "showlegend": true,
         "type": "scatter",
         "x": {
          "bdata": "PZ0lwQ==",
          "dtype": "f4"
         },
         "xaxis": "x",
         "y": {
          "bdata": "2MELwQ==",
          "dtype": "f4"
         },
         "yaxis": "y"
        },
        {
         "hovertemplate": "id=sv10-118<br>class=truth<br>x=%{x}<br>y=%{y}<extra></extra>",
         "legendgroup": "sv10-118, truth",
         "marker": {
          "color": "#19d3f3",
          "symbol": "diamond"
         },
         "mode": "markers",
         "name": "sv10-118, truth",
         "orientation": "v",
         "showlegend": true,
         "type": "scatter",
         "x": {
          "bdata": "jLoWwQ==",
          "dtype": "f4"
         },
         "xaxis": "x",
         "y": {
          "bdata": "QcgIwQ==",
          "dtype": "f4"
         },
         "yaxis": "y"
        },
        {
         "hovertemplate": "id=sv10-119<br>class=truth<br>x=%{x}<br>y=%{y}<extra></extra>",
         "legendgroup": "sv10-119, truth",
         "marker": {
          "color": "#FF6692",
          "symbol": "diamond"
         },
         "mode": "markers",
         "name": "sv10-119, truth",
         "orientation": "v",
         "showlegend": true,
         "type": "scatter",
         "x": {
          "bdata": "51TrwA==",
          "dtype": "f4"
         },
         "xaxis": "x",
         "y": {
          "bdata": "S04hwQ==",
          "dtype": "f4"
         },
         "yaxis": "y"
        },
        {
         "hovertemplate": "id=sv10-120<br>class=truth<br>x=%{x}<br>y=%{y}<extra></extra>",
         "legendgroup": "sv10-120, truth",
         "marker": {
          "color": "#B6E880",
          "symbol": "diamond"
         },
         "mode": "markers",
         "name": "sv10-120, truth",
         "orientation": "v",
         "showlegend": true,
         "type": "scatter",
         "x": {
          "bdata": "ye+GwA==",
          "dtype": "f4"
         },
         "xaxis": "x",
         "y": {
          "bdata": "wGDJwA==",
          "dtype": "f4"
         },
         "yaxis": "y"
        },
        {
         "hovertemplate": "id=sv10-122<br>class=truth<br>x=%{x}<br>y=%{y}<extra></extra>",
         "legendgroup": "sv10-122, truth",
         "marker": {
          "color": "#FF97FF",
          "symbol": "diamond"
         },
         "mode": "markers",
         "name": "sv10-122, truth",
         "orientation": "v",
         "showlegend": true,
         "type": "scatter",
         "x": {
          "bdata": "vD+zwA==",
          "dtype": "f4"
         },
         "xaxis": "x",
         "y": {
          "bdata": "66u8wA==",
          "dtype": "f4"
         },
         "yaxis": "y"
        },
        {
         "hovertemplate": "id=sv10-124<br>class=truth<br>x=%{x}<br>y=%{y}<extra></extra>",
         "legendgroup": "sv10-124, truth",
         "marker": {
          "color": "#FECB52",
          "symbol": "diamond"
         },
         "mode": "markers",
         "name": "sv10-124, truth",
         "orientation": "v",
         "showlegend": true,
         "type": "scatter",
         "x": {
          "bdata": "R2jMwA==",
          "dtype": "f4"
         },
         "xaxis": "x",
         "y": {
          "bdata": "Q+P0wA==",
          "dtype": "f4"
         },
         "yaxis": "y"
        },
        {
         "hovertemplate": "id=sv10-125<br>class=truth<br>x=%{x}<br>y=%{y}<extra></extra>",
         "legendgroup": "sv10-125, truth",
         "marker": {
          "color": "#636efa",
          "symbol": "diamond"
         },
         "mode": "markers",
         "name": "sv10-125, truth",
         "orientation": "v",
         "showlegend": true,
         "type": "scatter",
         "x": {
          "bdata": "XCmawA==",
          "dtype": "f4"
         },
         "xaxis": "x",
         "y": {
          "bdata": "faEHwQ==",
          "dtype": "f4"
         },
         "yaxis": "y"
        },
        {
         "hovertemplate": "id=sv10-126<br>class=truth<br>x=%{x}<br>y=%{y}<extra></extra>",
         "legendgroup": "sv10-126, truth",
         "marker": {
          "color": "#EF553B",
          "symbol": "diamond"
         },
         "mode": "markers",
         "name": "sv10-126, truth",
         "orientation": "v",
         "showlegend": true,
         "type": "scatter",
         "x": {
          "bdata": "ryWBwA==",
          "dtype": "f4"
         },
         "xaxis": "x",
         "y": {
          "bdata": "KeQHwQ==",
          "dtype": "f4"
         },
         "yaxis": "y"
        },
        {
         "hovertemplate": "id=sv10-127<br>class=truth<br>x=%{x}<br>y=%{y}<extra></extra>",
         "legendgroup": "sv10-127, truth",
         "marker": {
          "color": "#00cc96",
          "symbol": "diamond"
         },
         "mode": "markers",
         "name": "sv10-127, truth",
         "orientation": "v",
         "showlegend": true,
         "type": "scatter",
         "x": {
          "bdata": "uCZtwQ==",
          "dtype": "f4"
         },
         "xaxis": "x",
         "y": {
          "bdata": "IZLcwA==",
          "dtype": "f4"
         },
         "yaxis": "y"
        },
        {
         "hovertemplate": "id=sv10-128<br>class=truth<br>x=%{x}<br>y=%{y}<extra></extra>",
         "legendgroup": "sv10-128, truth",
         "marker": {
          "color": "#ab63fa",
          "symbol": "diamond"
         },
         "mode": "markers",
         "name": "sv10-128, truth",
         "orientation": "v",
         "showlegend": true,
         "type": "scatter",
         "x": {
          "bdata": "PYUlQQ==",
          "dtype": "f4"
         },
         "xaxis": "x",
         "y": {
          "bdata": "Buk2QA==",
          "dtype": "f4"
         },
         "yaxis": "y"
        },
        {
         "hovertemplate": "id=sv10-129<br>class=truth<br>x=%{x}<br>y=%{y}<extra></extra>",
         "legendgroup": "sv10-129, truth",
         "marker": {
          "color": "#FFA15A",
          "symbol": "diamond"
         },
         "mode": "markers",
         "name": "sv10-129, truth",
         "orientation": "v",
         "showlegend": true,
         "type": "scatter",
         "x": {
          "bdata": "4QGMwA==",
          "dtype": "f4"
         },
         "xaxis": "x",
         "y": {
          "bdata": "tB3lvw==",
          "dtype": "f4"
         },
         "yaxis": "y"
        },
        {
         "hovertemplate": "id=sv10-130<br>class=truth<br>x=%{x}<br>y=%{y}<extra></extra>",
         "legendgroup": "sv10-130, truth",
         "marker": {
          "color": "#19d3f3",
          "symbol": "diamond"
         },
         "mode": "markers",
         "name": "sv10-130, truth",
         "orientation": "v",
         "showlegend": true,
         "type": "scatter",
         "x": {
          "bdata": "TDpGQQ==",
          "dtype": "f4"
         },
         "xaxis": "x",
         "y": {
          "bdata": "OLOFQA==",
          "dtype": "f4"
         },
         "yaxis": "y"
        },
        {
         "hovertemplate": "id=sv10-132<br>class=truth<br>x=%{x}<br>y=%{y}<extra></extra>",
         "legendgroup": "sv10-132, truth",
         "marker": {
          "color": "#FF6692",
          "symbol": "diamond"
         },
         "mode": "markers",
         "name": "sv10-132, truth",
         "orientation": "v",
         "showlegend": true,
         "type": "scatter",
         "x": {
          "bdata": "Zn1JQQ==",
          "dtype": "f4"
         },
         "xaxis": "x",
         "y": {
          "bdata": "jmFYPw==",
          "dtype": "f4"
         },
         "yaxis": "y"
        },
        {
         "hovertemplate": "id=sv10-133<br>class=truth<br>x=%{x}<br>y=%{y}<extra></extra>",
         "legendgroup": "sv10-133, truth",
         "marker": {
          "color": "#B6E880",
          "symbol": "diamond"
         },
         "mode": "markers",
         "name": "sv10-133, truth",
         "orientation": "v",
         "showlegend": true,
         "type": "scatter",
         "x": {
          "bdata": "OONKQQ==",
          "dtype": "f4"
         },
         "xaxis": "x",
         "y": {
          "bdata": "+4itPw==",
          "dtype": "f4"
         },
         "yaxis": "y"
        },
        {
         "hovertemplate": "id=sv10-134<br>class=truth<br>x=%{x}<br>y=%{y}<extra></extra>",
         "legendgroup": "sv10-134, truth",
         "marker": {
          "color": "#FF97FF",
          "symbol": "diamond"
         },
         "mode": "markers",
         "name": "sv10-134, truth",
         "orientation": "v",
         "showlegend": true,
         "type": "scatter",
         "x": {
          "bdata": "NFKwQA==",
          "dtype": "f4"
         },
         "xaxis": "x",
         "y": {
          "bdata": "W121wQ==",
          "dtype": "f4"
         },
         "yaxis": "y"
        },
        {
         "hovertemplate": "id=sv10-135<br>class=truth<br>x=%{x}<br>y=%{y}<extra></extra>",
         "legendgroup": "sv10-135, truth",
         "marker": {
          "color": "#FECB52",
          "symbol": "diamond"
         },
         "mode": "markers",
         "name": "sv10-135, truth",
         "orientation": "v",
         "showlegend": true,
         "type": "scatter",
         "x": {
          "bdata": "6MmwQA==",
          "dtype": "f4"
         },
         "xaxis": "x",
         "y": {
          "bdata": "ARe1wQ==",
          "dtype": "f4"
         },
         "yaxis": "y"
        },
        {
         "hovertemplate": "id=sv10-136<br>class=truth<br>x=%{x}<br>y=%{y}<extra></extra>",
         "legendgroup": "sv10-136, truth",
         "marker": {
          "color": "#636efa",
          "symbol": "diamond"
         },
         "mode": "markers",
         "name": "sv10-136, truth",
         "orientation": "v",
         "showlegend": true,
         "type": "scatter",
         "x": {
          "bdata": "UyG6wA==",
          "dtype": "f4"
         },
         "xaxis": "x",
         "y": {
          "bdata": "DidEwA==",
          "dtype": "f4"
         },
         "yaxis": "y"
        },
        {
         "hovertemplate": "id=sv10-137<br>class=truth<br>x=%{x}<br>y=%{y}<extra></extra>",
         "legendgroup": "sv10-137, truth",
         "marker": {
          "color": "#EF553B",
          "symbol": "diamond"
         },
         "mode": "markers",
         "name": "sv10-137, truth",
         "orientation": "v",
         "showlegend": true,
         "type": "scatter",
         "x": {
          "bdata": "WLU7QQ==",
          "dtype": "f4"
         },
         "xaxis": "x",
         "y": {
          "bdata": "IVJgPw==",
          "dtype": "f4"
         },
         "yaxis": "y"
        },
        {
         "hovertemplate": "id=sv10-139<br>class=truth<br>x=%{x}<br>y=%{y}<extra></extra>",
         "legendgroup": "sv10-139, truth",
         "marker": {
          "color": "#00cc96",
          "symbol": "diamond"
         },
         "mode": "markers",
         "name": "sv10-139, truth",
         "orientation": "v",
         "showlegend": true,
         "type": "scatter",
         "x": {
          "bdata": "9v/GwA==",
          "dtype": "f4"
         },
         "xaxis": "x",
         "y": {
          "bdata": "NkRAwQ==",
          "dtype": "f4"
         },
         "yaxis": "y"
        },
        {
         "hovertemplate": "id=sv10-140<br>class=truth<br>x=%{x}<br>y=%{y}<extra></extra>",
         "legendgroup": "sv10-140, truth",
         "marker": {
          "color": "#ab63fa",
          "symbol": "diamond"
         },
         "mode": "markers",
         "name": "sv10-140, truth",
         "orientation": "v",
         "showlegend": true,
         "type": "scatter",
         "x": {
          "bdata": "I+GUPw==",
          "dtype": "f4"
         },
         "xaxis": "x",
         "y": {
          "bdata": "o5cBwQ==",
          "dtype": "f4"
         },
         "yaxis": "y"
        },
        {
         "hovertemplate": "id=sv10-141<br>class=truth<br>x=%{x}<br>y=%{y}<extra></extra>",
         "legendgroup": "sv10-141, truth",
         "marker": {
          "color": "#FFA15A",
          "symbol": "diamond"
         },
         "mode": "markers",
         "name": "sv10-141, truth",
         "orientation": "v",
         "showlegend": true,
         "type": "scatter",
         "x": {
          "bdata": "TPGMQA==",
          "dtype": "f4"
         },
         "xaxis": "x",
         "y": {
          "bdata": "yoX/QA==",
          "dtype": "f4"
         },
         "yaxis": "y"
        },
        {
         "hovertemplate": "id=sv10-142<br>class=truth<br>x=%{x}<br>y=%{y}<extra></extra>",
         "legendgroup": "sv10-142, truth",
         "marker": {
          "color": "#19d3f3",
          "symbol": "diamond"
         },
         "mode": "markers",
         "name": "sv10-142, truth",
         "orientation": "v",
         "showlegend": true,
         "type": "scatter",
         "x": {
          "bdata": "yOh2QQ==",
          "dtype": "f4"
         },
         "xaxis": "x",
         "y": {
          "bdata": "oAcLwQ==",
          "dtype": "f4"
         },
         "yaxis": "y"
        },
        {
         "hovertemplate": "id=sv10-143<br>class=truth<br>x=%{x}<br>y=%{y}<extra></extra>",
         "legendgroup": "sv10-143, truth",
         "marker": {
          "color": "#FF6692",
          "symbol": "diamond"
         },
         "mode": "markers",
         "name": "sv10-143, truth",
         "orientation": "v",
         "showlegend": true,
         "type": "scatter",
         "x": {
          "bdata": "lLZbQQ==",
          "dtype": "f4"
         },
         "xaxis": "x",
         "y": {
          "bdata": "k9spwQ==",
          "dtype": "f4"
         },
         "yaxis": "y"
        },
        {
         "hovertemplate": "id=sv10-145<br>class=truth<br>x=%{x}<br>y=%{y}<extra></extra>",
         "legendgroup": "sv10-145, truth",
         "marker": {
          "color": "#B6E880",
          "symbol": "diamond"
         },
         "mode": "markers",
         "name": "sv10-145, truth",
         "orientation": "v",
         "showlegend": true,
         "type": "scatter",
         "x": {
          "bdata": "NdVIQQ==",
          "dtype": "f4"
         },
         "xaxis": "x",
         "y": {
          "bdata": "EqZEwQ==",
          "dtype": "f4"
         },
         "yaxis": "y"
        },
        {
         "hovertemplate": "id=sv10-146<br>class=truth<br>x=%{x}<br>y=%{y}<extra></extra>",
         "legendgroup": "sv10-146, truth",
         "marker": {
          "color": "#FF97FF",
          "symbol": "diamond"
         },
         "mode": "markers",
         "name": "sv10-146, truth",
         "orientation": "v",
         "showlegend": true,
         "type": "scatter",
         "x": {
          "bdata": "d6oBQA==",
          "dtype": "f4"
         },
         "xaxis": "x",
         "y": {
          "bdata": "vcbKQA==",
          "dtype": "f4"
         },
         "yaxis": "y"
        },
        {
         "hovertemplate": "id=sv10-147<br>class=truth<br>x=%{x}<br>y=%{y}<extra></extra>",
         "legendgroup": "sv10-147, truth",
         "marker": {
          "color": "#FECB52",
          "symbol": "diamond"
         },
         "mode": "markers",
         "name": "sv10-147, truth",
         "orientation": "v",
         "showlegend": true,
         "type": "scatter",
         "x": {
          "bdata": "SVtWwQ==",
          "dtype": "f4"
         },
         "xaxis": "x",
         "y": {
          "bdata": "MKQlQA==",
          "dtype": "f4"
         },
         "yaxis": "y"
        },
        {
         "hovertemplate": "id=sv10-148<br>class=truth<br>x=%{x}<br>y=%{y}<extra></extra>",
         "legendgroup": "sv10-148, truth",
         "marker": {
          "color": "#636efa",
          "symbol": "diamond"
         },
         "mode": "markers",
         "name": "sv10-148, truth",
         "orientation": "v",
         "showlegend": true,
         "type": "scatter",
         "x": {
          "bdata": "GaBZwQ==",
          "dtype": "f4"
         },
         "xaxis": "x",
         "y": {
          "bdata": "ySdJQA==",
          "dtype": "f4"
         },
         "yaxis": "y"
        },
        {
         "hovertemplate": "id=sv10-149<br>class=truth<br>x=%{x}<br>y=%{y}<extra></extra>",
         "legendgroup": "sv10-149, truth",
         "marker": {
          "color": "#EF553B",
          "symbol": "diamond"
         },
         "mode": "markers",
         "name": "sv10-149, truth",
         "orientation": "v",
         "showlegend": true,
         "type": "scatter",
         "x": {
          "bdata": "dltPwQ==",
          "dtype": "f4"
         },
         "xaxis": "x",
         "y": {
          "bdata": "59dhwQ==",
          "dtype": "f4"
         },
         "yaxis": "y"
        },
        {
         "hovertemplate": "id=sv10-150<br>class=truth<br>x=%{x}<br>y=%{y}<extra></extra>",
         "legendgroup": "sv10-150, truth",
         "marker": {
          "color": "#00cc96",
          "symbol": "diamond"
         },
         "mode": "markers",
         "name": "sv10-150, truth",
         "orientation": "v",
         "showlegend": true,
         "type": "scatter",
         "x": {
          "bdata": "rEcowQ==",
          "dtype": "f4"
         },
         "xaxis": "x",
         "y": {
          "bdata": "6jpiwQ==",
          "dtype": "f4"
         },
         "yaxis": "y"
        },
        {
         "hovertemplate": "id=sv10-151<br>class=truth<br>x=%{x}<br>y=%{y}<extra></extra>",
         "legendgroup": "sv10-151, truth",
         "marker": {
          "color": "#ab63fa",
          "symbol": "diamond"
         },
         "mode": "markers",
         "name": "sv10-151, truth",
         "orientation": "v",
         "showlegend": true,
         "type": "scatter",
         "x": {
          "bdata": "iR8rQA==",
          "dtype": "f4"
         },
         "xaxis": "x",
         "y": {
          "bdata": "EolVvg==",
          "dtype": "f4"
         },
         "yaxis": "y"
        },
        {
         "hovertemplate": "id=sv10-152<br>class=truth<br>x=%{x}<br>y=%{y}<extra></extra>",
         "legendgroup": "sv10-152, truth",
         "marker": {
          "color": "#FFA15A",
          "symbol": "diamond"
         },
         "mode": "markers",
         "name": "sv10-152, truth",
         "orientation": "v",
         "showlegend": true,
         "type": "scatter",
         "x": {
          "bdata": "3deQQA==",
          "dtype": "f4"
         },
         "xaxis": "x",
         "y": {
          "bdata": "81WGQA==",
          "dtype": "f4"
         },
         "yaxis": "y"
        },
        {
         "hovertemplate": "id=sv10-153<br>class=truth<br>x=%{x}<br>y=%{y}<extra></extra>",
         "legendgroup": "sv10-153, truth",
         "marker": {
          "color": "#19d3f3",
          "symbol": "diamond"
         },
         "mode": "markers",
         "name": "sv10-153, truth",
         "orientation": "v",
         "showlegend": true,
         "type": "scatter",
         "x": {
          "bdata": "P2FbwQ==",
          "dtype": "f4"
         },
         "xaxis": "x",
         "y": {
          "bdata": "VKC8wA==",
          "dtype": "f4"
         },
         "yaxis": "y"
        },
        {
         "hovertemplate": "id=sv10-154<br>class=truth<br>x=%{x}<br>y=%{y}<extra></extra>",
         "legendgroup": "sv10-154, truth",
         "marker": {
          "color": "#FF6692",
          "symbol": "diamond"
         },
         "mode": "markers",
         "name": "sv10-154, truth",
         "orientation": "v",
         "showlegend": true,
         "type": "scatter",
         "x": {
          "bdata": "/a9kwQ==",
          "dtype": "f4"
         },
         "xaxis": "x",
         "y": {
          "bdata": "JKJhwA==",
          "dtype": "f4"
         },
         "yaxis": "y"
        },
        {
         "hovertemplate": "id=sv10-155<br>class=truth<br>x=%{x}<br>y=%{y}<extra></extra>",
         "legendgroup": "sv10-155, truth",
         "marker": {
          "color": "#B6E880",
          "symbol": "diamond"
         },
         "mode": "markers",
         "name": "sv10-155, truth",
         "orientation": "v",
         "showlegend": true,
         "type": "scatter",
         "x": {
          "bdata": "mwdnwQ==",
          "dtype": "f4"
         },
         "xaxis": "x",
         "y": {
          "bdata": "pFZYwA==",
          "dtype": "f4"
         },
         "yaxis": "y"
        },
        {
         "hovertemplate": "id=sv10-157<br>class=truth<br>x=%{x}<br>y=%{y}<extra></extra>",
         "legendgroup": "sv10-157, truth",
         "marker": {
          "color": "#FF97FF",
          "symbol": "diamond"
         },
         "mode": "markers",
         "name": "sv10-157, truth",
         "orientation": "v",
         "showlegend": true,
         "type": "scatter",
         "x": {
          "bdata": "2T9zQQ==",
          "dtype": "f4"
         },
         "xaxis": "x",
         "y": {
          "bdata": "CZUEQQ==",
          "dtype": "f4"
         },
         "yaxis": "y"
        },
        {
         "hovertemplate": "id=sv10-158<br>class=truth<br>x=%{x}<br>y=%{y}<extra></extra>",
         "legendgroup": "sv10-158, truth",
         "marker": {
          "color": "#FECB52",
          "symbol": "diamond"
         },
         "mode": "markers",
         "name": "sv10-158, truth",
         "orientation": "v",
         "showlegend": true,
         "type": "scatter",
         "x": {
          "bdata": "C+woQQ==",
          "dtype": "f4"
         },
         "xaxis": "x",
         "y": {
          "bdata": "nSmAwQ==",
          "dtype": "f4"
         },
         "yaxis": "y"
        },
        {
         "hovertemplate": "id=sv10-159<br>class=truth<br>x=%{x}<br>y=%{y}<extra></extra>",
         "legendgroup": "sv10-159, truth",
         "marker": {
          "color": "#636efa",
          "symbol": "diamond"
         },
         "mode": "markers",
         "name": "sv10-159, truth",
         "orientation": "v",
         "showlegend": true,
         "type": "scatter",
         "x": {
          "bdata": "7p03QQ==",
          "dtype": "f4"
         },
         "xaxis": "x",
         "y": {
          "bdata": "4seQwQ==",
          "dtype": "f4"
         },
         "yaxis": "y"
        },
        {
         "hovertemplate": "id=sv10-160<br>class=truth<br>x=%{x}<br>y=%{y}<extra></extra>",
         "legendgroup": "sv10-160, truth",
         "marker": {
          "color": "#EF553B",
          "symbol": "diamond"
         },
         "mode": "markers",
         "name": "sv10-160, truth",
         "orientation": "v",
         "showlegend": true,
         "type": "scatter",
         "x": {
          "bdata": "88YRwA==",
          "dtype": "f4"
         },
         "xaxis": "x",
         "y": {
          "bdata": "f4g4QQ==",
          "dtype": "f4"
         },
         "yaxis": "y"
        },
        {
         "hovertemplate": "id=sv10-161<br>class=truth<br>x=%{x}<br>y=%{y}<extra></extra>",
         "legendgroup": "sv10-161, truth",
         "marker": {
          "color": "#00cc96",
          "symbol": "diamond"
         },
         "mode": "markers",
         "name": "sv10-161, truth",
         "orientation": "v",
         "showlegend": true,
         "type": "scatter",
         "x": {
          "bdata": "i8ZQQQ==",
          "dtype": "f4"
         },
         "xaxis": "x",
         "y": {
          "bdata": "aliTwQ==",
          "dtype": "f4"
         },
         "yaxis": "y"
        },
        {
         "hovertemplate": "id=sv10-162<br>class=truth<br>x=%{x}<br>y=%{y}<extra></extra>",
         "legendgroup": "sv10-162, truth",
         "marker": {
          "color": "#ab63fa",
          "symbol": "diamond"
         },
         "mode": "markers",
         "name": "sv10-162, truth",
         "orientation": "v",
         "showlegend": true,
         "type": "scatter",
         "x": {
          "bdata": "q8yOwQ==",
          "dtype": "f4"
         },
         "xaxis": "x",
         "y": {
          "bdata": "xjdlPw==",
          "dtype": "f4"
         },
         "yaxis": "y"
        },
        {
         "hovertemplate": "id=sv10-163<br>class=truth<br>x=%{x}<br>y=%{y}<extra></extra>",
         "legendgroup": "sv10-163, truth",
         "marker": {
          "color": "#FFA15A",
          "symbol": "diamond"
         },
         "mode": "markers",
         "name": "sv10-163, truth",
         "orientation": "v",
         "showlegend": true,
         "type": "scatter",
         "x": {
          "bdata": "vn0XQQ==",
          "dtype": "f4"
         },
         "xaxis": "x",
         "y": {
          "bdata": "/LvSwQ==",
          "dtype": "f4"
         },
         "yaxis": "y"
        },
        {
         "hovertemplate": "id=sv10-164<br>class=truth<br>x=%{x}<br>y=%{y}<extra></extra>",
         "legendgroup": "sv10-164, truth",
         "marker": {
          "color": "#19d3f3",
          "symbol": "diamond"
         },
         "mode": "markers",
         "name": "sv10-164, truth",
         "orientation": "v",
         "showlegend": true,
         "type": "scatter",
         "x": {
          "bdata": "1FiYwQ==",
          "dtype": "f4"
         },
         "xaxis": "x",
         "y": {
          "bdata": "Q+tvPw==",
          "dtype": "f4"
         },
         "yaxis": "y"
        },
        {
         "hovertemplate": "id=sv10-165<br>class=truth<br>x=%{x}<br>y=%{y}<extra></extra>",
         "legendgroup": "sv10-165, truth",
         "marker": {
          "color": "#FF6692",
          "symbol": "diamond"
         },
         "mode": "markers",
         "name": "sv10-165, truth",
         "orientation": "v",
         "showlegend": true,
         "type": "scatter",
         "x": {
          "bdata": "D4K7wA==",
          "dtype": "f4"
         },
         "xaxis": "x",
         "y": {
          "bdata": "HYqMQQ==",
          "dtype": "f4"
         },
         "yaxis": "y"
        },
        {
         "hovertemplate": "id=sv10-166<br>class=truth<br>x=%{x}<br>y=%{y}<extra></extra>",
         "legendgroup": "sv10-166, truth",
         "marker": {
          "color": "#B6E880",
          "symbol": "diamond"
         },
         "mode": "markers",
         "name": "sv10-166, truth",
         "orientation": "v",
         "showlegend": true,
         "type": "scatter",
         "x": {
          "bdata": "mwsiwQ==",
          "dtype": "f4"
         },
         "xaxis": "x",
         "y": {
          "bdata": "bl61Pw==",
          "dtype": "f4"
         },
         "yaxis": "y"
        },
        {
         "hovertemplate": "id=sv10-167<br>class=truth<br>x=%{x}<br>y=%{y}<extra></extra>",
         "legendgroup": "sv10-167, truth",
         "marker": {
          "color": "#FF97FF",
          "symbol": "diamond"
         },
         "mode": "markers",
         "name": "sv10-167, truth",
         "orientation": "v",
         "showlegend": true,
         "type": "scatter",
         "x": {
          "bdata": "brq6wQ==",
          "dtype": "f4"
         },
         "xaxis": "x",
         "y": {
          "bdata": "4AbTwA==",
          "dtype": "f4"
         },
         "yaxis": "y"
        },
        {
         "hovertemplate": "id=sv10-168<br>class=truth<br>x=%{x}<br>y=%{y}<extra></extra>",
         "legendgroup": "sv10-168, truth",
         "marker": {
          "color": "#FECB52",
          "symbol": "diamond"
         },
         "mode": "markers",
         "name": "sv10-168, truth",
         "orientation": "v",
         "showlegend": true,
         "type": "scatter",
         "x": {
          "bdata": "Yl2ywQ==",
          "dtype": "f4"
         },
         "xaxis": "x",
         "y": {
          "bdata": "kCAiQA==",
          "dtype": "f4"
         },
         "yaxis": "y"
        },
        {
         "hovertemplate": "id=sv10-169<br>class=truth<br>x=%{x}<br>y=%{y}<extra></extra>",
         "legendgroup": "sv10-169, truth",
         "marker": {
          "color": "#636efa",
          "symbol": "diamond"
         },
         "mode": "markers",
         "name": "sv10-169, truth",
         "orientation": "v",
         "showlegend": true,
         "type": "scatter",
         "x": {
          "bdata": "0J29wQ==",
          "dtype": "f4"
         },
         "xaxis": "x",
         "y": {
          "bdata": "851ZwA==",
          "dtype": "f4"
         },
         "yaxis": "y"
        },
        {
         "hovertemplate": "id=sv10-170<br>class=truth<br>x=%{x}<br>y=%{y}<extra></extra>",
         "legendgroup": "sv10-170, truth",
         "marker": {
          "color": "#EF553B",
          "symbol": "diamond"
         },
         "mode": "markers",
         "name": "sv10-170, truth",
         "orientation": "v",
         "showlegend": true,
         "type": "scatter",
         "x": {
          "bdata": "ip6xwQ==",
          "dtype": "f4"
         },
         "xaxis": "x",
         "y": {
          "bdata": "6Y8KwQ==",
          "dtype": "f4"
         },
         "yaxis": "y"
        },
        {
         "hovertemplate": "id=sv10-171<br>class=truth<br>x=%{x}<br>y=%{y}<extra></extra>",
         "legendgroup": "sv10-171, truth",
         "marker": {
          "color": "#00cc96",
          "symbol": "diamond"
         },
         "mode": "markers",
         "name": "sv10-171, truth",
         "orientation": "v",
         "showlegend": true,
         "type": "scatter",
         "x": {
          "bdata": "NL6YwQ==",
          "dtype": "f4"
         },
         "xaxis": "x",
         "y": {
          "bdata": "9rEzwQ==",
          "dtype": "f4"
         },
         "yaxis": "y"
        },
        {
         "hovertemplate": "id=sv10-172<br>class=truth<br>x=%{x}<br>y=%{y}<extra></extra>",
         "legendgroup": "sv10-172, truth",
         "marker": {
          "color": "#ab63fa",
          "symbol": "diamond"
         },
         "mode": "markers",
         "name": "sv10-172, truth",
         "orientation": "v",
         "showlegend": true,
         "type": "scatter",
         "x": {
          "bdata": "ormdwQ==",
          "dtype": "f4"
         },
         "xaxis": "x",
         "y": {
          "bdata": "2040wA==",
          "dtype": "f4"
         },
         "yaxis": "y"
        },
        {
         "hovertemplate": "id=sv10-173<br>class=truth<br>x=%{x}<br>y=%{y}<extra></extra>",
         "legendgroup": "sv10-173, truth",
         "marker": {
          "color": "#FFA15A",
          "symbol": "diamond"
         },
         "mode": "markers",
         "name": "sv10-173, truth",
         "orientation": "v",
         "showlegend": true,
         "type": "scatter",
         "x": {
          "bdata": "VzCuwQ==",
          "dtype": "f4"
         },
         "xaxis": "x",
         "y": {
          "bdata": "78RkwA==",
          "dtype": "f4"
         },
         "yaxis": "y"
        },
        {
         "hovertemplate": "id=sv10-174<br>class=truth<br>x=%{x}<br>y=%{y}<extra></extra>",
         "legendgroup": "sv10-174, truth",
         "marker": {
          "color": "#19d3f3",
          "symbol": "diamond"
         },
         "mode": "markers",
         "name": "sv10-174, truth",
         "orientation": "v",
         "showlegend": true,
         "type": "scatter",
         "x": {
          "bdata": "DIzDwQ==",
          "dtype": "f4"
         },
         "xaxis": "x",
         "y": {
          "bdata": "LYQjwQ==",
          "dtype": "f4"
         },
         "yaxis": "y"
        },
        {
         "hovertemplate": "id=sv10-175<br>class=truth<br>x=%{x}<br>y=%{y}<extra></extra>",
         "legendgroup": "sv10-175, truth",
         "marker": {
          "color": "#FF6692",
          "symbol": "diamond"
         },
         "mode": "markers",
         "name": "sv10-175, truth",
         "orientation": "v",
         "showlegend": true,
         "type": "scatter",
         "x": {
          "bdata": "PJajwQ==",
          "dtype": "f4"
         },
         "xaxis": "x",
         "y": {
          "bdata": "6KYCPw==",
          "dtype": "f4"
         },
         "yaxis": "y"
        },
        {
         "hovertemplate": "id=sv10-176<br>class=truth<br>x=%{x}<br>y=%{y}<extra></extra>",
         "legendgroup": "sv10-176, truth",
         "marker": {
          "color": "#B6E880",
          "symbol": "diamond"
         },
         "mode": "markers",
         "name": "sv10-176, truth",
         "orientation": "v",
         "showlegend": true,
         "type": "scatter",
         "x": {
          "bdata": "plGvwQ==",
          "dtype": "f4"
         },
         "xaxis": "x",
         "y": {
          "bdata": "+l7qwA==",
          "dtype": "f4"
         },
         "yaxis": "y"
        },
        {
         "hovertemplate": "id=sv10-178<br>class=truth<br>x=%{x}<br>y=%{y}<extra></extra>",
         "legendgroup": "sv10-178, truth",
         "marker": {
          "color": "#FF97FF",
          "symbol": "diamond"
         },
         "mode": "markers",
         "name": "sv10-178, truth",
         "orientation": "v",
         "showlegend": true,
         "type": "scatter",
         "x": {
          "bdata": "Et6nwQ==",
          "dtype": "f4"
         },
         "xaxis": "x",
         "y": {
          "bdata": "4hNRwA==",
          "dtype": "f4"
         },
         "yaxis": "y"
        },
        {
         "hovertemplate": "id=sv10-180<br>class=truth<br>x=%{x}<br>y=%{y}<extra></extra>",
         "legendgroup": "sv10-180, truth",
         "marker": {
          "color": "#FECB52",
          "symbol": "diamond"
         },
         "mode": "markers",
         "name": "sv10-180, truth",
         "orientation": "v",
         "showlegend": true,
         "type": "scatter",
         "x": {
          "bdata": "t/e9wQ==",
          "dtype": "f4"
         },
         "xaxis": "x",
         "y": {
          "bdata": "8lIWwA==",
          "dtype": "f4"
         },
         "yaxis": "y"
        },
        {
         "hovertemplate": "id=sv10-181<br>class=truth<br>x=%{x}<br>y=%{y}<extra></extra>",
         "legendgroup": "sv10-181, truth",
         "marker": {
          "color": "#636efa",
          "symbol": "diamond"
         },
         "mode": "markers",
         "name": "sv10-181, truth",
         "orientation": "v",
         "showlegend": true,
         "type": "scatter",
         "x": {
          "bdata": "6eCswQ==",
          "dtype": "f4"
         },
         "xaxis": "x",
         "y": {
          "bdata": "r6ugvw==",
          "dtype": "f4"
         },
         "yaxis": "y"
        },
        {
         "hovertemplate": "id=sv10-182<br>class=truth<br>x=%{x}<br>y=%{y}<extra></extra>",
         "legendgroup": "sv10-182, truth",
         "marker": {
          "color": "#EF553B",
          "symbol": "diamond"
         },
         "mode": "markers",
         "name": "sv10-182, truth",
         "orientation": "v",
         "showlegend": true,
         "type": "scatter",
         "x": {
          "bdata": "7cOfwQ==",
          "dtype": "f4"
         },
         "xaxis": "x",
         "y": {
          "bdata": "4i2Kvg==",
          "dtype": "f4"
         },
         "yaxis": "y"
        },
        {
         "hovertemplate": "id=sv10-183<br>class=truth<br>x=%{x}<br>y=%{y}<extra></extra>",
         "legendgroup": "sv10-183, truth",
         "marker": {
          "color": "#00cc96",
          "symbol": "diamond"
         },
         "mode": "markers",
         "name": "sv10-183, truth",
         "orientation": "v",
         "showlegend": true,
         "type": "scatter",
         "x": {
          "bdata": "jX6BQQ==",
          "dtype": "f4"
         },
         "xaxis": "x",
         "y": {
          "bdata": "0nbRvw==",
          "dtype": "f4"
         },
         "yaxis": "y"
        },
        {
         "hovertemplate": "id=sv10-184<br>class=truth<br>x=%{x}<br>y=%{y}<extra></extra>",
         "legendgroup": "sv10-184, truth",
         "marker": {
          "color": "#ab63fa",
          "symbol": "diamond"
         },
         "mode": "markers",
         "name": "sv10-184, truth",
         "orientation": "v",
         "showlegend": true,
         "type": "scatter",
         "x": {
          "bdata": "0OYQwA==",
          "dtype": "f4"
         },
         "xaxis": "x",
         "y": {
          "bdata": "9tS9vw==",
          "dtype": "f4"
         },
         "yaxis": "y"
        },
        {
         "hovertemplate": "id=sv10-185<br>class=truth<br>x=%{x}<br>y=%{y}<extra></extra>",
         "legendgroup": "sv10-185, truth",
         "marker": {
          "color": "#FFA15A",
          "symbol": "diamond"
         },
         "mode": "markers",
         "name": "sv10-185, truth",
         "orientation": "v",
         "showlegend": true,
         "type": "scatter",
         "x": {
          "bdata": "rGhZQQ==",
          "dtype": "f4"
         },
         "xaxis": "x",
         "y": {
          "bdata": "XOOxwA==",
          "dtype": "f4"
         },
         "yaxis": "y"
        },
        {
         "hovertemplate": "id=sv10-186<br>class=truth<br>x=%{x}<br>y=%{y}<extra></extra>",
         "legendgroup": "sv10-186, truth",
         "marker": {
          "color": "#19d3f3",
          "symbol": "diamond"
         },
         "mode": "markers",
         "name": "sv10-186, truth",
         "orientation": "v",
         "showlegend": true,
         "type": "scatter",
         "x": {
          "bdata": "IUqKQA==",
          "dtype": "f4"
         },
         "xaxis": "x",
         "y": {
          "bdata": "wDQRwQ==",
          "dtype": "f4"
         },
         "yaxis": "y"
        },
        {
         "hovertemplate": "id=sv10-187<br>class=truth<br>x=%{x}<br>y=%{y}<extra></extra>",
         "legendgroup": "sv10-187, truth",
         "marker": {
          "color": "#FF6692",
          "symbol": "diamond"
         },
         "mode": "markers",
         "name": "sv10-187, truth",
         "orientation": "v",
         "showlegend": true,
         "type": "scatter",
         "x": {
          "bdata": "U4R8Pg==",
          "dtype": "f4"
         },
         "xaxis": "x",
         "y": {
          "bdata": "yoM9wQ==",
          "dtype": "f4"
         },
         "yaxis": "y"
        },
        {
         "hovertemplate": "id=sv10-188<br>class=truth<br>x=%{x}<br>y=%{y}<extra></extra>",
         "legendgroup": "sv10-188, truth",
         "marker": {
          "color": "#B6E880",
          "symbol": "diamond"
         },
         "mode": "markers",
         "name": "sv10-188, truth",
         "orientation": "v",
         "showlegend": true,
         "type": "scatter",
         "x": {
          "bdata": "C41SwA==",
          "dtype": "f4"
         },
         "xaxis": "x",
         "y": {
          "bdata": "gErHPw==",
          "dtype": "f4"
         },
         "yaxis": "y"
        },
        {
         "hovertemplate": "id=sv10-189<br>class=truth<br>x=%{x}<br>y=%{y}<extra></extra>",
         "legendgroup": "sv10-189, truth",
         "marker": {
          "color": "#FF97FF",
          "symbol": "diamond"
         },
         "mode": "markers",
         "name": "sv10-189, truth",
         "orientation": "v",
         "showlegend": true,
         "type": "scatter",
         "x": {
          "bdata": "vgwRQQ==",
          "dtype": "f4"
         },
         "xaxis": "x",
         "y": {
          "bdata": "CTm1QQ==",
          "dtype": "f4"
         },
         "yaxis": "y"
        },
        {
         "hovertemplate": "id=sv10-190<br>class=truth<br>x=%{x}<br>y=%{y}<extra></extra>",
         "legendgroup": "sv10-190, truth",
         "marker": {
          "color": "#FECB52",
          "symbol": "diamond"
         },
         "mode": "markers",
         "name": "sv10-190, truth",
         "orientation": "v",
         "showlegend": true,
         "type": "scatter",
         "x": {
          "bdata": "MYKDPw==",
          "dtype": "f4"
         },
         "xaxis": "x",
         "y": {
          "bdata": "/fh6QQ==",
          "dtype": "f4"
         },
         "yaxis": "y"
        },
        {
         "hovertemplate": "id=sv10-191<br>class=truth<br>x=%{x}<br>y=%{y}<extra></extra>",
         "legendgroup": "sv10-191, truth",
         "marker": {
          "color": "#636efa",
          "symbol": "diamond"
         },
         "mode": "markers",
         "name": "sv10-191, truth",
         "orientation": "v",
         "showlegend": true,
         "type": "scatter",
         "x": {
          "bdata": "pMaSQA==",
          "dtype": "f4"
         },
         "xaxis": "x",
         "y": {
          "bdata": "eBI5QQ==",
          "dtype": "f4"
         },
         "yaxis": "y"
        },
        {
         "hovertemplate": "id=sv10-192<br>class=truth<br>x=%{x}<br>y=%{y}<extra></extra>",
         "legendgroup": "sv10-192, truth",
         "marker": {
          "color": "#EF553B",
          "symbol": "diamond"
         },
         "mode": "markers",
         "name": "sv10-192, truth",
         "orientation": "v",
         "showlegend": true,
         "type": "scatter",
         "x": {
          "bdata": "/tOuPw==",
          "dtype": "f4"
         },
         "xaxis": "x",
         "y": {
          "bdata": "8bkNQQ==",
          "dtype": "f4"
         },
         "yaxis": "y"
        },
        {
         "hovertemplate": "id=sv10-193<br>class=truth<br>x=%{x}<br>y=%{y}<extra></extra>",
         "legendgroup": "sv10-193, truth",
         "marker": {
          "color": "#00cc96",
          "symbol": "diamond"
         },
         "mode": "markers",
         "name": "sv10-193, truth",
         "orientation": "v",
         "showlegend": true,
         "type": "scatter",
         "x": {
          "bdata": "iaQZwQ==",
          "dtype": "f4"
         },
         "xaxis": "x",
         "y": {
          "bdata": "/BNAQQ==",
          "dtype": "f4"
         },
         "yaxis": "y"
        },
        {
         "hovertemplate": "id=sv10-194<br>class=truth<br>x=%{x}<br>y=%{y}<extra></extra>",
         "legendgroup": "sv10-194, truth",
         "marker": {
          "color": "#ab63fa",
          "symbol": "diamond"
         },
         "mode": "markers",
         "name": "sv10-194, truth",
         "orientation": "v",
         "showlegend": true,
         "type": "scatter",
         "x": {
          "bdata": "1N/0wA==",
          "dtype": "f4"
         },
         "xaxis": "x",
         "y": {
          "bdata": "446oQA==",
          "dtype": "f4"
         },
         "yaxis": "y"
        },
        {
         "hovertemplate": "id=sv10-195<br>class=truth<br>x=%{x}<br>y=%{y}<extra></extra>",
         "legendgroup": "sv10-195, truth",
         "marker": {
          "color": "#FFA15A",
          "symbol": "diamond"
         },
         "mode": "markers",
         "name": "sv10-195, truth",
         "orientation": "v",
         "showlegend": true,
         "type": "scatter",
         "x": {
          "bdata": "YuUNQQ==",
          "dtype": "f4"
         },
         "xaxis": "x",
         "y": {
          "bdata": "PeAhwQ==",
          "dtype": "f4"
         },
         "yaxis": "y"
        },
        {
         "hovertemplate": "id=sv10-196<br>class=truth<br>x=%{x}<br>y=%{y}<extra></extra>",
         "legendgroup": "sv10-196, truth",
         "marker": {
          "color": "#19d3f3",
          "symbol": "diamond"
         },
         "mode": "markers",
         "name": "sv10-196, truth",
         "orientation": "v",
         "showlegend": true,
         "type": "scatter",
         "x": {
          "bdata": "lhKgQQ==",
          "dtype": "f4"
         },
         "xaxis": "x",
         "y": {
          "bdata": "f0/2vw==",
          "dtype": "f4"
         },
         "yaxis": "y"
        },
        {
         "hovertemplate": "id=sv10-197<br>class=truth<br>x=%{x}<br>y=%{y}<extra></extra>",
         "legendgroup": "sv10-197, truth",
         "marker": {
          "color": "#FF6692",
          "symbol": "diamond"
         },
         "mode": "markers",
         "name": "sv10-197, truth",
         "orientation": "v",
         "showlegend": true,
         "type": "scatter",
         "x": {
          "bdata": "L3HBvw==",
          "dtype": "f4"
         },
         "xaxis": "x",
         "y": {
          "bdata": "YviMwQ==",
          "dtype": "f4"
         },
         "yaxis": "y"
        },
        {
         "hovertemplate": "id=sv10-198<br>class=truth<br>x=%{x}<br>y=%{y}<extra></extra>",
         "legendgroup": "sv10-198, truth",
         "marker": {
          "color": "#B6E880",
          "symbol": "diamond"
         },
         "mode": "markers",
         "name": "sv10-198, truth",
         "orientation": "v",
         "showlegend": true,
         "type": "scatter",
         "x": {
          "bdata": "KOg5wQ==",
          "dtype": "f4"
         },
         "xaxis": "x",
         "y": {
          "bdata": "C/MawA==",
          "dtype": "f4"
         },
         "yaxis": "y"
        },
        {
         "hovertemplate": "id=sv10-199<br>class=truth<br>x=%{x}<br>y=%{y}<extra></extra>",
         "legendgroup": "sv10-199, truth",
         "marker": {
          "color": "#FF97FF",
          "symbol": "diamond"
         },
         "mode": "markers",
         "name": "sv10-199, truth",
         "orientation": "v",
         "showlegend": true,
         "type": "scatter",
         "x": {
          "bdata": "4GyZwA==",
          "dtype": "f4"
         },
         "xaxis": "x",
         "y": {
          "bdata": "aaccwQ==",
          "dtype": "f4"
         },
         "yaxis": "y"
        },
        {
         "hovertemplate": "id=sv10-200<br>class=truth<br>x=%{x}<br>y=%{y}<extra></extra>",
         "legendgroup": "sv10-200, truth",
         "marker": {
          "color": "#FECB52",
          "symbol": "diamond"
         },
         "mode": "markers",
         "name": "sv10-200, truth",
         "orientation": "v",
         "showlegend": true,
         "type": "scatter",
         "x": {
          "bdata": "QtF4wQ==",
          "dtype": "f4"
         },
         "xaxis": "x",
         "y": {
          "bdata": "aWnwwA==",
          "dtype": "f4"
         },
         "yaxis": "y"
        },
        {
         "hovertemplate": "id=sv10-201<br>class=truth<br>x=%{x}<br>y=%{y}<extra></extra>",
         "legendgroup": "sv10-201, truth",
         "marker": {
          "color": "#636efa",
          "symbol": "diamond"
         },
         "mode": "markers",
         "name": "sv10-201, truth",
         "orientation": "v",
         "showlegend": true,
         "type": "scatter",
         "x": {
          "bdata": "mK8qQA==",
          "dtype": "f4"
         },
         "xaxis": "x",
         "y": {
          "bdata": "0gbOQA==",
          "dtype": "f4"
         },
         "yaxis": "y"
        },
        {
         "hovertemplate": "id=sv10-202<br>class=truth<br>x=%{x}<br>y=%{y}<extra></extra>",
         "legendgroup": "sv10-202, truth",
         "marker": {
          "color": "#EF553B",
          "symbol": "diamond"
         },
         "mode": "markers",
         "name": "sv10-202, truth",
         "orientation": "v",
         "showlegend": true,
         "type": "scatter",
         "x": {
          "bdata": "xxVfwQ==",
          "dtype": "f4"
         },
         "xaxis": "x",
         "y": {
          "bdata": "i81vQA==",
          "dtype": "f4"
         },
         "yaxis": "y"
        },
        {
         "hovertemplate": "id=sv10-203<br>class=truth<br>x=%{x}<br>y=%{y}<extra></extra>",
         "legendgroup": "sv10-203, truth",
         "marker": {
          "color": "#00cc96",
          "symbol": "diamond"
         },
         "mode": "markers",
         "name": "sv10-203, truth",
         "orientation": "v",
         "showlegend": true,
         "type": "scatter",
         "x": {
          "bdata": "8SBTwQ==",
          "dtype": "f4"
         },
         "xaxis": "x",
         "y": {
          "bdata": "ESpowQ==",
          "dtype": "f4"
         },
         "yaxis": "y"
        },
        {
         "hovertemplate": "id=sv10-204<br>class=truth<br>x=%{x}<br>y=%{y}<extra></extra>",
         "legendgroup": "sv10-204, truth",
         "marker": {
          "color": "#ab63fa",
          "symbol": "diamond"
         },
         "mode": "markers",
         "name": "sv10-204, truth",
         "orientation": "v",
         "showlegend": true,
         "type": "scatter",
         "x": {
          "bdata": "zOHzPw==",
          "dtype": "f4"
         },
         "xaxis": "x",
         "y": {
          "bdata": "8rQqvw==",
          "dtype": "f4"
         },
         "yaxis": "y"
        },
        {
         "hovertemplate": "id=sv10-205<br>class=truth<br>x=%{x}<br>y=%{y}<extra></extra>",
         "legendgroup": "sv10-205, truth",
         "marker": {
          "color": "#FFA15A",
          "symbol": "diamond"
         },
         "mode": "markers",
         "name": "sv10-205, truth",
         "orientation": "v",
         "showlegend": true,
         "type": "scatter",
         "x": {
          "bdata": "WC4tQQ==",
          "dtype": "f4"
         },
         "xaxis": "x",
         "y": {
          "bdata": "dzqTwQ==",
          "dtype": "f4"
         },
         "yaxis": "y"
        },
        {
         "hovertemplate": "id=sv10-206<br>class=truth<br>x=%{x}<br>y=%{y}<extra></extra>",
         "legendgroup": "sv10-206, truth",
         "marker": {
          "color": "#19d3f3",
          "symbol": "diamond"
         },
         "mode": "markers",
         "name": "sv10-206, truth",
         "orientation": "v",
         "showlegend": true,
         "type": "scatter",
         "x": {
          "bdata": "wtnewA==",
          "dtype": "f4"
         },
         "xaxis": "x",
         "y": {
          "bdata": "bFOKPg==",
          "dtype": "f4"
         },
         "yaxis": "y"
        },
        {
         "hovertemplate": "id=sv10-207<br>class=truth<br>x=%{x}<br>y=%{y}<extra></extra>",
         "legendgroup": "sv10-207, truth",
         "marker": {
          "color": "#FF6692",
          "symbol": "diamond"
         },
         "mode": "markers",
         "name": "sv10-207, truth",
         "orientation": "v",
         "showlegend": true,
         "type": "scatter",
         "x": {
          "bdata": "Iebkvw==",
          "dtype": "f4"
         },
         "xaxis": "x",
         "y": {
          "bdata": "yCoewQ==",
          "dtype": "f4"
         },
         "yaxis": "y"
        },
        {
         "hovertemplate": "id=sv10-208<br>class=truth<br>x=%{x}<br>y=%{y}<extra></extra>",
         "legendgroup": "sv10-208, truth",
         "marker": {
          "color": "#B6E880",
          "symbol": "diamond"
         },
         "mode": "markers",
         "name": "sv10-208, truth",
         "orientation": "v",
         "showlegend": true,
         "type": "scatter",
         "x": {
          "bdata": "yxujPw==",
          "dtype": "f4"
         },
         "xaxis": "x",
         "y": {
          "bdata": "VEpFQQ==",
          "dtype": "f4"
         },
         "yaxis": "y"
        },
        {
         "hovertemplate": "id=sv10-209<br>class=truth<br>x=%{x}<br>y=%{y}<extra></extra>",
         "legendgroup": "sv10-209, truth",
         "marker": {
          "color": "#FF97FF",
          "symbol": "diamond"
         },
         "mode": "markers",
         "name": "sv10-209, truth",
         "orientation": "v",
         "showlegend": true,
         "type": "scatter",
         "x": {
          "bdata": "IuW0vw==",
          "dtype": "f4"
         },
         "xaxis": "x",
         "y": {
          "bdata": "7DJgQQ==",
          "dtype": "f4"
         },
         "yaxis": "y"
        },
        {
         "hovertemplate": "id=sv10-210<br>class=truth<br>x=%{x}<br>y=%{y}<extra></extra>",
         "legendgroup": "sv10-210, truth",
         "marker": {
          "color": "#FECB52",
          "symbol": "diamond"
         },
         "mode": "markers",
         "name": "sv10-210, truth",
         "orientation": "v",
         "showlegend": true,
         "type": "scatter",
         "x": {
          "bdata": "C2NDwA==",
          "dtype": "f4"
         },
         "xaxis": "x",
         "y": {
          "bdata": "4y1DwQ==",
          "dtype": "f4"
         },
         "yaxis": "y"
        },
        {
         "hovertemplate": "id=sv10-211<br>class=truth<br>x=%{x}<br>y=%{y}<extra></extra>",
         "legendgroup": "sv10-211, truth",
         "marker": {
          "color": "#636efa",
          "symbol": "diamond"
         },
         "mode": "markers",
         "name": "sv10-211, truth",
         "orientation": "v",
         "showlegend": true,
         "type": "scatter",
         "x": {
          "bdata": "RUpcQA==",
          "dtype": "f4"
         },
         "xaxis": "x",
         "y": {
          "bdata": "iwGWwQ==",
          "dtype": "f4"
         },
         "yaxis": "y"
        },
        {
         "hovertemplate": "id=sv10-212<br>class=truth<br>x=%{x}<br>y=%{y}<extra></extra>",
         "legendgroup": "sv10-212, truth",
         "marker": {
          "color": "#EF553B",
          "symbol": "diamond"
         },
         "mode": "markers",
         "name": "sv10-212, truth",
         "orientation": "v",
         "showlegend": true,
         "type": "scatter",
         "x": {
          "bdata": "GK/6Pw==",
          "dtype": "f4"
         },
         "xaxis": "x",
         "y": {
          "bdata": "VD0eQA==",
          "dtype": "f4"
         },
         "yaxis": "y"
        },
        {
         "hovertemplate": "id=sv10-213<br>class=truth<br>x=%{x}<br>y=%{y}<extra></extra>",
         "legendgroup": "sv10-213, truth",
         "marker": {
          "color": "#00cc96",
          "symbol": "diamond"
         },
         "mode": "markers",
         "name": "sv10-213, truth",
         "orientation": "v",
         "showlegend": true,
         "type": "scatter",
         "x": {
          "bdata": "LjxEwQ==",
          "dtype": "f4"
         },
         "xaxis": "x",
         "y": {
          "bdata": "AdA3wQ==",
          "dtype": "f4"
         },
         "yaxis": "y"
        },
        {
         "hovertemplate": "id=sv10-214<br>class=truth<br>x=%{x}<br>y=%{y}<extra></extra>",
         "legendgroup": "sv10-214, truth",
         "marker": {
          "color": "#ab63fa",
          "symbol": "diamond"
         },
         "mode": "markers",
         "name": "sv10-214, truth",
         "orientation": "v",
         "showlegend": true,
         "type": "scatter",
         "x": {
          "bdata": "+BdKQA==",
          "dtype": "f4"
         },
         "xaxis": "x",
         "y": {
          "bdata": "VTg2wQ==",
          "dtype": "f4"
         },
         "yaxis": "y"
        },
        {
         "hovertemplate": "id=sv10-215<br>class=truth<br>x=%{x}<br>y=%{y}<extra></extra>",
         "legendgroup": "sv10-215, truth",
         "marker": {
          "color": "#FFA15A",
          "symbol": "diamond"
         },
         "mode": "markers",
         "name": "sv10-215, truth",
         "orientation": "v",
         "showlegend": true,
         "type": "scatter",
         "x": {
          "bdata": "siKpQA==",
          "dtype": "f4"
         },
         "xaxis": "x",
         "y": {
          "bdata": "Nrx2wQ==",
          "dtype": "f4"
         },
         "yaxis": "y"
        },
        {
         "hovertemplate": "id=sv10-216<br>class=truth<br>x=%{x}<br>y=%{y}<extra></extra>",
         "legendgroup": "sv10-216, truth",
         "marker": {
          "color": "#19d3f3",
          "symbol": "diamond"
         },
         "mode": "markers",
         "name": "sv10-216, truth",
         "orientation": "v",
         "showlegend": true,
         "type": "scatter",
         "x": {
          "bdata": "N2oAwQ==",
          "dtype": "f4"
         },
         "xaxis": "x",
         "y": {
          "bdata": "v0oZwQ==",
          "dtype": "f4"
         },
         "yaxis": "y"
        },
        {
         "hovertemplate": "id=sv10-217<br>class=truth<br>x=%{x}<br>y=%{y}<extra></extra>",
         "legendgroup": "sv10-217, truth",
         "marker": {
          "color": "#FF6692",
          "symbol": "diamond"
         },
         "mode": "markers",
         "name": "sv10-217, truth",
         "orientation": "v",
         "showlegend": true,
         "type": "scatter",
         "x": {
          "bdata": "YzKbwA==",
          "dtype": "f4"
         },
         "xaxis": "x",
         "y": {
          "bdata": "ms2ZwA==",
          "dtype": "f4"
         },
         "yaxis": "y"
        },
        {
         "hovertemplate": "id=sv10-218<br>class=truth<br>x=%{x}<br>y=%{y}<extra></extra>",
         "legendgroup": "sv10-218, truth",
         "marker": {
          "color": "#B6E880",
          "symbol": "diamond"
         },
         "mode": "markers",
         "name": "sv10-218, truth",
         "orientation": "v",
         "showlegend": true,
         "type": "scatter",
         "x": {
          "bdata": "cv0GQQ==",
          "dtype": "f4"
         },
         "xaxis": "x",
         "y": {
          "bdata": "zE+SwQ==",
          "dtype": "f4"
         },
         "yaxis": "y"
        },
        {
         "hovertemplate": "id=sv10-219<br>class=truth<br>x=%{x}<br>y=%{y}<extra></extra>",
         "legendgroup": "sv10-219, truth",
         "marker": {
          "color": "#FF97FF",
          "symbol": "diamond"
         },
         "mode": "markers",
         "name": "sv10-219, truth",
         "orientation": "v",
         "showlegend": true,
         "type": "scatter",
         "x": {
          "bdata": "+CsuwQ==",
          "dtype": "f4"
         },
         "xaxis": "x",
         "y": {
          "bdata": "Q2dkwQ==",
          "dtype": "f4"
         },
         "yaxis": "y"
        },
        {
         "hovertemplate": "id=sv10-220<br>class=truth<br>x=%{x}<br>y=%{y}<extra></extra>",
         "legendgroup": "sv10-220, truth",
         "marker": {
          "color": "#FECB52",
          "symbol": "diamond"
         },
         "mode": "markers",
         "name": "sv10-220, truth",
         "orientation": "v",
         "showlegend": true,
         "type": "scatter",
         "x": {
          "bdata": "1GAXQQ==",
          "dtype": "f4"
         },
         "xaxis": "x",
         "y": {
          "bdata": "fL3SwQ==",
          "dtype": "f4"
         },
         "yaxis": "y"
        },
        {
         "hovertemplate": "id=sv10-221<br>class=truth<br>x=%{x}<br>y=%{y}<extra></extra>",
         "legendgroup": "sv10-221, truth",
         "marker": {
          "color": "#636efa",
          "symbol": "diamond"
         },
         "mode": "markers",
         "name": "sv10-221, truth",
         "orientation": "v",
         "showlegend": true,
         "type": "scatter",
         "x": {
          "bdata": "dfquwA==",
          "dtype": "f4"
         },
         "xaxis": "x",
         "y": {
          "bdata": "bwmNQQ==",
          "dtype": "f4"
         },
         "yaxis": "y"
        },
        {
         "hovertemplate": "id=sv10-222<br>class=truth<br>x=%{x}<br>y=%{y}<extra></extra>",
         "legendgroup": "sv10-222, truth",
         "marker": {
          "color": "#EF553B",
          "symbol": "diamond"
         },
         "mode": "markers",
         "name": "sv10-222, truth",
         "orientation": "v",
         "showlegend": true,
         "type": "scatter",
         "x": {
          "bdata": "KprBwQ==",
          "dtype": "f4"
         },
         "xaxis": "x",
         "y": {
          "bdata": "BYDZwA==",
          "dtype": "f4"
         },
         "yaxis": "y"
        },
        {
         "hovertemplate": "id=sv10-223<br>class=truth<br>x=%{x}<br>y=%{y}<extra></extra>",
         "legendgroup": "sv10-223, truth",
         "marker": {
          "color": "#00cc96",
          "symbol": "diamond"
         },
         "mode": "markers",
         "name": "sv10-223, truth",
         "orientation": "v",
         "showlegend": true,
         "type": "scatter",
         "x": {
          "bdata": "beuxwQ==",
          "dtype": "f4"
         },
         "xaxis": "x",
         "y": {
          "bdata": "nZYSwQ==",
          "dtype": "f4"
         },
         "yaxis": "y"
        },
        {
         "hovertemplate": "id=sv10-224<br>class=truth<br>x=%{x}<br>y=%{y}<extra></extra>",
         "legendgroup": "sv10-224, truth",
         "marker": {
          "color": "#ab63fa",
          "symbol": "diamond"
         },
         "mode": "markers",
         "name": "sv10-224, truth",
         "orientation": "v",
         "showlegend": true,
         "type": "scatter",
         "x": {
          "bdata": "efSXwQ==",
          "dtype": "f4"
         },
         "xaxis": "x",
         "y": {
          "bdata": "tP9DwQ==",
          "dtype": "f4"
         },
         "yaxis": "y"
        },
        {
         "hovertemplate": "id=sv10-225<br>class=truth<br>x=%{x}<br>y=%{y}<extra></extra>",
         "legendgroup": "sv10-225, truth",
         "marker": {
          "color": "#FFA15A",
          "symbol": "diamond"
         },
         "mode": "markers",
         "name": "sv10-225, truth",
         "orientation": "v",
         "showlegend": true,
         "type": "scatter",
         "x": {
          "bdata": "V0m+wQ==",
          "dtype": "f4"
         },
         "xaxis": "x",
         "y": {
          "bdata": "7Io1wQ==",
          "dtype": "f4"
         },
         "yaxis": "y"
        },
        {
         "hovertemplate": "id=sv10-226<br>class=truth<br>x=%{x}<br>y=%{y}<extra></extra>",
         "legendgroup": "sv10-226, truth",
         "marker": {
          "color": "#19d3f3",
          "symbol": "diamond"
         },
         "mode": "markers",
         "name": "sv10-226, truth",
         "orientation": "v",
         "showlegend": true,
         "type": "scatter",
         "x": {
          "bdata": "kAymwQ==",
          "dtype": "f4"
         },
         "xaxis": "x",
         "y": {
          "bdata": "Qx/pwA==",
          "dtype": "f4"
         },
         "yaxis": "y"
        },
        {
         "hovertemplate": "id=sv10-227<br>class=truth<br>x=%{x}<br>y=%{y}<extra></extra>",
         "legendgroup": "sv10-227, truth",
         "marker": {
          "color": "#FF6692",
          "symbol": "diamond"
         },
         "mode": "markers",
         "name": "sv10-227, truth",
         "orientation": "v",
         "showlegend": true,
         "type": "scatter",
         "x": {
          "bdata": "HvelwQ==",
          "dtype": "f4"
         },
         "xaxis": "x",
         "y": {
          "bdata": "2kMwwQ==",
          "dtype": "f4"
         },
         "yaxis": "y"
        },
        {
         "hovertemplate": "id=sv10-228<br>class=truth<br>x=%{x}<br>y=%{y}<extra></extra>",
         "legendgroup": "sv10-228, truth",
         "marker": {
          "color": "#B6E880",
          "symbol": "diamond"
         },
         "mode": "markers",
         "name": "sv10-228, truth",
         "orientation": "v",
         "showlegend": true,
         "type": "scatter",
         "x": {
          "bdata": "l0DmwA==",
          "dtype": "f4"
         },
         "xaxis": "x",
         "y": {
          "bdata": "dVeJPw==",
          "dtype": "f4"
         },
         "yaxis": "y"
        },
        {
         "hovertemplate": "id=sv10-229<br>class=truth<br>x=%{x}<br>y=%{y}<extra></extra>",
         "legendgroup": "sv10-229, truth",
         "marker": {
          "color": "#FF97FF",
          "symbol": "diamond"
         },
         "mode": "markers",
         "name": "sv10-229, truth",
         "orientation": "v",
         "showlegend": true,
         "type": "scatter",
         "x": {
          "bdata": "SCAgQA==",
          "dtype": "f4"
         },
         "xaxis": "x",
         "y": {
          "bdata": "2KozQQ==",
          "dtype": "f4"
         },
         "yaxis": "y"
        },
        {
         "hovertemplate": "id=sv10-230<br>class=truth<br>x=%{x}<br>y=%{y}<extra></extra>",
         "legendgroup": "sv10-230, truth",
         "marker": {
          "color": "#FECB52",
          "symbol": "diamond"
         },
         "mode": "markers",
         "name": "sv10-230, truth",
         "orientation": "v",
         "showlegend": true,
         "type": "scatter",
         "x": {
          "bdata": "05uevw==",
          "dtype": "f4"
         },
         "xaxis": "x",
         "y": {
          "bdata": "oxlpQQ==",
          "dtype": "f4"
         },
         "yaxis": "y"
        },
        {
         "hovertemplate": "id=sv10-231<br>class=truth<br>x=%{x}<br>y=%{y}<extra></extra>",
         "legendgroup": "sv10-231, truth",
         "marker": {
          "color": "#636efa",
          "symbol": "diamond"
         },
         "mode": "markers",
         "name": "sv10-231, truth",
         "orientation": "v",
         "showlegend": true,
         "type": "scatter",
         "x": {
          "bdata": "lRVJwQ==",
          "dtype": "f4"
         },
         "xaxis": "x",
         "y": {
          "bdata": "Q+1BwQ==",
          "dtype": "f4"
         },
         "yaxis": "y"
        },
        {
         "hovertemplate": "id=sv10-232<br>class=truth<br>x=%{x}<br>y=%{y}<extra></extra>",
         "legendgroup": "sv10-232, truth",
         "marker": {
          "color": "#EF553B",
          "symbol": "diamond"
         },
         "mode": "markers",
         "name": "sv10-232, truth",
         "orientation": "v",
         "showlegend": true,
         "type": "scatter",
         "x": {
          "bdata": "+R4Zvw==",
          "dtype": "f4"
         },
         "xaxis": "x",
         "y": {
          "bdata": "MbPfvg==",
          "dtype": "f4"
         },
         "yaxis": "y"
        },
        {
         "hovertemplate": "id=sv10-233<br>class=truth<br>x=%{x}<br>y=%{y}<extra></extra>",
         "legendgroup": "sv10-233, truth",
         "marker": {
          "color": "#00cc96",
          "symbol": "diamond"
         },
         "mode": "markers",
         "name": "sv10-233, truth",
         "orientation": "v",
         "showlegend": true,
         "type": "scatter",
         "x": {
          "bdata": "fCwIwQ==",
          "dtype": "f4"
         },
         "xaxis": "x",
         "y": {
          "bdata": "Tv8gwQ==",
          "dtype": "f4"
         },
         "yaxis": "y"
        },
        {
         "hovertemplate": "id=sv10-234<br>class=truth<br>x=%{x}<br>y=%{y}<extra></extra>",
         "legendgroup": "sv10-234, truth",
         "marker": {
          "color": "#ab63fa",
          "symbol": "diamond"
         },
         "mode": "markers",
         "name": "sv10-234, truth",
         "orientation": "v",
         "showlegend": true,
         "type": "scatter",
         "x": {
          "bdata": "OsF6wA==",
          "dtype": "f4"
         },
         "xaxis": "x",
         "y": {
          "bdata": "+bmVwA==",
          "dtype": "f4"
         },
         "yaxis": "y"
        },
        {
         "hovertemplate": "id=sv10-235<br>class=truth<br>x=%{x}<br>y=%{y}<extra></extra>",
         "legendgroup": "sv10-235, truth",
         "marker": {
          "color": "#FFA15A",
          "symbol": "diamond"
         },
         "mode": "markers",
         "name": "sv10-235, truth",
         "orientation": "v",
         "showlegend": true,
         "type": "scatter",
         "x": {
          "bdata": "zd0MQQ==",
          "dtype": "f4"
         },
         "xaxis": "x",
         "y": {
          "bdata": "112SwQ==",
          "dtype": "f4"
         },
         "yaxis": "y"
        },
        {
         "hovertemplate": "id=sv10-236<br>class=truth<br>x=%{x}<br>y=%{y}<extra></extra>",
         "legendgroup": "sv10-236, truth",
         "marker": {
          "color": "#19d3f3",
          "symbol": "diamond"
         },
         "mode": "markers",
         "name": "sv10-236, truth",
         "orientation": "v",
         "showlegend": true,
         "type": "scatter",
         "x": {
          "bdata": "XMOPwA==",
          "dtype": "f4"
         },
         "xaxis": "x",
         "y": {
          "bdata": "rheMQQ==",
          "dtype": "f4"
         },
         "yaxis": "y"
        },
        {
         "hovertemplate": "id=sv10-237<br>class=truth<br>x=%{x}<br>y=%{y}<extra></extra>",
         "legendgroup": "sv10-237, truth",
         "marker": {
          "color": "#FF6692",
          "symbol": "diamond"
         },
         "mode": "markers",
         "name": "sv10-237, truth",
         "orientation": "v",
         "showlegend": true,
         "type": "scatter",
         "x": {
          "bdata": "22OWwQ==",
          "dtype": "f4"
         },
         "xaxis": "x",
         "y": {
          "bdata": "qjZQwQ==",
          "dtype": "f4"
         },
         "yaxis": "y"
        },
        {
         "hovertemplate": "id=sv10-238<br>class=truth<br>x=%{x}<br>y=%{y}<extra></extra>",
         "legendgroup": "sv10-238, truth",
         "marker": {
          "color": "#B6E880",
          "symbol": "diamond"
         },
         "mode": "markers",
         "name": "sv10-238, truth",
         "orientation": "v",
         "showlegend": true,
         "type": "scatter",
         "x": {
          "bdata": "Pdq/wQ==",
          "dtype": "f4"
         },
         "xaxis": "x",
         "y": {
          "bdata": "QGkuwQ==",
          "dtype": "f4"
         },
         "yaxis": "y"
        },
        {
         "hovertemplate": "id=sv10-239<br>class=truth<br>x=%{x}<br>y=%{y}<extra></extra>",
         "legendgroup": "sv10-239, truth",
         "marker": {
          "color": "#FF97FF",
          "symbol": "diamond"
         },
         "mode": "markers",
         "name": "sv10-239, truth",
         "orientation": "v",
         "showlegend": true,
         "type": "scatter",
         "x": {
          "bdata": "fEoGwA==",
          "dtype": "f4"
         },
         "xaxis": "x",
         "y": {
          "bdata": "j8plQQ==",
          "dtype": "f4"
         },
         "yaxis": "y"
        },
        {
         "hovertemplate": "id=sv10-240<br>class=truth<br>x=%{x}<br>y=%{y}<extra></extra>",
         "legendgroup": "sv10-240, truth",
         "marker": {
          "color": "#FECB52",
          "symbol": "diamond"
         },
         "mode": "markers",
         "name": "sv10-240, truth",
         "orientation": "v",
         "showlegend": true,
         "type": "scatter",
         "x": {
          "bdata": "sxRSwQ==",
          "dtype": "f4"
         },
         "xaxis": "x",
         "y": {
          "bdata": "WSs2wQ==",
          "dtype": "f4"
         },
         "yaxis": "y"
        },
        {
         "hovertemplate": "id=sv10-241<br>class=truth<br>x=%{x}<br>y=%{y}<extra></extra>",
         "legendgroup": "sv10-241, truth",
         "marker": {
          "color": "#636efa",
          "symbol": "diamond"
         },
         "mode": "markers",
         "name": "sv10-241, truth",
         "orientation": "v",
         "showlegend": true,
         "type": "scatter",
         "x": {
          "bdata": "wq+zQA==",
          "dtype": "f4"
         },
         "xaxis": "x",
         "y": {
          "bdata": "5Ex1wQ==",
          "dtype": "f4"
         },
         "yaxis": "y"
        },
        {
         "hovertemplate": "id=sv10-242<br>class=truth<br>x=%{x}<br>y=%{y}<extra></extra>",
         "legendgroup": "sv10-242, truth",
         "marker": {
          "color": "#EF553B",
          "symbol": "diamond"
         },
         "mode": "markers",
         "name": "sv10-242, truth",
         "orientation": "v",
         "showlegend": true,
         "type": "scatter",
         "x": {
          "bdata": "YBebwA==",
          "dtype": "f4"
         },
         "xaxis": "x",
         "y": {
          "bdata": "S2qAwA==",
          "dtype": "f4"
         },
         "yaxis": "y"
        },
        {
         "hovertemplate": "id=sv10-243<br>class=truth<br>x=%{x}<br>y=%{y}<extra></extra>",
         "legendgroup": "sv10-243, truth",
         "marker": {
          "color": "#00cc96",
          "symbol": "diamond"
         },
         "mode": "markers",
         "name": "sv10-243, truth",
         "orientation": "v",
         "showlegend": true,
         "type": "scatter",
         "x": {
          "bdata": "4L7CwQ==",
          "dtype": "f4"
         },
         "xaxis": "x",
         "y": {
          "bdata": "nM2Wvw==",
          "dtype": "f4"
         },
         "yaxis": "y"
        },
        {
         "hovertemplate": "id=sv10-244<br>class=truth<br>x=%{x}<br>y=%{y}<extra></extra>",
         "legendgroup": "sv10-244, truth",
         "marker": {
          "color": "#ab63fa",
          "symbol": "diamond"
         },
         "mode": "markers",
         "name": "sv10-244, truth",
         "orientation": "v",
         "showlegend": true,
         "type": "scatter",
         "x": {
          "bdata": "pjrJwQ==",
          "dtype": "f4"
         },
         "xaxis": "x",
         "y": {
          "bdata": "XzHtvw==",
          "dtype": "f4"
         },
         "yaxis": "y"
        }
       ],
       "layout": {
        "legend": {
         "title": {
          "text": "id, class"
         },
         "tracegroupgap": 0
        },
        "margin": {
         "t": 60
        },
        "template": {
         "data": {
          "bar": [
           {
            "error_x": {
             "color": "#2a3f5f"
            },
            "error_y": {
             "color": "#2a3f5f"
            },
            "marker": {
             "line": {
              "color": "#E5ECF6",
              "width": 0.5
             },
             "pattern": {
              "fillmode": "overlay",
              "size": 10,
              "solidity": 0.2
             }
            },
            "type": "bar"
           }
          ],
          "barpolar": [
           {
            "marker": {
             "line": {
              "color": "#E5ECF6",
              "width": 0.5
             },
             "pattern": {
              "fillmode": "overlay",
              "size": 10,
              "solidity": 0.2
             }
            },
            "type": "barpolar"
           }
          ],
          "carpet": [
           {
            "aaxis": {
             "endlinecolor": "#2a3f5f",
             "gridcolor": "white",
             "linecolor": "white",
             "minorgridcolor": "white",
             "startlinecolor": "#2a3f5f"
            },
            "baxis": {
             "endlinecolor": "#2a3f5f",
             "gridcolor": "white",
             "linecolor": "white",
             "minorgridcolor": "white",
             "startlinecolor": "#2a3f5f"
            },
            "type": "carpet"
           }
          ],
          "choropleth": [
           {
            "colorbar": {
             "outlinewidth": 0,
             "ticks": ""
            },
            "type": "choropleth"
           }
          ],
          "contour": [
           {
            "colorbar": {
             "outlinewidth": 0,
             "ticks": ""
            },
            "colorscale": [
             [
              0,
              "#0d0887"
             ],
             [
              0.1111111111111111,
              "#46039f"
             ],
             [
              0.2222222222222222,
              "#7201a8"
             ],
             [
              0.3333333333333333,
              "#9c179e"
             ],
             [
              0.4444444444444444,
              "#bd3786"
             ],
             [
              0.5555555555555556,
              "#d8576b"
             ],
             [
              0.6666666666666666,
              "#ed7953"
             ],
             [
              0.7777777777777778,
              "#fb9f3a"
             ],
             [
              0.8888888888888888,
              "#fdca26"
             ],
             [
              1,
              "#f0f921"
             ]
            ],
            "type": "contour"
           }
          ],
          "contourcarpet": [
           {
            "colorbar": {
             "outlinewidth": 0,
             "ticks": ""
            },
            "type": "contourcarpet"
           }
          ],
          "heatmap": [
           {
            "colorbar": {
             "outlinewidth": 0,
             "ticks": ""
            },
            "colorscale": [
             [
              0,
              "#0d0887"
             ],
             [
              0.1111111111111111,
              "#46039f"
             ],
             [
              0.2222222222222222,
              "#7201a8"
             ],
             [
              0.3333333333333333,
              "#9c179e"
             ],
             [
              0.4444444444444444,
              "#bd3786"
             ],
             [
              0.5555555555555556,
              "#d8576b"
             ],
             [
              0.6666666666666666,
              "#ed7953"
             ],
             [
              0.7777777777777778,
              "#fb9f3a"
             ],
             [
              0.8888888888888888,
              "#fdca26"
             ],
             [
              1,
              "#f0f921"
             ]
            ],
            "type": "heatmap"
           }
          ],
          "histogram": [
           {
            "marker": {
             "pattern": {
              "fillmode": "overlay",
              "size": 10,
              "solidity": 0.2
             }
            },
            "type": "histogram"
           }
          ],
          "histogram2d": [
           {
            "colorbar": {
             "outlinewidth": 0,
             "ticks": ""
            },
            "colorscale": [
             [
              0,
              "#0d0887"
             ],
             [
              0.1111111111111111,
              "#46039f"
             ],
             [
              0.2222222222222222,
              "#7201a8"
             ],
             [
              0.3333333333333333,
              "#9c179e"
             ],
             [
              0.4444444444444444,
              "#bd3786"
             ],
             [
              0.5555555555555556,
              "#d8576b"
             ],
             [
              0.6666666666666666,
              "#ed7953"
             ],
             [
              0.7777777777777778,
              "#fb9f3a"
             ],
             [
              0.8888888888888888,
              "#fdca26"
             ],
             [
              1,
              "#f0f921"
             ]
            ],
            "type": "histogram2d"
           }
          ],
          "histogram2dcontour": [
           {
            "colorbar": {
             "outlinewidth": 0,
             "ticks": ""
            },
            "colorscale": [
             [
              0,
              "#0d0887"
             ],
             [
              0.1111111111111111,
              "#46039f"
             ],
             [
              0.2222222222222222,
              "#7201a8"
             ],
             [
              0.3333333333333333,
              "#9c179e"
             ],
             [
              0.4444444444444444,
              "#bd3786"
             ],
             [
              0.5555555555555556,
              "#d8576b"
             ],
             [
              0.6666666666666666,
              "#ed7953"
             ],
             [
              0.7777777777777778,
              "#fb9f3a"
             ],
             [
              0.8888888888888888,
              "#fdca26"
             ],
             [
              1,
              "#f0f921"
             ]
            ],
            "type": "histogram2dcontour"
           }
          ],
          "mesh3d": [
           {
            "colorbar": {
             "outlinewidth": 0,
             "ticks": ""
            },
            "type": "mesh3d"
           }
          ],
          "parcoords": [
           {
            "line": {
             "colorbar": {
              "outlinewidth": 0,
              "ticks": ""
             }
            },
            "type": "parcoords"
           }
          ],
          "pie": [
           {
            "automargin": true,
            "type": "pie"
           }
          ],
          "scatter": [
           {
            "fillpattern": {
             "fillmode": "overlay",
             "size": 10,
             "solidity": 0.2
            },
            "type": "scatter"
           }
          ],
          "scatter3d": [
           {
            "line": {
             "colorbar": {
              "outlinewidth": 0,
              "ticks": ""
             }
            },
            "marker": {
             "colorbar": {
              "outlinewidth": 0,
              "ticks": ""
             }
            },
            "type": "scatter3d"
           }
          ],
          "scattercarpet": [
           {
            "marker": {
             "colorbar": {
              "outlinewidth": 0,
              "ticks": ""
             }
            },
            "type": "scattercarpet"
           }
          ],
          "scattergeo": [
           {
            "marker": {
             "colorbar": {
              "outlinewidth": 0,
              "ticks": ""
             }
            },
            "type": "scattergeo"
           }
          ],
          "scattergl": [
           {
            "marker": {
             "colorbar": {
              "outlinewidth": 0,
              "ticks": ""
             }
            },
            "type": "scattergl"
           }
          ],
          "scattermap": [
           {
            "marker": {
             "colorbar": {
              "outlinewidth": 0,
              "ticks": ""
             }
            },
            "type": "scattermap"
           }
          ],
          "scattermapbox": [
           {
            "marker": {
             "colorbar": {
              "outlinewidth": 0,
              "ticks": ""
             }
            },
            "type": "scattermapbox"
           }
          ],
          "scatterpolar": [
           {
            "marker": {
             "colorbar": {
              "outlinewidth": 0,
              "ticks": ""
             }
            },
            "type": "scatterpolar"
           }
          ],
          "scatterpolargl": [
           {
            "marker": {
             "colorbar": {
              "outlinewidth": 0,
              "ticks": ""
             }
            },
            "type": "scatterpolargl"
           }
          ],
          "scatterternary": [
           {
            "marker": {
             "colorbar": {
              "outlinewidth": 0,
              "ticks": ""
             }
            },
            "type": "scatterternary"
           }
          ],
          "surface": [
           {
            "colorbar": {
             "outlinewidth": 0,
             "ticks": ""
            },
            "colorscale": [
             [
              0,
              "#0d0887"
             ],
             [
              0.1111111111111111,
              "#46039f"
             ],
             [
              0.2222222222222222,
              "#7201a8"
             ],
             [
              0.3333333333333333,
              "#9c179e"
             ],
             [
              0.4444444444444444,
              "#bd3786"
             ],
             [
              0.5555555555555556,
              "#d8576b"
             ],
             [
              0.6666666666666666,
              "#ed7953"
             ],
             [
              0.7777777777777778,
              "#fb9f3a"
             ],
             [
              0.8888888888888888,
              "#fdca26"
             ],
             [
              1,
              "#f0f921"
             ]
            ],
            "type": "surface"
           }
          ],
          "table": [
           {
            "cells": {
             "fill": {
              "color": "#EBF0F8"
             },
             "line": {
              "color": "white"
             }
            },
            "header": {
             "fill": {
              "color": "#C8D4E3"
             },
             "line": {
              "color": "white"
             }
            },
            "type": "table"
           }
          ]
         },
         "layout": {
          "annotationdefaults": {
           "arrowcolor": "#2a3f5f",
           "arrowhead": 0,
           "arrowwidth": 1
          },
          "autotypenumbers": "strict",
          "coloraxis": {
           "colorbar": {
            "outlinewidth": 0,
            "ticks": ""
           }
          },
          "colorscale": {
           "diverging": [
            [
             0,
             "#8e0152"
            ],
            [
             0.1,
             "#c51b7d"
            ],
            [
             0.2,
             "#de77ae"
            ],
            [
             0.3,
             "#f1b6da"
            ],
            [
             0.4,
             "#fde0ef"
            ],
            [
             0.5,
             "#f7f7f7"
            ],
            [
             0.6,
             "#e6f5d0"
            ],
            [
             0.7,
             "#b8e186"
            ],
            [
             0.8,
             "#7fbc41"
            ],
            [
             0.9,
             "#4d9221"
            ],
            [
             1,
             "#276419"
            ]
           ],
           "sequential": [
            [
             0,
             "#0d0887"
            ],
            [
             0.1111111111111111,
             "#46039f"
            ],
            [
             0.2222222222222222,
             "#7201a8"
            ],
            [
             0.3333333333333333,
             "#9c179e"
            ],
            [
             0.4444444444444444,
             "#bd3786"
            ],
            [
             0.5555555555555556,
             "#d8576b"
            ],
            [
             0.6666666666666666,
             "#ed7953"
            ],
            [
             0.7777777777777778,
             "#fb9f3a"
            ],
            [
             0.8888888888888888,
             "#fdca26"
            ],
            [
             1,
             "#f0f921"
            ]
           ],
           "sequentialminus": [
            [
             0,
             "#0d0887"
            ],
            [
             0.1111111111111111,
             "#46039f"
            ],
            [
             0.2222222222222222,
             "#7201a8"
            ],
            [
             0.3333333333333333,
             "#9c179e"
            ],
            [
             0.4444444444444444,
             "#bd3786"
            ],
            [
             0.5555555555555556,
             "#d8576b"
            ],
            [
             0.6666666666666666,
             "#ed7953"
            ],
            [
             0.7777777777777778,
             "#fb9f3a"
            ],
            [
             0.8888888888888888,
             "#fdca26"
            ],
            [
             1,
             "#f0f921"
            ]
           ]
          },
          "colorway": [
           "#636efa",
           "#EF553B",
           "#00cc96",
           "#ab63fa",
           "#FFA15A",
           "#19d3f3",
           "#FF6692",
           "#B6E880",
           "#FF97FF",
           "#FECB52"
          ],
          "font": {
           "color": "#2a3f5f"
          },
          "geo": {
           "bgcolor": "white",
           "lakecolor": "white",
           "landcolor": "#E5ECF6",
           "showlakes": true,
           "showland": true,
           "subunitcolor": "white"
          },
          "hoverlabel": {
           "align": "left"
          },
          "hovermode": "closest",
          "mapbox": {
           "style": "light"
          },
          "paper_bgcolor": "white",
          "plot_bgcolor": "#E5ECF6",
          "polar": {
           "angularaxis": {
            "gridcolor": "white",
            "linecolor": "white",
            "ticks": ""
           },
           "bgcolor": "#E5ECF6",
           "radialaxis": {
            "gridcolor": "white",
            "linecolor": "white",
            "ticks": ""
           }
          },
          "scene": {
           "xaxis": {
            "backgroundcolor": "#E5ECF6",
            "gridcolor": "white",
            "gridwidth": 2,
            "linecolor": "white",
            "showbackground": true,
            "ticks": "",
            "zerolinecolor": "white"
           },
           "yaxis": {
            "backgroundcolor": "#E5ECF6",
            "gridcolor": "white",
            "gridwidth": 2,
            "linecolor": "white",
            "showbackground": true,
            "ticks": "",
            "zerolinecolor": "white"
           },
           "zaxis": {
            "backgroundcolor": "#E5ECF6",
            "gridcolor": "white",
            "gridwidth": 2,
            "linecolor": "white",
            "showbackground": true,
            "ticks": "",
            "zerolinecolor": "white"
           }
          },
          "shapedefaults": {
           "line": {
            "color": "#2a3f5f"
           }
          },
          "ternary": {
           "aaxis": {
            "gridcolor": "white",
            "linecolor": "white",
            "ticks": ""
           },
           "baxis": {
            "gridcolor": "white",
            "linecolor": "white",
            "ticks": ""
           },
           "bgcolor": "#E5ECF6",
           "caxis": {
            "gridcolor": "white",
            "linecolor": "white",
            "ticks": ""
           }
          },
          "title": {
           "x": 0.05
          },
          "xaxis": {
           "automargin": true,
           "gridcolor": "white",
           "linecolor": "white",
           "ticks": "",
           "title": {
            "standoff": 15
           },
           "zerolinecolor": "white",
           "zerolinewidth": 2
          },
          "yaxis": {
           "automargin": true,
           "gridcolor": "white",
           "linecolor": "white",
           "ticks": "",
           "title": {
            "standoff": 15
           },
           "zerolinecolor": "white",
           "zerolinewidth": 2
          }
         }
        },
        "xaxis": {
         "anchor": "y",
         "domain": [
          0,
          1
         ],
         "title": {
          "text": "x"
         }
        },
        "yaxis": {
         "anchor": "x",
         "domain": [
          0,
          1
         ],
         "title": {
          "text": "y"
         }
        }
       }
      }
     },
     "metadata": {},
     "output_type": "display_data"
    }
   ],
   "source": [
    "data2 = pd.concat([cap_df, all], axis=0, ignore_index=True)\n",
    "\n",
    "m = TSNE(learning_rate=500)\n",
    "\n",
    "flat_data2 = np.stack(data2[\"emb\"].values)\n",
    "\n",
    "tsne_features2 = m.fit_transform(flat_data2)\n",
    "\n",
    "data2[\"x\"] = tsne_features2[:,0]\n",
    "data2[\"y\"] = tsne_features2[:,1]\n",
    "\n",
    "fig = px.scatter(data2, x=\"x\", y=\"y\", color=\"id\", symbol=\"class\")\n",
    "fig.show()"
   ]
  }
 ],
 "metadata": {
  "kernelspec": {
   "display_name": "Gastly",
   "language": "python",
   "name": "python3"
  },
  "language_info": {
   "codemirror_mode": {
    "name": "ipython",
    "version": 3
   },
   "file_extension": ".py",
   "mimetype": "text/x-python",
   "name": "python",
   "nbconvert_exporter": "python",
   "pygments_lexer": "ipython3",
   "version": "3.12.11"
  }
 },
 "nbformat": 4,
 "nbformat_minor": 5
}
