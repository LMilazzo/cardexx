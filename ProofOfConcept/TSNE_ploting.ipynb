{
 "cells": [
  {
   "cell_type": "code",
   "execution_count": null,
   "id": "add5f219",
   "metadata": {},
   "outputs": [],
   "source": [
    "import pandas as pd\n",
    "from sklearn.manifold import TSNE\n",
    "import numpy as np\n",
    "\n",
    "\"\"\"\n",
    "This module explores whether or not the CLIP generations from user taken images and the digital images turn out good and if they\n",
    "can really be compared, as seen by the tsne plot most of the cards were correctly clustered with their counterparts\n",
    "\"\"\""
   ]
  },
  {
   "cell_type": "code",
   "execution_count": 2,
   "id": "3de5be02",
   "metadata": {},
   "outputs": [],
   "source": [
    "truth_df = pd.read_pickle(\"SV10_truth.pkl\")\n",
    "cap_df = pd.read_pickle(\"SV10_captured.pkl\")"
   ]
  },
  {
   "cell_type": "code",
   "execution_count": 3,
   "id": "3085afc5",
   "metadata": {},
   "outputs": [
    {
     "name": "stdout",
     "output_type": "stream",
     "text": [
      "(21, 3)\n"
     ]
    },
    {
     "data": {
      "text/html": [
       "<div>\n",
       "<style scoped>\n",
       "    .dataframe tbody tr th:only-of-type {\n",
       "        vertical-align: middle;\n",
       "    }\n",
       "\n",
       "    .dataframe tbody tr th {\n",
       "        vertical-align: top;\n",
       "    }\n",
       "\n",
       "    .dataframe thead th {\n",
       "        text-align: right;\n",
       "    }\n",
       "</style>\n",
       "<table border=\"1\" class=\"dataframe\">\n",
       "  <thead>\n",
       "    <tr style=\"text-align: right;\">\n",
       "      <th></th>\n",
       "      <th>id</th>\n",
       "      <th>emb</th>\n",
       "      <th>class</th>\n",
       "    </tr>\n",
       "  </thead>\n",
       "  <tbody>\n",
       "    <tr>\n",
       "      <th>16</th>\n",
       "      <td>sv10-17</td>\n",
       "      <td>[1.2504067, 0.04769124, 0.08306568, 0.62093115...</td>\n",
       "      <td>truth</td>\n",
       "    </tr>\n",
       "    <tr>\n",
       "      <th>21</th>\n",
       "      <td>sv10-22</td>\n",
       "      <td>[1.3897394, 0.28314722, 0.33581403, -0.1016198...</td>\n",
       "      <td>truth</td>\n",
       "    </tr>\n",
       "    <tr>\n",
       "      <th>23</th>\n",
       "      <td>sv10-24</td>\n",
       "      <td>[1.1826667, -0.85501885, -0.39982924, 0.176627...</td>\n",
       "      <td>truth</td>\n",
       "    </tr>\n",
       "  </tbody>\n",
       "</table>\n",
       "</div>"
      ],
      "text/plain": [
       "         id                                                emb  class\n",
       "16  sv10-17  [1.2504067, 0.04769124, 0.08306568, 0.62093115...  truth\n",
       "21  sv10-22  [1.3897394, 0.28314722, 0.33581403, -0.1016198...  truth\n",
       "23  sv10-24  [1.1826667, -0.85501885, -0.39982924, 0.176627...  truth"
      ]
     },
     "execution_count": 3,
     "metadata": {},
     "output_type": "execute_result"
    }
   ],
   "source": [
    "truth_cross_df = truth_df[truth_df['id'].isin(cap_df['id'])]\n",
    "truth_cross_df = truth_cross_df.drop([\"supertype\", \"image\", \"name\"], axis = 1)\n",
    "truth_cross_df[\"class\"] = \"truth\"\n",
    "print(truth_cross_df.shape)\n",
    "truth_cross_df.head(3)"
   ]
  },
  {
   "cell_type": "code",
   "execution_count": 4,
   "id": "78372d45",
   "metadata": {},
   "outputs": [
    {
     "name": "stdout",
     "output_type": "stream",
     "text": [
      "(49, 3)\n"
     ]
    },
    {
     "data": {
      "text/html": [
       "<div>\n",
       "<style scoped>\n",
       "    .dataframe tbody tr th:only-of-type {\n",
       "        vertical-align: middle;\n",
       "    }\n",
       "\n",
       "    .dataframe tbody tr th {\n",
       "        vertical-align: top;\n",
       "    }\n",
       "\n",
       "    .dataframe thead th {\n",
       "        text-align: right;\n",
       "    }\n",
       "</style>\n",
       "<table border=\"1\" class=\"dataframe\">\n",
       "  <thead>\n",
       "    <tr style=\"text-align: right;\">\n",
       "      <th></th>\n",
       "      <th>id</th>\n",
       "      <th>emb</th>\n",
       "      <th>class</th>\n",
       "    </tr>\n",
       "  </thead>\n",
       "  <tbody>\n",
       "    <tr>\n",
       "      <th>0</th>\n",
       "      <td>sv10-103</td>\n",
       "      <td>[0.95359534, -0.2556382, 0.24236733, -0.079072...</td>\n",
       "      <td>cap</td>\n",
       "    </tr>\n",
       "    <tr>\n",
       "      <th>1</th>\n",
       "      <td>sv10-103</td>\n",
       "      <td>[0.68849266, -0.499305, 0.5636944, -0.10402526...</td>\n",
       "      <td>cap</td>\n",
       "    </tr>\n",
       "    <tr>\n",
       "      <th>2</th>\n",
       "      <td>sv10-116</td>\n",
       "      <td>[0.6393946, -0.010814317, 0.77857274, 0.084503...</td>\n",
       "      <td>cap</td>\n",
       "    </tr>\n",
       "  </tbody>\n",
       "</table>\n",
       "</div>"
      ],
      "text/plain": [
       "         id                                                emb class\n",
       "0  sv10-103  [0.95359534, -0.2556382, 0.24236733, -0.079072...   cap\n",
       "1  sv10-103  [0.68849266, -0.499305, 0.5636944, -0.10402526...   cap\n",
       "2  sv10-116  [0.6393946, -0.010814317, 0.77857274, 0.084503...   cap"
      ]
     },
     "execution_count": 4,
     "metadata": {},
     "output_type": "execute_result"
    }
   ],
   "source": [
    "cap_df.columns\n",
    "cap_df = cap_df.drop([\"path\"], axis=1)\n",
    "cap_df[\"class\"] = \"cap\"\n",
    "print(cap_df.shape)\n",
    "cap_df.head(3)"
   ]
  },
  {
   "cell_type": "code",
   "execution_count": 5,
   "id": "833be638",
   "metadata": {},
   "outputs": [
    {
     "data": {
      "text/plain": [
       "(70, 3)"
      ]
     },
     "execution_count": 5,
     "metadata": {},
     "output_type": "execute_result"
    }
   ],
   "source": [
    "data = pd.concat([cap_df, truth_cross_df], axis=0, ignore_index=True)\n",
    "data.shape"
   ]
  },
  {
   "cell_type": "code",
   "execution_count": 6,
   "id": "fe81fbd5",
   "metadata": {},
   "outputs": [],
   "source": [
    "m = TSNE(learning_rate=10)\n",
    "\n",
    "flat_data = np.stack(data[\"emb\"].values)\n",
    "\n",
    "tsne_features = m.fit_transform(flat_data)"
   ]
  },
  {
   "cell_type": "code",
   "execution_count": 7,
   "id": "e1e9f4b4",
   "metadata": {},
   "outputs": [],
   "source": [
    "data[\"x\"] = tsne_features[:,0]\n",
    "data[\"y\"] = tsne_features[:,1]"
   ]
  },
  {
   "cell_type": "code",
   "execution_count": 8,
   "id": "4b12902a",
   "metadata": {},
   "outputs": [
    {
     "data": {
      "text/html": [
       "<div>\n",
       "<style scoped>\n",
       "    .dataframe tbody tr th:only-of-type {\n",
       "        vertical-align: middle;\n",
       "    }\n",
       "\n",
       "    .dataframe tbody tr th {\n",
       "        vertical-align: top;\n",
       "    }\n",
       "\n",
       "    .dataframe thead th {\n",
       "        text-align: right;\n",
       "    }\n",
       "</style>\n",
       "<table border=\"1\" class=\"dataframe\">\n",
       "  <thead>\n",
       "    <tr style=\"text-align: right;\">\n",
       "      <th></th>\n",
       "      <th>id</th>\n",
       "      <th>emb</th>\n",
       "      <th>class</th>\n",
       "      <th>x</th>\n",
       "      <th>y</th>\n",
       "    </tr>\n",
       "  </thead>\n",
       "  <tbody>\n",
       "    <tr>\n",
       "      <th>0</th>\n",
       "      <td>sv10-103</td>\n",
       "      <td>[0.95359534, -0.2556382, 0.24236733, -0.079072...</td>\n",
       "      <td>cap</td>\n",
       "      <td>-2.042312</td>\n",
       "      <td>-1.010459</td>\n",
       "    </tr>\n",
       "    <tr>\n",
       "      <th>1</th>\n",
       "      <td>sv10-103</td>\n",
       "      <td>[0.68849266, -0.499305, 0.5636944, -0.10402526...</td>\n",
       "      <td>cap</td>\n",
       "      <td>-2.527997</td>\n",
       "      <td>-4.091929</td>\n",
       "    </tr>\n",
       "    <tr>\n",
       "      <th>2</th>\n",
       "      <td>sv10-116</td>\n",
       "      <td>[0.6393946, -0.010814317, 0.77857274, 0.084503...</td>\n",
       "      <td>cap</td>\n",
       "      <td>-3.707477</td>\n",
       "      <td>-1.536380</td>\n",
       "    </tr>\n",
       "  </tbody>\n",
       "</table>\n",
       "</div>"
      ],
      "text/plain": [
       "         id                                                emb class  \\\n",
       "0  sv10-103  [0.95359534, -0.2556382, 0.24236733, -0.079072...   cap   \n",
       "1  sv10-103  [0.68849266, -0.499305, 0.5636944, -0.10402526...   cap   \n",
       "2  sv10-116  [0.6393946, -0.010814317, 0.77857274, 0.084503...   cap   \n",
       "\n",
       "          x         y  \n",
       "0 -2.042312 -1.010459  \n",
       "1 -2.527997 -4.091929  \n",
       "2 -3.707477 -1.536380  "
      ]
     },
     "execution_count": 8,
     "metadata": {},
     "output_type": "execute_result"
    }
   ],
   "source": [
    "data.head(3)"
   ]
  },
  {
   "cell_type": "code",
   "execution_count": 9,
   "id": "c9d8daea",
   "metadata": {},
   "outputs": [
    {
     "data": {
      "application/vnd.plotly.v1+json": {
       "config": {
        "plotlyServerURL": "https://plot.ly"
       },
       "data": [
        {
         "hovertemplate": "id=sv10-103<br>class=cap<br>x=%{x}<br>y=%{y}<extra></extra>",
         "legendgroup": "sv10-103, cap",
         "marker": {
          "color": "#636efa",
          "symbol": "circle"
         },
         "mode": "markers",
         "name": "sv10-103, cap",
         "orientation": "v",
         "showlegend": true,
         "type": "scatter",
         "x": {
          "bdata": "P7UCwLXKIcA=",
          "dtype": "f4"
         },
         "xaxis": "x",
         "y": {
          "bdata": "u1aBvxXxgsA=",
          "dtype": "f4"
         },
         "yaxis": "y"
        },
        {
         "hovertemplate": "id=sv10-103<br>class=truth<br>x=%{x}<br>y=%{y}<extra></extra>",
         "legendgroup": "sv10-103, truth",
         "marker": {
          "color": "#636efa",
          "symbol": "diamond"
         },
         "mode": "markers",
         "name": "sv10-103, truth",
         "orientation": "v",
         "showlegend": true,
         "type": "scatter",
         "x": {
          "bdata": "TyIBwA==",
          "dtype": "f4"
         },
         "xaxis": "x",
         "y": {
          "bdata": "iRyBvw==",
          "dtype": "f4"
         },
         "yaxis": "y"
        },
        {
         "hovertemplate": "id=sv10-116<br>class=cap<br>x=%{x}<br>y=%{y}<extra></extra>",
         "legendgroup": "sv10-116, cap",
         "marker": {
          "color": "#EF553B",
          "symbol": "circle"
         },
         "mode": "markers",
         "name": "sv10-116, cap",
         "orientation": "v",
         "showlegend": true,
         "type": "scatter",
         "x": {
          "bdata": "TUdtwEQrcMA=",
          "dtype": "f4"
         },
         "xaxis": "x",
         "y": {
          "bdata": "FqjEvxrT378=",
          "dtype": "f4"
         },
         "yaxis": "y"
        },
        {
         "hovertemplate": "id=sv10-116<br>class=truth<br>x=%{x}<br>y=%{y}<extra></extra>",
         "legendgroup": "sv10-116, truth",
         "marker": {
          "color": "#EF553B",
          "symbol": "diamond"
         },
         "mode": "markers",
         "name": "sv10-116, truth",
         "orientation": "v",
         "showlegend": true,
         "type": "scatter",
         "x": {
          "bdata": "ehluwA==",
          "dtype": "f4"
         },
         "xaxis": "x",
         "y": {
          "bdata": "0MiQvw==",
          "dtype": "f4"
         },
         "yaxis": "y"
        },
        {
         "hovertemplate": "id=sv10-121<br>class=cap<br>x=%{x}<br>y=%{y}<extra></extra>",
         "legendgroup": "sv10-121, cap",
         "marker": {
          "color": "#00cc96",
          "symbol": "circle"
         },
         "mode": "markers",
         "name": "sv10-121, cap",
         "orientation": "v",
         "showlegend": true,
         "type": "scatter",
         "x": {
          "bdata": "pbVFwPgTSsA=",
          "dtype": "f4"
         },
         "xaxis": "x",
         "y": {
          "bdata": "fdOCwNg/6T4=",
          "dtype": "f4"
         },
         "yaxis": "y"
        },
        {
         "hovertemplate": "id=sv10-121<br>class=truth<br>x=%{x}<br>y=%{y}<extra></extra>",
         "legendgroup": "sv10-121, truth",
         "marker": {
          "color": "#00cc96",
          "symbol": "diamond"
         },
         "mode": "markers",
         "name": "sv10-121, truth",
         "orientation": "v",
         "showlegend": true,
         "type": "scatter",
         "x": {
          "bdata": "ovhOwA==",
          "dtype": "f4"
         },
         "xaxis": "x",
         "y": {
          "bdata": "YesWPw==",
          "dtype": "f4"
         },
         "yaxis": "y"
        },
        {
         "hovertemplate": "id=sv10-123<br>class=cap<br>x=%{x}<br>y=%{y}<extra></extra>",
         "legendgroup": "sv10-123, cap",
         "marker": {
          "color": "#ab63fa",
          "symbol": "circle"
         },
         "mode": "markers",
         "name": "sv10-123, cap",
         "orientation": "v",
         "showlegend": true,
         "type": "scatter",
         "x": {
          "bdata": "yxWRwGQlkcA=",
          "dtype": "f4"
         },
         "xaxis": "x",
         "y": {
          "bdata": "6JtdQOCgW0A=",
          "dtype": "f4"
         },
         "yaxis": "y"
        },
        {
         "hovertemplate": "id=sv10-123<br>class=truth<br>x=%{x}<br>y=%{y}<extra></extra>",
         "legendgroup": "sv10-123, truth",
         "marker": {
          "color": "#ab63fa",
          "symbol": "diamond"
         },
         "mode": "markers",
         "name": "sv10-123, truth",
         "orientation": "v",
         "showlegend": true,
         "type": "scatter",
         "x": {
          "bdata": "R7CkwA==",
          "dtype": "f4"
         },
         "xaxis": "x",
         "y": {
          "bdata": "D4FTQA==",
          "dtype": "f4"
         },
         "yaxis": "y"
        },
        {
         "hovertemplate": "id=sv10-131<br>class=cap<br>x=%{x}<br>y=%{y}<extra></extra>",
         "legendgroup": "sv10-131, cap",
         "marker": {
          "color": "#FFA15A",
          "symbol": "circle"
         },
         "mode": "markers",
         "name": "sv10-131, cap",
         "orientation": "v",
         "showlegend": true,
         "type": "scatter",
         "x": {
          "bdata": "tpulwH/6o8A=",
          "dtype": "f4"
         },
         "xaxis": "x",
         "y": {
          "bdata": "pEwTPxB34z4=",
          "dtype": "f4"
         },
         "yaxis": "y"
        },
        {
         "hovertemplate": "id=sv10-131<br>class=truth<br>x=%{x}<br>y=%{y}<extra></extra>",
         "legendgroup": "sv10-131, truth",
         "marker": {
          "color": "#FFA15A",
          "symbol": "diamond"
         },
         "mode": "markers",
         "name": "sv10-131, truth",
         "orientation": "v",
         "showlegend": true,
         "type": "scatter",
         "x": {
          "bdata": "CeeuwA==",
          "dtype": "f4"
         },
         "xaxis": "x",
         "y": {
          "bdata": "RZZPPw==",
          "dtype": "f4"
         },
         "yaxis": "y"
        },
        {
         "hovertemplate": "id=sv10-138<br>class=cap<br>x=%{x}<br>y=%{y}<extra></extra>",
         "legendgroup": "sv10-138, cap",
         "marker": {
          "color": "#19d3f3",
          "symbol": "circle"
         },
         "mode": "markers",
         "name": "sv10-138, cap",
         "orientation": "v",
         "showlegend": true,
         "type": "scatter",
         "x": {
          "bdata": "fcmzQLNytEA=",
          "dtype": "f4"
         },
         "xaxis": "x",
         "y": {
          "bdata": "Jnbhvvz9oj4=",
          "dtype": "f4"
         },
         "yaxis": "y"
        },
        {
         "hovertemplate": "id=sv10-138<br>class=truth<br>x=%{x}<br>y=%{y}<extra></extra>",
         "legendgroup": "sv10-138, truth",
         "marker": {
          "color": "#19d3f3",
          "symbol": "diamond"
         },
         "mode": "markers",
         "name": "sv10-138, truth",
         "orientation": "v",
         "showlegend": true,
         "type": "scatter",
         "x": {
          "bdata": "ci+1QA==",
          "dtype": "f4"
         },
         "xaxis": "x",
         "y": {
          "bdata": "w+TqPg==",
          "dtype": "f4"
         },
         "yaxis": "y"
        },
        {
         "hovertemplate": "id=sv10-144<br>class=cap<br>x=%{x}<br>y=%{y}<extra></extra>",
         "legendgroup": "sv10-144, cap",
         "marker": {
          "color": "#FF6692",
          "symbol": "circle"
         },
         "mode": "markers",
         "name": "sv10-144, cap",
         "orientation": "v",
         "showlegend": true,
         "type": "scatter",
         "x": {
          "bdata": "SRR7v1Ofg78hNpO/5RXmvw==",
          "dtype": "f4"
         },
         "xaxis": "x",
         "y": {
          "bdata": "HeuRP+idtz8R2LE/QibNPw==",
          "dtype": "f4"
         },
         "yaxis": "y"
        },
        {
         "hovertemplate": "id=sv10-144<br>class=truth<br>x=%{x}<br>y=%{y}<extra></extra>",
         "legendgroup": "sv10-144, truth",
         "marker": {
          "color": "#FF6692",
          "symbol": "diamond"
         },
         "mode": "markers",
         "name": "sv10-144, truth",
         "orientation": "v",
         "showlegend": true,
         "type": "scatter",
         "x": {
          "bdata": "5NzBvw==",
          "dtype": "f4"
         },
         "xaxis": "x",
         "y": {
          "bdata": "5LZtPw==",
          "dtype": "f4"
         },
         "yaxis": "y"
        },
        {
         "hovertemplate": "id=sv10-156<br>class=cap<br>x=%{x}<br>y=%{y}<extra></extra>",
         "legendgroup": "sv10-156, cap",
         "marker": {
          "color": "#B6E880",
          "symbol": "circle"
         },
         "mode": "markers",
         "name": "sv10-156, cap",
         "orientation": "v",
         "showlegend": true,
         "type": "scatter",
         "x": {
          "bdata": "7I2gQMkij0DbP4ZAO0agQA==",
          "dtype": "f4"
         },
         "xaxis": "x",
         "y": {
          "bdata": "f1uPQKhIhkDOa5JA0HSXQA==",
          "dtype": "f4"
         },
         "yaxis": "y"
        },
        {
         "hovertemplate": "id=sv10-156<br>class=truth<br>x=%{x}<br>y=%{y}<extra></extra>",
         "legendgroup": "sv10-156, truth",
         "marker": {
          "color": "#B6E880",
          "symbol": "diamond"
         },
         "mode": "markers",
         "name": "sv10-156, truth",
         "orientation": "v",
         "showlegend": true,
         "type": "scatter",
         "x": {
          "bdata": "nRyVQA==",
          "dtype": "f4"
         },
         "xaxis": "x",
         "y": {
          "bdata": "jvRuQA==",
          "dtype": "f4"
         },
         "yaxis": "y"
        },
        {
         "hovertemplate": "id=sv10-17<br>class=cap<br>x=%{x}<br>y=%{y}<extra></extra>",
         "legendgroup": "sv10-17, cap",
         "marker": {
          "color": "#FF97FF",
          "symbol": "circle"
         },
         "mode": "markers",
         "name": "sv10-17, cap",
         "orientation": "v",
         "showlegend": true,
         "type": "scatter",
         "x": {
          "bdata": "xdqnQLtQqEA=",
          "dtype": "f4"
         },
         "xaxis": "x",
         "y": {
          "bdata": "7XlVwO4CVsA=",
          "dtype": "f4"
         },
         "yaxis": "y"
        },
        {
         "hovertemplate": "id=sv10-17<br>class=truth<br>x=%{x}<br>y=%{y}<extra></extra>",
         "legendgroup": "sv10-17, truth",
         "marker": {
          "color": "#FF97FF",
          "symbol": "diamond"
         },
         "mode": "markers",
         "name": "sv10-17, truth",
         "orientation": "v",
         "showlegend": true,
         "type": "scatter",
         "x": {
          "bdata": "QaGfQA==",
          "dtype": "f4"
         },
         "xaxis": "x",
         "y": {
          "bdata": "fApxwA==",
          "dtype": "f4"
         },
         "yaxis": "y"
        },
        {
         "hovertemplate": "id=sv10-177<br>class=cap<br>x=%{x}<br>y=%{y}<extra></extra>",
         "legendgroup": "sv10-177, cap",
         "marker": {
          "color": "#FECB52",
          "symbol": "circle"
         },
         "mode": "markers",
         "name": "sv10-177, cap",
         "orientation": "v",
         "showlegend": true,
         "type": "scatter",
         "x": {
          "bdata": "0ujBwELZhcA=",
          "dtype": "f4"
         },
         "xaxis": "x",
         "y": {
          "bdata": "YaQGwHdYlcA=",
          "dtype": "f4"
         },
         "yaxis": "y"
        },
        {
         "hovertemplate": "id=sv10-177<br>class=truth<br>x=%{x}<br>y=%{y}<extra></extra>",
         "legendgroup": "sv10-177, truth",
         "marker": {
          "color": "#FECB52",
          "symbol": "diamond"
         },
         "mode": "markers",
         "name": "sv10-177, truth",
         "orientation": "v",
         "showlegend": true,
         "type": "scatter",
         "x": {
          "bdata": "mFTCwA==",
          "dtype": "f4"
         },
         "xaxis": "x",
         "y": {
          "bdata": "MO0FwA==",
          "dtype": "f4"
         },
         "yaxis": "y"
        },
        {
         "hovertemplate": "id=sv10-179<br>class=cap<br>x=%{x}<br>y=%{y}<extra></extra>",
         "legendgroup": "sv10-179, cap",
         "marker": {
          "color": "#636efa",
          "symbol": "circle"
         },
         "mode": "markers",
         "name": "sv10-179, cap",
         "orientation": "v",
         "showlegend": true,
         "type": "scatter",
         "x": {
          "bdata": "KNJEP7NHSj8=",
          "dtype": "f4"
         },
         "xaxis": "x",
         "y": {
          "bdata": "nO64QAeut0A=",
          "dtype": "f4"
         },
         "yaxis": "y"
        },
        {
         "hovertemplate": "id=sv10-179<br>class=truth<br>x=%{x}<br>y=%{y}<extra></extra>",
         "legendgroup": "sv10-179, truth",
         "marker": {
          "color": "#636efa",
          "symbol": "diamond"
         },
         "mode": "markers",
         "name": "sv10-179, truth",
         "orientation": "v",
         "showlegend": true,
         "type": "scatter",
         "x": {
          "bdata": "cAMRPw==",
          "dtype": "f4"
         },
         "xaxis": "x",
         "y": {
          "bdata": "EO3HQA==",
          "dtype": "f4"
         },
         "yaxis": "y"
        },
        {
         "hovertemplate": "id=sv10-22<br>class=cap<br>x=%{x}<br>y=%{y}<extra></extra>",
         "legendgroup": "sv10-22, cap",
         "marker": {
          "color": "#EF553B",
          "symbol": "circle"
         },
         "mode": "markers",
         "name": "sv10-22, cap",
         "orientation": "v",
         "showlegend": true,
         "type": "scatter",
         "x": {
          "bdata": "kNEIPpufyL4=",
          "dtype": "f4"
         },
         "xaxis": "x",
         "y": {
          "bdata": "hfqnwG7ltsA=",
          "dtype": "f4"
         },
         "yaxis": "y"
        },
        {
         "hovertemplate": "id=sv10-22<br>class=truth<br>x=%{x}<br>y=%{y}<extra></extra>",
         "legendgroup": "sv10-22, truth",
         "marker": {
          "color": "#EF553B",
          "symbol": "diamond"
         },
         "mode": "markers",
         "name": "sv10-22, truth",
         "orientation": "v",
         "showlegend": true,
         "type": "scatter",
         "x": {
          "bdata": "BYmRPg==",
          "dtype": "f4"
         },
         "xaxis": "x",
         "y": {
          "bdata": "4IOkwA==",
          "dtype": "f4"
         },
         "yaxis": "y"
        },
        {
         "hovertemplate": "id=sv10-24<br>class=cap<br>x=%{x}<br>y=%{y}<extra></extra>",
         "legendgroup": "sv10-24, cap",
         "marker": {
          "color": "#00cc96",
          "symbol": "circle"
         },
         "mode": "markers",
         "name": "sv10-24, cap",
         "orientation": "v",
         "showlegend": true,
         "type": "scatter",
         "x": {
          "bdata": "m4qiP4jdqD8+j6E/",
          "dtype": "f4"
         },
         "xaxis": "x",
         "y": {
          "bdata": "+oAzQGC1MUDl2SFA",
          "dtype": "f4"
         },
         "yaxis": "y"
        },
        {
         "hovertemplate": "id=sv10-24<br>class=truth<br>x=%{x}<br>y=%{y}<extra></extra>",
         "legendgroup": "sv10-24, truth",
         "marker": {
          "color": "#00cc96",
          "symbol": "diamond"
         },
         "mode": "markers",
         "name": "sv10-24, truth",
         "orientation": "v",
         "showlegend": true,
         "type": "scatter",
         "x": {
          "bdata": "ekDvPw==",
          "dtype": "f4"
         },
         "xaxis": "x",
         "y": {
          "bdata": "KblWQA==",
          "dtype": "f4"
         },
         "yaxis": "y"
        },
        {
         "hovertemplate": "id=sv10-33<br>class=cap<br>x=%{x}<br>y=%{y}<extra></extra>",
         "legendgroup": "sv10-33, cap",
         "marker": {
          "color": "#ab63fa",
          "symbol": "circle"
         },
         "mode": "markers",
         "name": "sv10-33, cap",
         "orientation": "v",
         "showlegend": true,
         "type": "scatter",
         "x": {
          "bdata": "gkTDPiUD2r4=",
          "dtype": "f4"
         },
         "xaxis": "x",
         "y": {
          "bdata": "DwcwwLirZMA=",
          "dtype": "f4"
         },
         "yaxis": "y"
        },
        {
         "hovertemplate": "id=sv10-33<br>class=truth<br>x=%{x}<br>y=%{y}<extra></extra>",
         "legendgroup": "sv10-33, truth",
         "marker": {
          "color": "#ab63fa",
          "symbol": "diamond"
         },
         "mode": "markers",
         "name": "sv10-33, truth",
         "orientation": "v",
         "showlegend": true,
         "type": "scatter",
         "x": {
          "bdata": "tiHuPg==",
          "dtype": "f4"
         },
         "xaxis": "x",
         "y": {
          "bdata": "nG0mwA==",
          "dtype": "f4"
         },
         "yaxis": "y"
        },
        {
         "hovertemplate": "id=sv10-35<br>class=cap<br>x=%{x}<br>y=%{y}<extra></extra>",
         "legendgroup": "sv10-35, cap",
         "marker": {
          "color": "#FFA15A",
          "symbol": "circle"
         },
         "mode": "markers",
         "name": "sv10-35, cap",
         "orientation": "v",
         "showlegend": true,
         "type": "scatter",
         "x": {
          "bdata": "FtowQOjRM0A=",
          "dtype": "f4"
         },
         "xaxis": "x",
         "y": {
          "bdata": "jFa6vyvwwL8=",
          "dtype": "f4"
         },
         "yaxis": "y"
        },
        {
         "hovertemplate": "id=sv10-35<br>class=truth<br>x=%{x}<br>y=%{y}<extra></extra>",
         "legendgroup": "sv10-35, truth",
         "marker": {
          "color": "#FFA15A",
          "symbol": "diamond"
         },
         "mode": "markers",
         "name": "sv10-35, truth",
         "orientation": "v",
         "showlegend": true,
         "type": "scatter",
         "x": {
          "bdata": "FBsOQA==",
          "dtype": "f4"
         },
         "xaxis": "x",
         "y": {
          "bdata": "84Dtvw==",
          "dtype": "f4"
         },
         "yaxis": "y"
        },
        {
         "hovertemplate": "id=sv10-37<br>class=cap<br>x=%{x}<br>y=%{y}<extra></extra>",
         "legendgroup": "sv10-37, cap",
         "marker": {
          "color": "#19d3f3",
          "symbol": "circle"
         },
         "mode": "markers",
         "name": "sv10-37, cap",
         "orientation": "v",
         "showlegend": true,
         "type": "scatter",
         "x": {
          "bdata": "9dm7P/9+sT8=",
          "dtype": "f4"
         },
         "xaxis": "x",
         "y": {
          "bdata": "Teh+vmVMoD0=",
          "dtype": "f4"
         },
         "yaxis": "y"
        },
        {
         "hovertemplate": "id=sv10-37<br>class=truth<br>x=%{x}<br>y=%{y}<extra></extra>",
         "legendgroup": "sv10-37, truth",
         "marker": {
          "color": "#19d3f3",
          "symbol": "diamond"
         },
         "mode": "markers",
         "name": "sv10-37, truth",
         "orientation": "v",
         "showlegend": true,
         "type": "scatter",
         "x": {
          "bdata": "MU+yPw==",
          "dtype": "f4"
         },
         "xaxis": "x",
         "y": {
          "bdata": "eDDyvg==",
          "dtype": "f4"
         },
         "yaxis": "y"
        },
        {
         "hovertemplate": "id=sv10-38<br>class=cap<br>x=%{x}<br>y=%{y}<extra></extra>",
         "legendgroup": "sv10-38, cap",
         "marker": {
          "color": "#FF6692",
          "symbol": "circle"
         },
         "mode": "markers",
         "name": "sv10-38, cap",
         "orientation": "v",
         "showlegend": true,
         "type": "scatter",
         "x": {
          "bdata": "cJM4vMkgdb0=",
          "dtype": "f4"
         },
         "xaxis": "x",
         "y": {
          "bdata": "FRtWv7jjKb8=",
          "dtype": "f4"
         },
         "yaxis": "y"
        },
        {
         "hovertemplate": "id=sv10-38<br>class=truth<br>x=%{x}<br>y=%{y}<extra></extra>",
         "legendgroup": "sv10-38, truth",
         "marker": {
          "color": "#FF6692",
          "symbol": "diamond"
         },
         "mode": "markers",
         "name": "sv10-38, truth",
         "orientation": "v",
         "showlegend": true,
         "type": "scatter",
         "x": {
          "bdata": "isAGPQ==",
          "dtype": "f4"
         },
         "xaxis": "x",
         "y": {
          "bdata": "lL6Mvw==",
          "dtype": "f4"
         },
         "yaxis": "y"
        },
        {
         "hovertemplate": "id=sv10-48<br>class=cap<br>x=%{x}<br>y=%{y}<extra></extra>",
         "legendgroup": "sv10-48, cap",
         "marker": {
          "color": "#B6E880",
          "symbol": "circle"
         },
         "mode": "markers",
         "name": "sv10-48, cap",
         "orientation": "v",
         "showlegend": true,
         "type": "scatter",
         "x": {
          "bdata": "PUwbQHKsFkA=",
          "dtype": "f4"
         },
         "xaxis": "x",
         "y": {
          "bdata": "jwN3wACSdMA=",
          "dtype": "f4"
         },
         "yaxis": "y"
        },
        {
         "hovertemplate": "id=sv10-48<br>class=truth<br>x=%{x}<br>y=%{y}<extra></extra>",
         "legendgroup": "sv10-48, truth",
         "marker": {
          "color": "#B6E880",
          "symbol": "diamond"
         },
         "mode": "markers",
         "name": "sv10-48, truth",
         "orientation": "v",
         "showlegend": true,
         "type": "scatter",
         "x": {
          "bdata": "UQwLQA==",
          "dtype": "f4"
         },
         "xaxis": "x",
         "y": {
          "bdata": "spNowA==",
          "dtype": "f4"
         },
         "yaxis": "y"
        },
        {
         "hovertemplate": "id=sv10-53<br>class=cap<br>x=%{x}<br>y=%{y}<extra></extra>",
         "legendgroup": "sv10-53, cap",
         "marker": {
          "color": "#FF97FF",
          "symbol": "circle"
         },
         "mode": "markers",
         "name": "sv10-53, cap",
         "orientation": "v",
         "showlegend": true,
         "type": "scatter",
         "x": {
          "bdata": "837Vvzis478=",
          "dtype": "f4"
         },
         "xaxis": "x",
         "y": {
          "bdata": "6f4hwNQ1L8A=",
          "dtype": "f4"
         },
         "yaxis": "y"
        },
        {
         "hovertemplate": "id=sv10-53<br>class=truth<br>x=%{x}<br>y=%{y}<extra></extra>",
         "legendgroup": "sv10-53, truth",
         "marker": {
          "color": "#FF97FF",
          "symbol": "diamond"
         },
         "mode": "markers",
         "name": "sv10-53, truth",
         "orientation": "v",
         "showlegend": true,
         "type": "scatter",
         "x": {
          "bdata": "V9G6vw==",
          "dtype": "f4"
         },
         "xaxis": "x",
         "y": {
          "bdata": "grQMwA==",
          "dtype": "f4"
         },
         "yaxis": "y"
        },
        {
         "hovertemplate": "id=sv10-75<br>class=cap<br>x=%{x}<br>y=%{y}<extra></extra>",
         "legendgroup": "sv10-75, cap",
         "marker": {
          "color": "#FECB52",
          "symbol": "circle"
         },
         "mode": "markers",
         "name": "sv10-75, cap",
         "orientation": "v",
         "showlegend": true,
         "type": "scatter",
         "x": {
          "bdata": "Jiadv0Eypb+aWMy/M/Lcvw==",
          "dtype": "f4"
         },
         "xaxis": "x",
         "y": {
          "bdata": "/siMQE02g0AeR3dA0hiPQA==",
          "dtype": "f4"
         },
         "yaxis": "y"
        },
        {
         "hovertemplate": "id=sv10-75<br>class=truth<br>x=%{x}<br>y=%{y}<extra></extra>",
         "legendgroup": "sv10-75, truth",
         "marker": {
          "color": "#FECB52",
          "symbol": "diamond"
         },
         "mode": "markers",
         "name": "sv10-75, truth",
         "orientation": "v",
         "showlegend": true,
         "type": "scatter",
         "x": {
          "bdata": "s/+Gvw==",
          "dtype": "f4"
         },
         "xaxis": "x",
         "y": {
          "bdata": "VXtYQA==",
          "dtype": "f4"
         },
         "yaxis": "y"
        },
        {
         "hovertemplate": "id=sv10-99<br>class=cap<br>x=%{x}<br>y=%{y}<extra></extra>",
         "legendgroup": "sv10-99, cap",
         "marker": {
          "color": "#636efa",
          "symbol": "circle"
         },
         "mode": "markers",
         "name": "sv10-99, cap",
         "orientation": "v",
         "showlegend": true,
         "type": "scatter",
         "x": {
          "bdata": "L95MQJaSRUA=",
          "dtype": "f4"
         },
         "xaxis": "x",
         "y": {
          "bdata": "+BamP3ZWjj8=",
          "dtype": "f4"
         },
         "yaxis": "y"
        },
        {
         "hovertemplate": "id=sv10-99<br>class=truth<br>x=%{x}<br>y=%{y}<extra></extra>",
         "legendgroup": "sv10-99, truth",
         "marker": {
          "color": "#636efa",
          "symbol": "diamond"
         },
         "mode": "markers",
         "name": "sv10-99, truth",
         "orientation": "v",
         "showlegend": true,
         "type": "scatter",
         "x": {
          "bdata": "g2RYQA==",
          "dtype": "f4"
         },
         "xaxis": "x",
         "y": {
          "bdata": "zsK7Pw==",
          "dtype": "f4"
         },
         "yaxis": "y"
        }
       ],
       "layout": {
        "legend": {
         "title": {
          "text": "id, class"
         },
         "tracegroupgap": 0
        },
        "margin": {
         "t": 60
        },
        "template": {
         "data": {
          "bar": [
           {
            "error_x": {
             "color": "#2a3f5f"
            },
            "error_y": {
             "color": "#2a3f5f"
            },
            "marker": {
             "line": {
              "color": "#E5ECF6",
              "width": 0.5
             },
             "pattern": {
              "fillmode": "overlay",
              "size": 10,
              "solidity": 0.2
             }
            },
            "type": "bar"
           }
          ],
          "barpolar": [
           {
            "marker": {
             "line": {
              "color": "#E5ECF6",
              "width": 0.5
             },
             "pattern": {
              "fillmode": "overlay",
              "size": 10,
              "solidity": 0.2
             }
            },
            "type": "barpolar"
           }
          ],
          "carpet": [
           {
            "aaxis": {
             "endlinecolor": "#2a3f5f",
             "gridcolor": "white",
             "linecolor": "white",
             "minorgridcolor": "white",
             "startlinecolor": "#2a3f5f"
            },
            "baxis": {
             "endlinecolor": "#2a3f5f",
             "gridcolor": "white",
             "linecolor": "white",
             "minorgridcolor": "white",
             "startlinecolor": "#2a3f5f"
            },
            "type": "carpet"
           }
          ],
          "choropleth": [
           {
            "colorbar": {
             "outlinewidth": 0,
             "ticks": ""
            },
            "type": "choropleth"
           }
          ],
          "contour": [
           {
            "colorbar": {
             "outlinewidth": 0,
             "ticks": ""
            },
            "colorscale": [
             [
              0,
              "#0d0887"
             ],
             [
              0.1111111111111111,
              "#46039f"
             ],
             [
              0.2222222222222222,
              "#7201a8"
             ],
             [
              0.3333333333333333,
              "#9c179e"
             ],
             [
              0.4444444444444444,
              "#bd3786"
             ],
             [
              0.5555555555555556,
              "#d8576b"
             ],
             [
              0.6666666666666666,
              "#ed7953"
             ],
             [
              0.7777777777777778,
              "#fb9f3a"
             ],
             [
              0.8888888888888888,
              "#fdca26"
             ],
             [
              1,
              "#f0f921"
             ]
            ],
            "type": "contour"
           }
          ],
          "contourcarpet": [
           {
            "colorbar": {
             "outlinewidth": 0,
             "ticks": ""
            },
            "type": "contourcarpet"
           }
          ],
          "heatmap": [
           {
            "colorbar": {
             "outlinewidth": 0,
             "ticks": ""
            },
            "colorscale": [
             [
              0,
              "#0d0887"
             ],
             [
              0.1111111111111111,
              "#46039f"
             ],
             [
              0.2222222222222222,
              "#7201a8"
             ],
             [
              0.3333333333333333,
              "#9c179e"
             ],
             [
              0.4444444444444444,
              "#bd3786"
             ],
             [
              0.5555555555555556,
              "#d8576b"
             ],
             [
              0.6666666666666666,
              "#ed7953"
             ],
             [
              0.7777777777777778,
              "#fb9f3a"
             ],
             [
              0.8888888888888888,
              "#fdca26"
             ],
             [
              1,
              "#f0f921"
             ]
            ],
            "type": "heatmap"
           }
          ],
          "histogram": [
           {
            "marker": {
             "pattern": {
              "fillmode": "overlay",
              "size": 10,
              "solidity": 0.2
             }
            },
            "type": "histogram"
           }
          ],
          "histogram2d": [
           {
            "colorbar": {
             "outlinewidth": 0,
             "ticks": ""
            },
            "colorscale": [
             [
              0,
              "#0d0887"
             ],
             [
              0.1111111111111111,
              "#46039f"
             ],
             [
              0.2222222222222222,
              "#7201a8"
             ],
             [
              0.3333333333333333,
              "#9c179e"
             ],
             [
              0.4444444444444444,
              "#bd3786"
             ],
             [
              0.5555555555555556,
              "#d8576b"
             ],
             [
              0.6666666666666666,
              "#ed7953"
             ],
             [
              0.7777777777777778,
              "#fb9f3a"
             ],
             [
              0.8888888888888888,
              "#fdca26"
             ],
             [
              1,
              "#f0f921"
             ]
            ],
            "type": "histogram2d"
           }
          ],
          "histogram2dcontour": [
           {
            "colorbar": {
             "outlinewidth": 0,
             "ticks": ""
            },
            "colorscale": [
             [
              0,
              "#0d0887"
             ],
             [
              0.1111111111111111,
              "#46039f"
             ],
             [
              0.2222222222222222,
              "#7201a8"
             ],
             [
              0.3333333333333333,
              "#9c179e"
             ],
             [
              0.4444444444444444,
              "#bd3786"
             ],
             [
              0.5555555555555556,
              "#d8576b"
             ],
             [
              0.6666666666666666,
              "#ed7953"
             ],
             [
              0.7777777777777778,
              "#fb9f3a"
             ],
             [
              0.8888888888888888,
              "#fdca26"
             ],
             [
              1,
              "#f0f921"
             ]
            ],
            "type": "histogram2dcontour"
           }
          ],
          "mesh3d": [
           {
            "colorbar": {
             "outlinewidth": 0,
             "ticks": ""
            },
            "type": "mesh3d"
           }
          ],
          "parcoords": [
           {
            "line": {
             "colorbar": {
              "outlinewidth": 0,
              "ticks": ""
             }
            },
            "type": "parcoords"
           }
          ],
          "pie": [
           {
            "automargin": true,
            "type": "pie"
           }
          ],
          "scatter": [
           {
            "fillpattern": {
             "fillmode": "overlay",
             "size": 10,
             "solidity": 0.2
            },
            "type": "scatter"
           }
          ],
          "scatter3d": [
           {
            "line": {
             "colorbar": {
              "outlinewidth": 0,
              "ticks": ""
             }
            },
            "marker": {
             "colorbar": {
              "outlinewidth": 0,
              "ticks": ""
             }
            },
            "type": "scatter3d"
           }
          ],
          "scattercarpet": [
           {
            "marker": {
             "colorbar": {
              "outlinewidth": 0,
              "ticks": ""
             }
            },
            "type": "scattercarpet"
           }
          ],
          "scattergeo": [
           {
            "marker": {
             "colorbar": {
              "outlinewidth": 0,
              "ticks": ""
             }
            },
            "type": "scattergeo"
           }
          ],
          "scattergl": [
           {
            "marker": {
             "colorbar": {
              "outlinewidth": 0,
              "ticks": ""
             }
            },
            "type": "scattergl"
           }
          ],
          "scattermap": [
           {
            "marker": {
             "colorbar": {
              "outlinewidth": 0,
              "ticks": ""
             }
            },
            "type": "scattermap"
           }
          ],
          "scattermapbox": [
           {
            "marker": {
             "colorbar": {
              "outlinewidth": 0,
              "ticks": ""
             }
            },
            "type": "scattermapbox"
           }
          ],
          "scatterpolar": [
           {
            "marker": {
             "colorbar": {
              "outlinewidth": 0,
              "ticks": ""
             }
            },
            "type": "scatterpolar"
           }
          ],
          "scatterpolargl": [
           {
            "marker": {
             "colorbar": {
              "outlinewidth": 0,
              "ticks": ""
             }
            },
            "type": "scatterpolargl"
           }
          ],
          "scatterternary": [
           {
            "marker": {
             "colorbar": {
              "outlinewidth": 0,
              "ticks": ""
             }
            },
            "type": "scatterternary"
           }
          ],
          "surface": [
           {
            "colorbar": {
             "outlinewidth": 0,
             "ticks": ""
            },
            "colorscale": [
             [
              0,
              "#0d0887"
             ],
             [
              0.1111111111111111,
              "#46039f"
             ],
             [
              0.2222222222222222,
              "#7201a8"
             ],
             [
              0.3333333333333333,
              "#9c179e"
             ],
             [
              0.4444444444444444,
              "#bd3786"
             ],
             [
              0.5555555555555556,
              "#d8576b"
             ],
             [
              0.6666666666666666,
              "#ed7953"
             ],
             [
              0.7777777777777778,
              "#fb9f3a"
             ],
             [
              0.8888888888888888,
              "#fdca26"
             ],
             [
              1,
              "#f0f921"
             ]
            ],
            "type": "surface"
           }
          ],
          "table": [
           {
            "cells": {
             "fill": {
              "color": "#EBF0F8"
             },
             "line": {
              "color": "white"
             }
            },
            "header": {
             "fill": {
              "color": "#C8D4E3"
             },
             "line": {
              "color": "white"
             }
            },
            "type": "table"
           }
          ]
         },
         "layout": {
          "annotationdefaults": {
           "arrowcolor": "#2a3f5f",
           "arrowhead": 0,
           "arrowwidth": 1
          },
          "autotypenumbers": "strict",
          "coloraxis": {
           "colorbar": {
            "outlinewidth": 0,
            "ticks": ""
           }
          },
          "colorscale": {
           "diverging": [
            [
             0,
             "#8e0152"
            ],
            [
             0.1,
             "#c51b7d"
            ],
            [
             0.2,
             "#de77ae"
            ],
            [
             0.3,
             "#f1b6da"
            ],
            [
             0.4,
             "#fde0ef"
            ],
            [
             0.5,
             "#f7f7f7"
            ],
            [
             0.6,
             "#e6f5d0"
            ],
            [
             0.7,
             "#b8e186"
            ],
            [
             0.8,
             "#7fbc41"
            ],
            [
             0.9,
             "#4d9221"
            ],
            [
             1,
             "#276419"
            ]
           ],
           "sequential": [
            [
             0,
             "#0d0887"
            ],
            [
             0.1111111111111111,
             "#46039f"
            ],
            [
             0.2222222222222222,
             "#7201a8"
            ],
            [
             0.3333333333333333,
             "#9c179e"
            ],
            [
             0.4444444444444444,
             "#bd3786"
            ],
            [
             0.5555555555555556,
             "#d8576b"
            ],
            [
             0.6666666666666666,
             "#ed7953"
            ],
            [
             0.7777777777777778,
             "#fb9f3a"
            ],
            [
             0.8888888888888888,
             "#fdca26"
            ],
            [
             1,
             "#f0f921"
            ]
           ],
           "sequentialminus": [
            [
             0,
             "#0d0887"
            ],
            [
             0.1111111111111111,
             "#46039f"
            ],
            [
             0.2222222222222222,
             "#7201a8"
            ],
            [
             0.3333333333333333,
             "#9c179e"
            ],
            [
             0.4444444444444444,
             "#bd3786"
            ],
            [
             0.5555555555555556,
             "#d8576b"
            ],
            [
             0.6666666666666666,
             "#ed7953"
            ],
            [
             0.7777777777777778,
             "#fb9f3a"
            ],
            [
             0.8888888888888888,
             "#fdca26"
            ],
            [
             1,
             "#f0f921"
            ]
           ]
          },
          "colorway": [
           "#636efa",
           "#EF553B",
           "#00cc96",
           "#ab63fa",
           "#FFA15A",
           "#19d3f3",
           "#FF6692",
           "#B6E880",
           "#FF97FF",
           "#FECB52"
          ],
          "font": {
           "color": "#2a3f5f"
          },
          "geo": {
           "bgcolor": "white",
           "lakecolor": "white",
           "landcolor": "#E5ECF6",
           "showlakes": true,
           "showland": true,
           "subunitcolor": "white"
          },
          "hoverlabel": {
           "align": "left"
          },
          "hovermode": "closest",
          "mapbox": {
           "style": "light"
          },
          "paper_bgcolor": "white",
          "plot_bgcolor": "#E5ECF6",
          "polar": {
           "angularaxis": {
            "gridcolor": "white",
            "linecolor": "white",
            "ticks": ""
           },
           "bgcolor": "#E5ECF6",
           "radialaxis": {
            "gridcolor": "white",
            "linecolor": "white",
            "ticks": ""
           }
          },
          "scene": {
           "xaxis": {
            "backgroundcolor": "#E5ECF6",
            "gridcolor": "white",
            "gridwidth": 2,
            "linecolor": "white",
            "showbackground": true,
            "ticks": "",
            "zerolinecolor": "white"
           },
           "yaxis": {
            "backgroundcolor": "#E5ECF6",
            "gridcolor": "white",
            "gridwidth": 2,
            "linecolor": "white",
            "showbackground": true,
            "ticks": "",
            "zerolinecolor": "white"
           },
           "zaxis": {
            "backgroundcolor": "#E5ECF6",
            "gridcolor": "white",
            "gridwidth": 2,
            "linecolor": "white",
            "showbackground": true,
            "ticks": "",
            "zerolinecolor": "white"
           }
          },
          "shapedefaults": {
           "line": {
            "color": "#2a3f5f"
           }
          },
          "ternary": {
           "aaxis": {
            "gridcolor": "white",
            "linecolor": "white",
            "ticks": ""
           },
           "baxis": {
            "gridcolor": "white",
            "linecolor": "white",
            "ticks": ""
           },
           "bgcolor": "#E5ECF6",
           "caxis": {
            "gridcolor": "white",
            "linecolor": "white",
            "ticks": ""
           }
          },
          "title": {
           "x": 0.05
          },
          "xaxis": {
           "automargin": true,
           "gridcolor": "white",
           "linecolor": "white",
           "ticks": "",
           "title": {
            "standoff": 15
           },
           "zerolinecolor": "white",
           "zerolinewidth": 2
          },
          "yaxis": {
           "automargin": true,
           "gridcolor": "white",
           "linecolor": "white",
           "ticks": "",
           "title": {
            "standoff": 15
           },
           "zerolinecolor": "white",
           "zerolinewidth": 2
          }
         }
        },
        "xaxis": {
         "anchor": "y",
         "domain": [
          0,
          1
         ],
         "title": {
          "text": "x"
         }
        },
        "yaxis": {
         "anchor": "x",
         "domain": [
          0,
          1
         ],
         "title": {
          "text": "y"
         }
        }
       }
      }
     },
     "metadata": {},
     "output_type": "display_data"
    }
   ],
   "source": [
    "import plotly.express as px\n",
    "\n",
    "fig = px.scatter(data, x=\"x\", y=\"y\", color=\"id\", symbol=\"class\")\n",
    "fig.show()"
   ]
  },
  {
   "cell_type": "code",
   "execution_count": null,
   "id": "cbb91814",
   "metadata": {},
   "outputs": [],
   "source": [
    "#Plot vs all truth\n",
    "all = truth_df.drop([\"supertype\", \"image\", \"name\"], axis = 1)\n",
    "all[\"class\"] = \"truth\"\n",
    "all.shape"
   ]
  },
  {
   "cell_type": "code",
   "execution_count": null,
   "id": "54939ee7",
   "metadata": {},
   "outputs": [],
   "source": [
    "data2 = pd.concat([cap_df, all], axis=0, ignore_index=True)\n",
    "\n",
    "m = TSNE(learning_rate=500)\n",
    "\n",
    "flat_data2 = np.stack(data2[\"emb\"].values)\n",
    "\n",
    "tsne_features2 = m.fit_transform(flat_data2)\n",
    "\n",
    "data2[\"x\"] = tsne_features2[:,0]\n",
    "data2[\"y\"] = tsne_features2[:,1]\n",
    "\n",
    "fig = px.scatter(data2, x=\"x\", y=\"y\", color=\"id\", symbol=\"class\")\n",
    "fig.show()"
   ]
  }
 ],
 "metadata": {
  "kernelspec": {
   "display_name": "Gastly",
   "language": "python",
   "name": "python3"
  },
  "language_info": {
   "codemirror_mode": {
    "name": "ipython",
    "version": 3
   },
   "file_extension": ".py",
   "mimetype": "text/x-python",
   "name": "python",
   "nbconvert_exporter": "python",
   "pygments_lexer": "ipython3",
   "version": "3.12.11"
  }
 },
 "nbformat": 4,
 "nbformat_minor": 5
}
