{
 "cells": [
  {
   "cell_type": "code",
   "execution_count": 227,
   "id": "0c2c18ed",
   "metadata": {},
   "outputs": [],
   "source": [
    "from PIL import Image, ImageDraw\n",
    "import os\n",
    "from random import randint, uniform\n",
    "import numpy as np\n",
    "import pandas as pd\n",
    "import copy\n",
    "from pathlib import Path\n",
    "import Utils.img_utils as iu"
   ]
  },
  {
   "cell_type": "code",
   "execution_count": null,
   "id": "c3f979d6",
   "metadata": {},
   "outputs": [],
   "source": [
    "#Set Parameters\n",
    "\n",
    "purge = True\n",
    "\n",
    "cards_location = \"Datasets/Images/Cards\"\n",
    "bg_location = \"Datasets/Images/Backgrounds\"\n",
    "yolo_location_img = \"Datasets/YoloFineTuning/images\"\n",
    "yolo_location_labs = \"Datasets/YoloFineTuning/labels\"\n",
    "\n",
    "training_size = 750\n",
    "val_size = 250"
   ]
  },
  {
   "cell_type": "code",
   "execution_count": 229,
   "id": "0b63f306",
   "metadata": {},
   "outputs": [],
   "source": [
    "def createDataSet(card_list, bg_list, CARD_DIR, BG_DIR, number):\n",
    "\n",
    "    data = pd.DataFrame(columns=[\"img\", \"bbox\"])\n",
    "    sanity_check = pd.DataFrame(columns=[\"img\", \"bbox\"])\n",
    "\n",
    "    for i in range(0, number):\n",
    "        \n",
    "        y = iu.randomCard(card_list, CARD_DIR)\n",
    "        y = iu.adjustBrightness(y)\n",
    "        y = iu.adjustContrast(y)\n",
    "\n",
    "        x = iu.randomBackground(bg_list, BG_DIR)\n",
    "        x = iu.adjustBrightness(x)\n",
    "        x = iu.adjustContrast(x)\n",
    "\n",
    "        img, bbox = iu.placeCard(y, iu.addNoise(x, 10), min_size=30) #add noise to BG\n",
    "        img = iu.addNoise(img, 10) #add noise to combined img\n",
    "\n",
    "        #Make a copy with the box\n",
    "        box_img = copy.copy(img)\n",
    "        box_img = iu.drawBox(box_img, bbox)\n",
    "\n",
    "        img = img.convert(\"RGB\")\n",
    "        box_img = box_img.convert(\"RGB\")\n",
    "\n",
    "        data.loc[len(data)] = img, bbox\n",
    "        sanity_check.loc[len(sanity_check)] = box_img, bbox\n",
    "\n",
    "    return data, sanity_check\n",
    "    \n",
    "def saveDataSet(yolo_img_dir, yolo_lab_dir, set_type, data):\n",
    "\n",
    "    for index, row in data.iterrows():\n",
    "        \n",
    "        row[\"img\"].save(f\"{yolo_img_dir}/{set_type}/{index}.png\")\n",
    "\n",
    "        with open(f\"{yolo_lab_dir}/{set_type}/{index}.txt\", \"w\") as f:\n",
    "        \n",
    "            box = iu.yoloBbox(row[\"bbox\"], (256, 256))\n",
    "\n",
    "            f.write(f\"0 {box[0]} {box[1]} {box[2]} {box[3]}\")\n",
    "\n",
    "def purgeYoloSet(folder):\n",
    "\n",
    "    folder = Path(folder)\n",
    "\n",
    "    for file in folder.iterdir():\n",
    "        if file.is_file():\n",
    "            file.unlink()"
   ]
  },
  {
   "cell_type": "code",
   "execution_count": 230,
   "id": "53038d0c",
   "metadata": {},
   "outputs": [],
   "source": [
    "if purge:\n",
    "    purgeYoloSet(yolo_location_img + \"/train\")\n",
    "    purgeYoloSet(yolo_location_img + \"/val\")\n",
    "    purgeYoloSet(yolo_location_labs + \"/train\")\n",
    "    purgeYoloSet(yolo_location_labs + \"/val\")"
   ]
  },
  {
   "cell_type": "code",
   "execution_count": 231,
   "id": "4fc118b7",
   "metadata": {},
   "outputs": [],
   "source": [
    "#training_data, tr_sanity = createDataSet(os.listdir(cards_location), os.listdir(bg_location), cards_location, bg_location , 1)\n",
    "\n",
    "#display(training_data[\"img\"].iloc[0])\n",
    "#display(tr_sanity[\"img\"].iloc[0])\n",
    "\n",
    "##################################################################################################################################\n",
    "\n",
    "training_data, tr_sanity = createDataSet(os.listdir(cards_location), os.listdir(bg_location), cards_location, bg_location , training_size)\n",
    "\n",
    "saveDataSet(yolo_location_img, yolo_location_labs, \"train\", training_data)\n",
    "\n",
    "##################################################################################################################################\n",
    "\n",
    "val_data, v_sanity = createDataSet(os.listdir(cards_location), os.listdir(bg_location), cards_location, bg_location , val_size)\n",
    "\n",
    "saveDataSet(yolo_location_img, yolo_location_labs, \"val\", val_data)\n",
    "\n",
    "##################################################################################################################################\n",
    " "
   ]
  }
 ],
 "metadata": {
  "kernelspec": {
   "display_name": "Gastly",
   "language": "python",
   "name": "python3"
  },
  "language_info": {
   "codemirror_mode": {
    "name": "ipython",
    "version": 3
   },
   "file_extension": ".py",
   "mimetype": "text/x-python",
   "name": "python",
   "nbconvert_exporter": "python",
   "pygments_lexer": "ipython3",
   "version": "3.12.11"
  }
 },
 "nbformat": 4,
 "nbformat_minor": 5
}
